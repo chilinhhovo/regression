{
 "cells": [
  {
   "cell_type": "markdown",
   "metadata": {},
   "source": [
    "## Setup Python and R environment\n",
    "you can ignore this section"
   ]
  },
  {
   "cell_type": "code",
   "execution_count": 1,
   "metadata": {},
   "outputs": [],
   "source": [
    "%load_ext rpy2.ipython\n",
    "%load_ext autoreload\n",
    "%autoreload 2\n",
    "\n",
    "%matplotlib inline  \n",
    "from matplotlib import rcParams\n",
    "rcParams['figure.figsize'] = (16, 100)\n",
    "\n",
    "import warnings\n",
    "from rpy2.rinterface import RRuntimeWarning\n",
    "warnings.filterwarnings(\"ignore\") # Ignore all warnings\n",
    "# warnings.filterwarnings(\"ignore\", category=RRuntimeWarning) # Show some warnings\n",
    "\n",
    "import pandas as pd\n",
    "import numpy as np\n",
    "import matplotlib.pyplot as plt\n",
    "from IPython.display import display, HTML"
   ]
  },
  {
   "cell_type": "code",
   "execution_count": 2,
   "metadata": {},
   "outputs": [
    {
     "data": {
      "application/javascript": [
       "// Disable auto-scrolling\n",
       "IPython.OutputArea.prototype._should_scroll = function(lines) {\n",
       "    return false;\n",
       "}\n"
      ],
      "text/plain": [
       "<IPython.core.display.Javascript object>"
      ]
     },
     "metadata": {},
     "output_type": "display_data"
    }
   ],
   "source": [
    "%%javascript\n",
    "// Disable auto-scrolling\n",
    "IPython.OutputArea.prototype._should_scroll = function(lines) {\n",
    "    return false;\n",
    "}"
   ]
  },
  {
   "cell_type": "code",
   "execution_count": 3,
   "metadata": {},
   "outputs": [
    {
     "name": "stdout",
     "output_type": "stream",
     "text": [
      "── Attaching core tidyverse packages ──────────────────────── tidyverse 2.0.0 ──\n",
      "✔ dplyr     1.1.4     ✔ readr     2.1.5\n",
      "✔ forcats   1.0.0     ✔ stringr   1.5.1\n",
      "✔ ggplot2   3.5.2     ✔ tibble    3.2.1\n",
      "✔ lubridate 1.9.4     ✔ tidyr     1.3.1\n",
      "✔ purrr     1.0.4     \n",
      "── Conflicts ────────────────────────────────────────── tidyverse_conflicts() ──\n",
      "✖ dplyr::filter() masks stats::filter()\n",
      "✖ dplyr::lag()    masks stats::lag()\n",
      "ℹ Use the conflicted package (<http://conflicted.r-lib.org/>) to force all conflicts to become errors\n"
     ]
    },
    {
     "data": {
      "text/plain": [
       "Loading required package: tidyverse\n"
      ]
     },
     "metadata": {},
     "output_type": "display_data"
    }
   ],
   "source": [
    "%%R\n",
    "\n",
    "# My commonly used R imports\n",
    "\n",
    "require('tidyverse')"
   ]
  },
  {
   "cell_type": "code",
   "execution_count": 12,
   "metadata": {},
   "outputs": [
    {
     "name": "stdout",
     "output_type": "stream",
     "text": [
      "Rows: 148917888 Columns: 28\n",
      "── Column specification ────────────────────────────────────────────────────────\n",
      "Delimiter: \",\"\n",
      "chr  (5): lei, state_code, county_code, derived_dwelling_category, property_...\n",
      "dbl (23): activity_year, action_taken, loan_purpose, lien_status, loan_amoun...\n",
      "\n",
      "ℹ Use `spec()` to retrieve the full column specification for this data.\n",
      "ℹ Specify the column types or set `show_col_types = FALSE` to quiet this message.\n"
     ]
    }
   ],
   "source": [
    "%%R \n",
    "df <- read_csv(\"merged_hmda_with_demo.csv\")\n"
   ]
  },
  {
   "cell_type": "code",
   "execution_count": 4,
   "metadata": {},
   "outputs": [
    {
     "name": "stdout",
     "output_type": "stream",
     "text": [
      "NULL\n"
     ]
    }
   ],
   "source": [
    "%%R \n",
    "print(colnames(df))"
   ]
  },
  {
   "cell_type": "code",
   "execution_count": 15,
   "metadata": {
    "scrolled": true
   },
   "outputs": [],
   "source": [
    "# %%R\n",
    "# library(dplyr)\n",
    "\n",
    "# # Make sure df is already loaded\n",
    "\n",
    "# # Filter and add \"approved\" binary\n",
    "# df <- df %>%\n",
    "#   filter(activity_year >= 2015 & activity_year <= 2023) %>%\n",
    "#   filter(state_code %in% c(\"ND\", \"OK\", \"TN\", \"IA\", \"ID\", \"FL\", \"MO\", \"MT\", \"NH\", \"OH\")) %>%\n",
    "#   mutate(\n",
    "#     approved = ifelse(action_taken == 1, 1, 0)\n",
    "#   ) %>%\n",
    "#   select(activity_year, lei, state_code, county_code, action_taken,\n",
    "#          loan_amount, income, `applicant_race-1`, approved)\n"
   ]
  },
  {
   "cell_type": "code",
   "execution_count": 16,
   "metadata": {},
   "outputs": [
    {
     "data": {
      "application/javascript": [
       "// Disable auto-scrolling\n",
       "IPython.OutputArea.prototype._should_scroll = function(lines) {\n",
       "    return false;\n",
       "}\n"
      ],
      "text/plain": [
       "<IPython.core.display.Javascript object>"
      ]
     },
     "metadata": {},
     "output_type": "display_data"
    }
   ],
   "source": [
    "%%javascript\n",
    "// Disable auto-scrolling\n",
    "IPython.OutputArea.prototype._should_scroll = function(lines) {\n",
    "    return false;\n",
    "}"
   ]
  },
  {
   "cell_type": "code",
   "execution_count": 17,
   "metadata": {},
   "outputs": [],
   "source": [
    "%%R\n",
    "\n",
    "# My commonly used R imports\n",
    "\n",
    "require('tidyverse')"
   ]
  },
  {
   "cell_type": "markdown",
   "metadata": {},
   "source": [
    "## Load & Clean Data\n",
    "\n",
    "👉 Load the data along with the census connectors below (the output of the `connect-to-census.ipynb` notebook) and do any cleanup you'd like to do."
   ]
  },
  {
   "cell_type": "code",
   "execution_count": 4,
   "metadata": {},
   "outputs": [],
   "source": [
    "import pandas as pd \n",
    "df_hmda = pd.read_csv('hmda_all_years_cleaned.csv')"
   ]
  },
  {
   "cell_type": "code",
   "execution_count": 5,
   "metadata": {},
   "outputs": [],
   "source": [
    "# def clean_county_code(x):\n",
    "#     try:\n",
    "#         return str(int(float(x)))\n",
    "#     except:\n",
    "#         return None\n",
    "\n",
    "# df_hmda['county_code'] = df_hmda['county_code'].apply(clean_county_code)\n"
   ]
  },
  {
   "cell_type": "code",
   "execution_count": 6,
   "metadata": {},
   "outputs": [],
   "source": [
    "# df_hmda.sort_values(by='loan_amount', ascending=False).head()"
   ]
  },
  {
   "cell_type": "code",
   "execution_count": 7,
   "metadata": {},
   "outputs": [],
   "source": [
    "# df_hmda.to_csv('hmda_all_years_cleaned.csv', index=False)"
   ]
  },
  {
   "cell_type": "markdown",
   "metadata": {},
   "source": [
    "## 👉 Grab Census Data"
   ]
  },
  {
   "cell_type": "markdown",
   "metadata": {},
   "source": [
    "1. loading the Census API key"
   ]
  },
  {
   "cell_type": "code",
   "execution_count": 5,
   "metadata": {},
   "outputs": [
    {
     "data": {
      "text/plain": [
       "False"
      ]
     },
     "execution_count": 5,
     "metadata": {},
     "output_type": "execute_result"
    }
   ],
   "source": [
    "import dotenv\n",
    "\n",
    "# Load the environment variables\n",
    "# (loads CENSUS_API_KEY from .env)\n",
    "dotenv.load_dotenv()\n"
   ]
  },
  {
   "cell_type": "code",
   "execution_count": 6,
   "metadata": {},
   "outputs": [
    {
     "data": {
      "text/plain": [
       "Loading required package: tidycensus\n",
       "To install your API key for use in future sessions, run this function with `install = TRUE`.\n"
      ]
     },
     "metadata": {},
     "output_type": "display_data"
    }
   ],
   "source": [
    "%%R \n",
    "\n",
    "require('tidycensus')\n",
    "\n",
    "# because it an environment variable, we don't have to \n",
    "# explicitly pass this string to R, it is readable here\n",
    "# in this R cell.\n",
    "census_api_key(Sys.getenv(\"CENSUS_API_KEY\"))"
   ]
  },
  {
   "cell_type": "markdown",
   "metadata": {},
   "source": [
    "2. Decide which Census variables you want\n",
    "\n",
    "    Use <https://censusreporter.org/> to figure out which tables you want. (if censusreporter is down, check out the code in the cell below)\n",
    "\n",
    "    -   Scroll to the bottom of the page to see the tables.\n",
    "    -   If you already know the table ID, stick that in the \"Explore\" section to learn more about that table.\n",
    "\n",
    "    By default this code loads (B01003_001) which we found in censusreporter here: https://censusreporter.org/tables/B01003/\n",
    "\n",
    "    - find some other variables that you're also interested in\n",
    "    - don't forget to pick a geography like \"tract\", \"county\" or \"block group\". here is the list of [all geographies](https://walker-data.com/tidycensus/articles/basic-usage.html#geography-in-tidycensus\n",
    "    ).\n"
   ]
  },
  {
   "cell_type": "code",
   "execution_count": 7,
   "metadata": {},
   "outputs": [
    {
     "data": {
      "text/plain": [
       "Getting data from the 2017-2021 5-year ACS\n"
      ]
     },
     "metadata": {},
     "output_type": "display_data"
    }
   ],
   "source": [
    "%%R\n",
    "library(tidycensus)\n",
    "\n",
    "us_county_data <- get_acs(\n",
    "  geography = \"county\",\n",
    "  variables = c(\n",
    "    median_household_income = \"B19013_001\",\n",
    "    population = \"B01003_001\",\n",
    "    white = \"B02001_002\",\n",
    "    black = \"B02001_003\",\n",
    "    hispanic = \"B03003_003\",\n",
    "    GINI_inequality = \"B19083_001\",\n",
    "    employment_rate = \"B23025_002\"\n",
    "\n",
    "  ),\n",
    "  year = 2021,\n",
    "  survey = \"acs5\",\n",
    "  geometry = FALSE,\n",
    "  cache_table = TRUE\n",
    ")\n",
    "\n",
    "# Save to CSV so you can use in Python\n",
    "write.csv(us_county_data, \"county_demographics_raw.csv\", row.names = FALSE)\n"
   ]
  },
  {
   "cell_type": "code",
   "execution_count": 8,
   "metadata": {},
   "outputs": [],
   "source": [
    "df_demo = pd.read_csv(\"county_demographics_raw.csv\")"
   ]
  },
  {
   "cell_type": "code",
   "execution_count": 9,
   "metadata": {},
   "outputs": [],
   "source": [
    "df_demo[\"GEOID\"] = df_demo[\"GEOID\"].astype(str).str.zfill(5)"
   ]
  },
  {
   "cell_type": "code",
   "execution_count": 10,
   "metadata": {},
   "outputs": [],
   "source": [
    "def clean_fips(x):\n",
    "    try:\n",
    "        return str(int(float(x))).zfill(5)\n",
    "    except:\n",
    "        return None\n",
    "\n",
    "df_hmda[\"county_code\"] = df_hmda[\"county_code\"].apply(clean_fips)\n"
   ]
  },
  {
   "cell_type": "code",
   "execution_count": 11,
   "metadata": {},
   "outputs": [],
   "source": [
    "df_hmda[\"county_code\"] = df_hmda[\"county_code\"].apply(\n",
    "    lambda x: str(int(float(x))).zfill(5) if pd.notnull(x) else None\n",
    ")"
   ]
  },
  {
   "cell_type": "code",
   "execution_count": 12,
   "metadata": {},
   "outputs": [],
   "source": [
    "# Pivot\n",
    "df_demo_wide = df_demo.pivot(index=\"GEOID\", columns=\"variable\", values=\"estimate\").reset_index()\n",
    "\n",
    "# Rename to match merge key\n",
    "df_demo_wide = df_demo_wide.rename(columns={\"GEOID\": \"county_code\"})\n",
    "\n",
    "# Fix key in HMDA data to be 5-digit string\n",
    "df_hmda[\"county_code\"] = df_hmda[\"county_code\"].astype(str).str.zfill(5)\n",
    "df_demo_wide[\"county_code\"] = df_demo_wide[\"county_code\"].astype(str).str.zfill(5)\n",
    "\n",
    "# Merge!\n",
    "df_hmda_merged = df_hmda.merge(df_demo_wide, on=\"county_code\", how=\"left\")\n"
   ]
  },
  {
   "cell_type": "code",
   "execution_count": 13,
   "metadata": {},
   "outputs": [
    {
     "data": {
      "text/html": [
       "<div>\n",
       "<style scoped>\n",
       "    .dataframe tbody tr th:only-of-type {\n",
       "        vertical-align: middle;\n",
       "    }\n",
       "\n",
       "    .dataframe tbody tr th {\n",
       "        vertical-align: top;\n",
       "    }\n",
       "\n",
       "    .dataframe thead th {\n",
       "        text-align: right;\n",
       "    }\n",
       "</style>\n",
       "<table border=\"1\" class=\"dataframe\">\n",
       "  <thead>\n",
       "    <tr style=\"text-align: right;\">\n",
       "      <th></th>\n",
       "      <th>activity_year</th>\n",
       "      <th>lei</th>\n",
       "      <th>state_code</th>\n",
       "      <th>county_code</th>\n",
       "      <th>derived_dwelling_category</th>\n",
       "      <th>action_taken</th>\n",
       "      <th>loan_purpose</th>\n",
       "      <th>lien_status</th>\n",
       "      <th>loan_amount</th>\n",
       "      <th>property_value</th>\n",
       "      <th>...</th>\n",
       "      <th>aus-5</th>\n",
       "      <th>denial_reason-1</th>\n",
       "      <th>ffiec_msa_md_median_family_income</th>\n",
       "      <th>GINI_inequality</th>\n",
       "      <th>black</th>\n",
       "      <th>employment_rate</th>\n",
       "      <th>hispanic</th>\n",
       "      <th>median_household_income</th>\n",
       "      <th>population</th>\n",
       "      <th>white</th>\n",
       "    </tr>\n",
       "  </thead>\n",
       "  <tbody>\n",
       "    <tr>\n",
       "      <th>0</th>\n",
       "      <td>2015</td>\n",
       "      <td>NaN</td>\n",
       "      <td>6</td>\n",
       "      <td>06065</td>\n",
       "      <td>NaN</td>\n",
       "      <td>1</td>\n",
       "      <td>1</td>\n",
       "      <td>1</td>\n",
       "      <td>265.0</td>\n",
       "      <td>NaN</td>\n",
       "      <td>...</td>\n",
       "      <td>NaN</td>\n",
       "      <td>NaN</td>\n",
       "      <td>60500.0</td>\n",
       "      <td>0.4524</td>\n",
       "      <td>156255.0</td>\n",
       "      <td>1131857.0</td>\n",
       "      <td>1211185.0</td>\n",
       "      <td>76066.0</td>\n",
       "      <td>2409331.0</td>\n",
       "      <td>1232550.0</td>\n",
       "    </tr>\n",
       "    <tr>\n",
       "      <th>1</th>\n",
       "      <td>2015</td>\n",
       "      <td>NaN</td>\n",
       "      <td>27</td>\n",
       "      <td>27147</td>\n",
       "      <td>NaN</td>\n",
       "      <td>6</td>\n",
       "      <td>3</td>\n",
       "      <td>4</td>\n",
       "      <td>151.0</td>\n",
       "      <td>NaN</td>\n",
       "      <td>...</td>\n",
       "      <td>NaN</td>\n",
       "      <td>NaN</td>\n",
       "      <td>63600.0</td>\n",
       "      <td>0.4266</td>\n",
       "      <td>1247.0</td>\n",
       "      <td>19762.0</td>\n",
       "      <td>3033.0</td>\n",
       "      <td>73468.0</td>\n",
       "      <td>37363.0</td>\n",
       "      <td>33644.0</td>\n",
       "    </tr>\n",
       "    <tr>\n",
       "      <th>2</th>\n",
       "      <td>2015</td>\n",
       "      <td>NaN</td>\n",
       "      <td>41</td>\n",
       "      <td>41009</td>\n",
       "      <td>NaN</td>\n",
       "      <td>1</td>\n",
       "      <td>1</td>\n",
       "      <td>1</td>\n",
       "      <td>148.0</td>\n",
       "      <td>NaN</td>\n",
       "      <td>...</td>\n",
       "      <td>NaN</td>\n",
       "      <td>NaN</td>\n",
       "      <td>73900.0</td>\n",
       "      <td>0.4079</td>\n",
       "      <td>264.0</td>\n",
       "      <td>25139.0</td>\n",
       "      <td>3007.0</td>\n",
       "      <td>73909.0</td>\n",
       "      <td>52381.0</td>\n",
       "      <td>46948.0</td>\n",
       "    </tr>\n",
       "    <tr>\n",
       "      <th>3</th>\n",
       "      <td>2015</td>\n",
       "      <td>NaN</td>\n",
       "      <td>8</td>\n",
       "      <td>08014</td>\n",
       "      <td>NaN</td>\n",
       "      <td>1</td>\n",
       "      <td>3</td>\n",
       "      <td>1</td>\n",
       "      <td>152.0</td>\n",
       "      <td>NaN</td>\n",
       "      <td>...</td>\n",
       "      <td>NaN</td>\n",
       "      <td>NaN</td>\n",
       "      <td>79900.0</td>\n",
       "      <td>0.4085</td>\n",
       "      <td>1032.0</td>\n",
       "      <td>42638.0</td>\n",
       "      <td>9409.0</td>\n",
       "      <td>107570.0</td>\n",
       "      <td>72697.0</td>\n",
       "      <td>60366.0</td>\n",
       "    </tr>\n",
       "    <tr>\n",
       "      <th>4</th>\n",
       "      <td>2015</td>\n",
       "      <td>NaN</td>\n",
       "      <td>6</td>\n",
       "      <td>06039</td>\n",
       "      <td>NaN</td>\n",
       "      <td>6</td>\n",
       "      <td>1</td>\n",
       "      <td>4</td>\n",
       "      <td>161.0</td>\n",
       "      <td>NaN</td>\n",
       "      <td>...</td>\n",
       "      <td>NaN</td>\n",
       "      <td>NaN</td>\n",
       "      <td>45800.0</td>\n",
       "      <td>0.4388</td>\n",
       "      <td>4645.0</td>\n",
       "      <td>65719.0</td>\n",
       "      <td>92400.0</td>\n",
       "      <td>66709.0</td>\n",
       "      <td>156304.0</td>\n",
       "      <td>85946.0</td>\n",
       "    </tr>\n",
       "  </tbody>\n",
       "</table>\n",
       "<p>5 rows × 28 columns</p>\n",
       "</div>"
      ],
      "text/plain": [
       "   activity_year  lei state_code county_code derived_dwelling_category  \\\n",
       "0           2015  NaN          6       06065                       NaN   \n",
       "1           2015  NaN         27       27147                       NaN   \n",
       "2           2015  NaN         41       41009                       NaN   \n",
       "3           2015  NaN          8       08014                       NaN   \n",
       "4           2015  NaN          6       06039                       NaN   \n",
       "\n",
       "   action_taken  loan_purpose  lien_status  loan_amount property_value  ...  \\\n",
       "0             1             1            1        265.0            NaN  ...   \n",
       "1             6             3            4        151.0            NaN  ...   \n",
       "2             1             1            1        148.0            NaN  ...   \n",
       "3             1             3            1        152.0            NaN  ...   \n",
       "4             6             1            4        161.0            NaN  ...   \n",
       "\n",
       "   aus-5  denial_reason-1  ffiec_msa_md_median_family_income  GINI_inequality  \\\n",
       "0    NaN              NaN                            60500.0           0.4524   \n",
       "1    NaN              NaN                            63600.0           0.4266   \n",
       "2    NaN              NaN                            73900.0           0.4079   \n",
       "3    NaN              NaN                            79900.0           0.4085   \n",
       "4    NaN              NaN                            45800.0           0.4388   \n",
       "\n",
       "      black  employment_rate   hispanic  median_household_income  population  \\\n",
       "0  156255.0        1131857.0  1211185.0                  76066.0   2409331.0   \n",
       "1    1247.0          19762.0     3033.0                  73468.0     37363.0   \n",
       "2     264.0          25139.0     3007.0                  73909.0     52381.0   \n",
       "3    1032.0          42638.0     9409.0                 107570.0     72697.0   \n",
       "4    4645.0          65719.0    92400.0                  66709.0    156304.0   \n",
       "\n",
       "       white  \n",
       "0  1232550.0  \n",
       "1    33644.0  \n",
       "2    46948.0  \n",
       "3    60366.0  \n",
       "4    85946.0  \n",
       "\n",
       "[5 rows x 28 columns]"
      ]
     },
     "execution_count": 13,
     "metadata": {},
     "output_type": "execute_result"
    }
   ],
   "source": [
    "df_hmda_merged.head()"
   ]
  },
  {
   "cell_type": "code",
   "execution_count": 14,
   "metadata": {},
   "outputs": [],
   "source": [
    "#Create a new column for approved loans \n",
    "df_hmda_merged['approved'] = df_hmda_merged['action_taken'].apply(lambda x: 1 if x == 1 else 0)\n"
   ]
  },
  {
   "cell_type": "code",
   "execution_count": 15,
   "metadata": {},
   "outputs": [],
   "source": [
    "#Create a new column for post-georgefloyd loans\n",
    "df_hmda_merged['post_georgefloyd'] = df_hmda_merged['activity_year'].apply(lambda x: 1 if x >= 2020 else 0)\n",
    "\n"
   ]
  },
  {
   "cell_type": "code",
   "execution_count": 31,
   "metadata": {},
   "outputs": [],
   "source": [
    "# df_1=df_hmda_merged.head(30)\n",
    "# df_1.to_csv(\"hmda_merged_with_demo_30.csv\", index=False)"
   ]
  },
  {
   "cell_type": "code",
   "execution_count": 16,
   "metadata": {},
   "outputs": [],
   "source": [
    "df_hmda_merged.to_csv(\"hmda_merged_with_demo.csv\", index=False)"
   ]
  },
  {
   "cell_type": "markdown",
   "metadata": {},
   "source": [
    "Moving into R "
   ]
  },
  {
   "cell_type": "code",
   "execution_count": 17,
   "metadata": {},
   "outputs": [],
   "source": [
    "%%R\n",
    "df <- read.csv(\"hmda_merged_with_demo.csv\")"
   ]
  },
  {
   "cell_type": "code",
   "execution_count": 18,
   "metadata": {},
   "outputs": [
    {
     "data": {
      "text/plain": [
       "In addition: Warning message:\n",
       "There was 1 warning in `mutate()`.\n",
       "ℹ In argument: `county_code =\n",
       "  as.character(as.integer(as.numeric(county_code)))`.\n",
       "Caused by warning:\n",
       "! NAs introduced by coercion \n"
      ]
     },
     "metadata": {},
     "output_type": "display_data"
    }
   ],
   "source": [
    "%%R \n",
    "\n",
    "# Create binary outcome\n",
    "df <- df %>%\n",
    "  mutate(\n",
    "    approved = ifelse(action_taken == 1, 1, 0),\n",
    "    county_code = as.character(as.integer(as.numeric(county_code)))\n",
    "  )\n"
   ]
  },
  {
   "cell_type": "code",
   "execution_count": 19,
   "metadata": {},
   "outputs": [],
   "source": [
    "# %%R\n",
    "# install.packages(\"fixest\")"
   ]
  },
  {
   "cell_type": "code",
   "execution_count": 20,
   "metadata": {},
   "outputs": [],
   "source": [
    "%%R\n",
    "df <- df %>%\n",
    "  mutate(post_georgefloyd = ifelse(activity_year >= 2020, 1, 0))\n"
   ]
  },
  {
   "cell_type": "code",
   "execution_count": 25,
   "metadata": {},
   "outputs": [],
   "source": [
    "%%R\n",
    "df_clean <- df %>%\n",
    "  mutate(\n",
    "    black_applicant = ifelse(`applicant_race.1` == 3, 1, 0)\n",
    "  )\n"
   ]
  },
  {
   "cell_type": "code",
   "execution_count": 26,
   "metadata": {},
   "outputs": [],
   "source": [
    "# %%R\n",
    "# colnames(df)\n"
   ]
  },
  {
   "cell_type": "code",
   "execution_count": 27,
   "metadata": {},
   "outputs": [
    {
     "name": "stdout",
     "output_type": "stream",
     "text": [
      "OLS estimation, Dep. Var.: approved\n",
      "Observations: 146,240,578\n",
      "Fixed-effects: county_code: 3,220,  activity_year: 9,  lei: 6,355\n",
      "Standard-errors: Clustered (county_code) \n",
      "                                  Estimate Std. Error    t value   Pr(>|t|)    \n",
      "black_applicant                  -0.047051   0.003027 -15.544696  < 2.2e-16 ***\n",
      "employment_rate                   0.000026   1.283718   0.000020 9.9998e-01    \n",
      "post_georgefloyd:black_applicant  0.009455   0.001182   7.999526 1.7263e-15 ***\n",
      "... 1 variable was removed because of collinearity (post_georgefloyd)\n",
      "---\n",
      "Signif. codes:  0 '***' 0.001 '**' 0.01 '*' 0.05 '.' 0.1 ' ' 1\n",
      "RMSE: 0.453457     Adj. R2: 0.164052\n",
      "                 Within R2: 4.914e-4\n"
     ]
    },
    {
     "data": {
      "text/plain": [
       "NOTE: 2,677,310 observations removed because of NA values (RHS: 2,677,310, Fixed-effects: 2,071,131).\n",
       "The variable 'post_georgefloyd' has been removed because of collinearity (see $collin.var).\n"
      ]
     },
     "metadata": {},
     "output_type": "display_data"
    }
   ],
   "source": [
    "%%R\n",
    "##Use black applicant number and loan level instead of county % \n",
    "library(fixest)\n",
    "\n",
    "fe_model <- feols(\n",
    "  approved ~ post_georgefloyd * black_applicant + employment_rate | county_code + activity_year + lei,\n",
    "  data = df_clean\n",
    ")\n",
    "\n",
    "summary(fe_model)\n",
    "#Before 2020, Black applicants were 4.5 percentage points less likely to be approved compared to non-Black applicants, After 2020, the racial approval gap for Black applicants narrowed slightly by 0.6 points"
   ]
  },
  {
   "cell_type": "code",
   "execution_count": 35,
   "metadata": {},
   "outputs": [],
   "source": [
    "%%R\n",
    "dei_states <- c(\"ND\", \"OK\", \"TN\", \"IA\", \"ID\", \"FL\", \"MO\", \"MT\", \"NH\", \"OH\")\n",
    "\n",
    "df_clean <- df_clean %>%\n",
    "  mutate(\n",
    "    anti_dei_state = ifelse(state_code %in% dei_states, 1, 0)\n",
    "  )\n"
   ]
  },
  {
   "cell_type": "code",
   "execution_count": 36,
   "metadata": {},
   "outputs": [],
   "source": [
    "%%R\n",
    "df_clean <- df_clean %>%\n",
    "  mutate(post_dei_law = ifelse(activity_year >= 2022, 1, 0))\n"
   ]
  },
  {
   "cell_type": "code",
   "execution_count": 40,
   "metadata": {},
   "outputs": [
    {
     "name": "stdout",
     "output_type": "stream",
     "text": [
      "Error: vector memory limit of 128.0 Gb reached, see mem.maxVSize()\n",
      "Error: no more error handlers available (recursive errors?); invoking 'abort' restart\n",
      "Error: vector memory limit of 128.0 Gb reached, see mem.maxVSize()\n"
     ]
    },
    {
     "ename": "RInterpreterError",
     "evalue": "Failed to parse and evaluate line 'glm_dei <- glm(\\n  approved ~ post_dei_law * anti_dei_state + black_applicant + income + loan_amount + debt_to_income,\\n  data = df_clean,\\n  family = binomial()\\n)\\n\\nsummary(glm_dei)\\n'.\nR error message: 'Error: vector memory limit of 128.0 Gb reached, see mem.maxVSize()'\nR stdout:\nError: vector memory limit of 128.0 Gb reached, see mem.maxVSize()\nError: no more error handlers available (recursive errors?); invoking 'abort' restart",
     "output_type": "error",
     "traceback": [
      "\u001b[0;31m---------------------------------------------------------------------------\u001b[0m",
      "\u001b[0;31mRRuntimeError\u001b[0m                             Traceback (most recent call last)",
      "File \u001b[0;32m~/.pyenv/versions/3.10.12/lib/python3.10/site-packages/rpy2/ipython/rmagic.py:407\u001b[0m, in \u001b[0;36mRMagics.eval\u001b[0;34m(self, code)\u001b[0m\n\u001b[1;32m    406\u001b[0m     r_expr \u001b[38;5;241m=\u001b[39m ri\u001b[38;5;241m.\u001b[39mparse(code)\n\u001b[0;32m--> 407\u001b[0m     value, visible \u001b[38;5;241m=\u001b[39m \u001b[43mri\u001b[49m\u001b[38;5;241;43m.\u001b[39;49m\u001b[43mevalr_expr_with_visible\u001b[49m\u001b[43m(\u001b[49m\n\u001b[1;32m    408\u001b[0m \u001b[43m        \u001b[49m\u001b[43mr_expr\u001b[49m\n\u001b[1;32m    409\u001b[0m \u001b[43m    \u001b[49m\u001b[43m)\u001b[49m\n\u001b[1;32m    410\u001b[0m \u001b[38;5;28;01mexcept\u001b[39;00m (ri\u001b[38;5;241m.\u001b[39membedded\u001b[38;5;241m.\u001b[39mRRuntimeError, \u001b[38;5;167;01mValueError\u001b[39;00m) \u001b[38;5;28;01mas\u001b[39;00m exception:\n\u001b[1;32m    411\u001b[0m     \u001b[38;5;66;03m# Otherwise next return seems to have copy of error.\u001b[39;00m\n",
      "File \u001b[0;32m~/.pyenv/versions/3.10.12/lib/python3.10/site-packages/rpy2/rinterface.py:194\u001b[0m, in \u001b[0;36mevalr_expr_with_visible\u001b[0;34m(expr, envir)\u001b[0m\n\u001b[1;32m    193\u001b[0m \u001b[38;5;28;01mif\u001b[39;00m error_occured[\u001b[38;5;241m0\u001b[39m]:\n\u001b[0;32m--> 194\u001b[0m     \u001b[38;5;28;01mraise\u001b[39;00m embedded\u001b[38;5;241m.\u001b[39mRRuntimeError(_rinterface\u001b[38;5;241m.\u001b[39m_geterrmessage())\n\u001b[1;32m    195\u001b[0m res \u001b[38;5;241m=\u001b[39m conversion\u001b[38;5;241m.\u001b[39m_cdata_to_rinterface(r_res)\n",
      "\u001b[0;31mRRuntimeError\u001b[0m: Error: vector memory limit of 128.0 Gb reached, see mem.maxVSize()\n",
      "\nDuring handling of the above exception, another exception occurred:\n",
      "\u001b[0;31mRInterpreterError\u001b[0m                         Traceback (most recent call last)",
      "Cell \u001b[0;32mIn[40], line 1\u001b[0m\n\u001b[0;32m----> 1\u001b[0m \u001b[43mget_ipython\u001b[49m\u001b[43m(\u001b[49m\u001b[43m)\u001b[49m\u001b[38;5;241;43m.\u001b[39;49m\u001b[43mrun_cell_magic\u001b[49m\u001b[43m(\u001b[49m\u001b[38;5;124;43m'\u001b[39;49m\u001b[38;5;124;43mR\u001b[39;49m\u001b[38;5;124;43m'\u001b[39;49m\u001b[43m,\u001b[49m\u001b[43m \u001b[49m\u001b[38;5;124;43m'\u001b[39;49m\u001b[38;5;124;43m'\u001b[39;49m\u001b[43m,\u001b[49m\u001b[43m \u001b[49m\u001b[38;5;124;43m'\u001b[39;49m\u001b[38;5;124;43mglm_dei <- glm(\u001b[39;49m\u001b[38;5;130;43;01m\\n\u001b[39;49;00m\u001b[38;5;124;43m  approved ~ post_dei_law * anti_dei_state + black_applicant + income + loan_amount + debt_to_income,\u001b[39;49m\u001b[38;5;130;43;01m\\n\u001b[39;49;00m\u001b[38;5;124;43m  data = df_clean,\u001b[39;49m\u001b[38;5;130;43;01m\\n\u001b[39;49;00m\u001b[38;5;124;43m  family = binomial()\u001b[39;49m\u001b[38;5;130;43;01m\\n\u001b[39;49;00m\u001b[38;5;124;43m)\u001b[39;49m\u001b[38;5;130;43;01m\\n\u001b[39;49;00m\u001b[38;5;130;43;01m\\n\u001b[39;49;00m\u001b[38;5;124;43msummary(glm_dei)\u001b[39;49m\u001b[38;5;130;43;01m\\n\u001b[39;49;00m\u001b[38;5;124;43m'\u001b[39;49m\u001b[43m)\u001b[49m\n",
      "File \u001b[0;32m~/.pyenv/versions/3.10.12/lib/python3.10/site-packages/IPython/core/interactiveshell.py:2541\u001b[0m, in \u001b[0;36mInteractiveShell.run_cell_magic\u001b[0;34m(self, magic_name, line, cell)\u001b[0m\n\u001b[1;32m   2539\u001b[0m \u001b[38;5;28;01mwith\u001b[39;00m \u001b[38;5;28mself\u001b[39m\u001b[38;5;241m.\u001b[39mbuiltin_trap:\n\u001b[1;32m   2540\u001b[0m     args \u001b[38;5;241m=\u001b[39m (magic_arg_s, cell)\n\u001b[0;32m-> 2541\u001b[0m     result \u001b[38;5;241m=\u001b[39m \u001b[43mfn\u001b[49m\u001b[43m(\u001b[49m\u001b[38;5;241;43m*\u001b[39;49m\u001b[43margs\u001b[49m\u001b[43m,\u001b[49m\u001b[43m \u001b[49m\u001b[38;5;241;43m*\u001b[39;49m\u001b[38;5;241;43m*\u001b[39;49m\u001b[43mkwargs\u001b[49m\u001b[43m)\u001b[49m\n\u001b[1;32m   2543\u001b[0m \u001b[38;5;66;03m# The code below prevents the output from being displayed\u001b[39;00m\n\u001b[1;32m   2544\u001b[0m \u001b[38;5;66;03m# when using magics with decorator @output_can_be_silenced\u001b[39;00m\n\u001b[1;32m   2545\u001b[0m \u001b[38;5;66;03m# when the last Python token in the expression is a ';'.\u001b[39;00m\n\u001b[1;32m   2546\u001b[0m \u001b[38;5;28;01mif\u001b[39;00m \u001b[38;5;28mgetattr\u001b[39m(fn, magic\u001b[38;5;241m.\u001b[39mMAGIC_OUTPUT_CAN_BE_SILENCED, \u001b[38;5;28;01mFalse\u001b[39;00m):\n",
      "File \u001b[0;32m~/.pyenv/versions/3.10.12/lib/python3.10/site-packages/rpy2/ipython/rmagic.py:984\u001b[0m, in \u001b[0;36mRMagics.R\u001b[0;34m(self, line, cell, local_ns)\u001b[0m\n\u001b[1;32m    982\u001b[0m     \u001b[38;5;28;01mif\u001b[39;00m \u001b[38;5;129;01mnot\u001b[39;00m e\u001b[38;5;241m.\u001b[39mstdout\u001b[38;5;241m.\u001b[39mendswith(e\u001b[38;5;241m.\u001b[39merr):\n\u001b[1;32m    983\u001b[0m         \u001b[38;5;28mprint\u001b[39m(e\u001b[38;5;241m.\u001b[39merr)\n\u001b[0;32m--> 984\u001b[0m     \u001b[38;5;28;01mraise\u001b[39;00m e\n\u001b[1;32m    985\u001b[0m \u001b[38;5;28;01mfinally\u001b[39;00m:\n\u001b[1;32m    986\u001b[0m     \u001b[38;5;28;01mif\u001b[39;00m \u001b[38;5;28mself\u001b[39m\u001b[38;5;241m.\u001b[39mdevice \u001b[38;5;129;01min\u001b[39;00m DEVICES_STATIC:\n",
      "File \u001b[0;32m~/.pyenv/versions/3.10.12/lib/python3.10/site-packages/rpy2/ipython/rmagic.py:949\u001b[0m, in \u001b[0;36mRMagics.R\u001b[0;34m(self, line, cell, local_ns)\u001b[0m\n\u001b[1;32m    947\u001b[0m         return_output \u001b[38;5;241m=\u001b[39m \u001b[38;5;28;01mFalse\u001b[39;00m\n\u001b[1;32m    948\u001b[0m \u001b[38;5;28;01melse\u001b[39;00m:\n\u001b[0;32m--> 949\u001b[0m     text_result, result, visible \u001b[38;5;241m=\u001b[39m \u001b[38;5;28;43mself\u001b[39;49m\u001b[38;5;241;43m.\u001b[39;49m\u001b[43meval\u001b[49m\u001b[43m(\u001b[49m\u001b[43mcode\u001b[49m\u001b[43m)\u001b[49m\n\u001b[1;32m    950\u001b[0m     text_output \u001b[38;5;241m+\u001b[39m\u001b[38;5;241m=\u001b[39m text_result\n\u001b[1;32m    951\u001b[0m     \u001b[38;5;28;01mif\u001b[39;00m visible:\n",
      "File \u001b[0;32m~/.pyenv/versions/3.10.12/lib/python3.10/site-packages/rpy2/ipython/rmagic.py:413\u001b[0m, in \u001b[0;36mRMagics.eval\u001b[0;34m(self, code)\u001b[0m\n\u001b[1;32m    410\u001b[0m \u001b[38;5;28;01mexcept\u001b[39;00m (ri\u001b[38;5;241m.\u001b[39membedded\u001b[38;5;241m.\u001b[39mRRuntimeError, \u001b[38;5;167;01mValueError\u001b[39;00m) \u001b[38;5;28;01mas\u001b[39;00m exception:\n\u001b[1;32m    411\u001b[0m     \u001b[38;5;66;03m# Otherwise next return seems to have copy of error.\u001b[39;00m\n\u001b[1;32m    412\u001b[0m     warning_or_other_msg \u001b[38;5;241m=\u001b[39m \u001b[38;5;28mself\u001b[39m\u001b[38;5;241m.\u001b[39mflush()\n\u001b[0;32m--> 413\u001b[0m     \u001b[38;5;28;01mraise\u001b[39;00m RInterpreterError(code, \u001b[38;5;28mstr\u001b[39m(exception),\n\u001b[1;32m    414\u001b[0m                             warning_or_other_msg)\n\u001b[1;32m    415\u001b[0m \u001b[38;5;28;01mfinally\u001b[39;00m:\n\u001b[1;32m    416\u001b[0m     ro\u001b[38;5;241m.\u001b[39m_print_deferred_warnings()\n",
      "\u001b[0;31mRInterpreterError\u001b[0m: Failed to parse and evaluate line 'glm_dei <- glm(\\n  approved ~ post_dei_law * anti_dei_state + black_applicant + income + loan_amount + debt_to_income,\\n  data = df_clean,\\n  family = binomial()\\n)\\n\\nsummary(glm_dei)\\n'.\nR error message: 'Error: vector memory limit of 128.0 Gb reached, see mem.maxVSize()'\nR stdout:\nError: vector memory limit of 128.0 Gb reached, see mem.maxVSize()\nError: no more error handlers available (recursive errors?); invoking 'abort' restart"
     ]
    }
   ],
   "source": [
    "%%R\n",
    "glm_dei <- glm(\n",
    "  approved ~ post_dei_law * anti_dei_state + black_applicant + income + loan_amount + debt_to_income,\n",
    "  data = df_clean,\n",
    "  family = binomial()\n",
    ")\n",
    "\n",
    "summary(glm_dei)\n"
   ]
  },
  {
   "cell_type": "code",
   "execution_count": 41,
   "metadata": {},
   "outputs": [
    {
     "name": "stdout",
     "output_type": "stream",
     "text": [
      "NOTE: 1/1/209 fixed-effects (5,783,370 observations) removed because of only 0 (or only 1) outcomes.\n",
      "Error: vector memory limit of 128.0 Gb reached, see mem.maxVSize()\n"
     ]
    },
    {
     "ename": "RInterpreterError",
     "evalue": "Failed to parse and evaluate line 'library(fixest)\\n\\nfeglm_dei <- feglm(\\n  approved ~ post_dei_law * anti_dei_state + black_applicant + income + loan_amount + debt_to_income |\\n    state_code + activity_year + lei,\\n  data = df_clean,\\n  family = \"logit\"\\n)\\n\\nsummary(feglm_dei)\\n'.\nR error message: 'Error: vector memory limit of 128.0 Gb reached, see mem.maxVSize()'\nR stdout:\nNOTE: 1/1/209 fixed-effects (5,783,370 observations) removed because of only 0 (or only 1) outcomes.\nError: vector memory limit of 128.0 Gb reached, see mem.maxVSize()",
     "output_type": "error",
     "traceback": [
      "\u001b[0;31m---------------------------------------------------------------------------\u001b[0m",
      "\u001b[0;31mRRuntimeError\u001b[0m                             Traceback (most recent call last)",
      "File \u001b[0;32m~/.pyenv/versions/3.10.12/lib/python3.10/site-packages/rpy2/ipython/rmagic.py:407\u001b[0m, in \u001b[0;36mRMagics.eval\u001b[0;34m(self, code)\u001b[0m\n\u001b[1;32m    406\u001b[0m     r_expr \u001b[38;5;241m=\u001b[39m ri\u001b[38;5;241m.\u001b[39mparse(code)\n\u001b[0;32m--> 407\u001b[0m     value, visible \u001b[38;5;241m=\u001b[39m \u001b[43mri\u001b[49m\u001b[38;5;241;43m.\u001b[39;49m\u001b[43mevalr_expr_with_visible\u001b[49m\u001b[43m(\u001b[49m\n\u001b[1;32m    408\u001b[0m \u001b[43m        \u001b[49m\u001b[43mr_expr\u001b[49m\n\u001b[1;32m    409\u001b[0m \u001b[43m    \u001b[49m\u001b[43m)\u001b[49m\n\u001b[1;32m    410\u001b[0m \u001b[38;5;28;01mexcept\u001b[39;00m (ri\u001b[38;5;241m.\u001b[39membedded\u001b[38;5;241m.\u001b[39mRRuntimeError, \u001b[38;5;167;01mValueError\u001b[39;00m) \u001b[38;5;28;01mas\u001b[39;00m exception:\n\u001b[1;32m    411\u001b[0m     \u001b[38;5;66;03m# Otherwise next return seems to have copy of error.\u001b[39;00m\n",
      "File \u001b[0;32m~/.pyenv/versions/3.10.12/lib/python3.10/site-packages/rpy2/rinterface.py:194\u001b[0m, in \u001b[0;36mevalr_expr_with_visible\u001b[0;34m(expr, envir)\u001b[0m\n\u001b[1;32m    193\u001b[0m \u001b[38;5;28;01mif\u001b[39;00m error_occured[\u001b[38;5;241m0\u001b[39m]:\n\u001b[0;32m--> 194\u001b[0m     \u001b[38;5;28;01mraise\u001b[39;00m embedded\u001b[38;5;241m.\u001b[39mRRuntimeError(_rinterface\u001b[38;5;241m.\u001b[39m_geterrmessage())\n\u001b[1;32m    195\u001b[0m res \u001b[38;5;241m=\u001b[39m conversion\u001b[38;5;241m.\u001b[39m_cdata_to_rinterface(r_res)\n",
      "\u001b[0;31mRRuntimeError\u001b[0m: Error: vector memory limit of 128.0 Gb reached, see mem.maxVSize()\n",
      "\nDuring handling of the above exception, another exception occurred:\n",
      "\u001b[0;31mRInterpreterError\u001b[0m                         Traceback (most recent call last)",
      "Cell \u001b[0;32mIn[41], line 1\u001b[0m\n\u001b[0;32m----> 1\u001b[0m \u001b[43mget_ipython\u001b[49m\u001b[43m(\u001b[49m\u001b[43m)\u001b[49m\u001b[38;5;241;43m.\u001b[39;49m\u001b[43mrun_cell_magic\u001b[49m\u001b[43m(\u001b[49m\u001b[38;5;124;43m'\u001b[39;49m\u001b[38;5;124;43mR\u001b[39;49m\u001b[38;5;124;43m'\u001b[39;49m\u001b[43m,\u001b[49m\u001b[43m \u001b[49m\u001b[38;5;124;43m'\u001b[39;49m\u001b[38;5;124;43m'\u001b[39;49m\u001b[43m,\u001b[49m\u001b[43m \u001b[49m\u001b[38;5;124;43m'\u001b[39;49m\u001b[38;5;124;43mlibrary(fixest)\u001b[39;49m\u001b[38;5;130;43;01m\\n\u001b[39;49;00m\u001b[38;5;130;43;01m\\n\u001b[39;49;00m\u001b[38;5;124;43mfeglm_dei <- feglm(\u001b[39;49m\u001b[38;5;130;43;01m\\n\u001b[39;49;00m\u001b[38;5;124;43m  approved ~ post_dei_law * anti_dei_state + black_applicant + income + loan_amount + debt_to_income |\u001b[39;49m\u001b[38;5;130;43;01m\\n\u001b[39;49;00m\u001b[38;5;124;43m    state_code + activity_year + lei,\u001b[39;49m\u001b[38;5;130;43;01m\\n\u001b[39;49;00m\u001b[38;5;124;43m  data = df_clean,\u001b[39;49m\u001b[38;5;130;43;01m\\n\u001b[39;49;00m\u001b[38;5;124;43m  family = \u001b[39;49m\u001b[38;5;124;43m\"\u001b[39;49m\u001b[38;5;124;43mlogit\u001b[39;49m\u001b[38;5;124;43m\"\u001b[39;49m\u001b[38;5;130;43;01m\\n\u001b[39;49;00m\u001b[38;5;124;43m)\u001b[39;49m\u001b[38;5;130;43;01m\\n\u001b[39;49;00m\u001b[38;5;130;43;01m\\n\u001b[39;49;00m\u001b[38;5;124;43msummary(feglm_dei)\u001b[39;49m\u001b[38;5;130;43;01m\\n\u001b[39;49;00m\u001b[38;5;124;43m'\u001b[39;49m\u001b[43m)\u001b[49m\n",
      "File \u001b[0;32m~/.pyenv/versions/3.10.12/lib/python3.10/site-packages/IPython/core/interactiveshell.py:2541\u001b[0m, in \u001b[0;36mInteractiveShell.run_cell_magic\u001b[0;34m(self, magic_name, line, cell)\u001b[0m\n\u001b[1;32m   2539\u001b[0m \u001b[38;5;28;01mwith\u001b[39;00m \u001b[38;5;28mself\u001b[39m\u001b[38;5;241m.\u001b[39mbuiltin_trap:\n\u001b[1;32m   2540\u001b[0m     args \u001b[38;5;241m=\u001b[39m (magic_arg_s, cell)\n\u001b[0;32m-> 2541\u001b[0m     result \u001b[38;5;241m=\u001b[39m \u001b[43mfn\u001b[49m\u001b[43m(\u001b[49m\u001b[38;5;241;43m*\u001b[39;49m\u001b[43margs\u001b[49m\u001b[43m,\u001b[49m\u001b[43m \u001b[49m\u001b[38;5;241;43m*\u001b[39;49m\u001b[38;5;241;43m*\u001b[39;49m\u001b[43mkwargs\u001b[49m\u001b[43m)\u001b[49m\n\u001b[1;32m   2543\u001b[0m \u001b[38;5;66;03m# The code below prevents the output from being displayed\u001b[39;00m\n\u001b[1;32m   2544\u001b[0m \u001b[38;5;66;03m# when using magics with decorator @output_can_be_silenced\u001b[39;00m\n\u001b[1;32m   2545\u001b[0m \u001b[38;5;66;03m# when the last Python token in the expression is a ';'.\u001b[39;00m\n\u001b[1;32m   2546\u001b[0m \u001b[38;5;28;01mif\u001b[39;00m \u001b[38;5;28mgetattr\u001b[39m(fn, magic\u001b[38;5;241m.\u001b[39mMAGIC_OUTPUT_CAN_BE_SILENCED, \u001b[38;5;28;01mFalse\u001b[39;00m):\n",
      "File \u001b[0;32m~/.pyenv/versions/3.10.12/lib/python3.10/site-packages/rpy2/ipython/rmagic.py:984\u001b[0m, in \u001b[0;36mRMagics.R\u001b[0;34m(self, line, cell, local_ns)\u001b[0m\n\u001b[1;32m    982\u001b[0m     \u001b[38;5;28;01mif\u001b[39;00m \u001b[38;5;129;01mnot\u001b[39;00m e\u001b[38;5;241m.\u001b[39mstdout\u001b[38;5;241m.\u001b[39mendswith(e\u001b[38;5;241m.\u001b[39merr):\n\u001b[1;32m    983\u001b[0m         \u001b[38;5;28mprint\u001b[39m(e\u001b[38;5;241m.\u001b[39merr)\n\u001b[0;32m--> 984\u001b[0m     \u001b[38;5;28;01mraise\u001b[39;00m e\n\u001b[1;32m    985\u001b[0m \u001b[38;5;28;01mfinally\u001b[39;00m:\n\u001b[1;32m    986\u001b[0m     \u001b[38;5;28;01mif\u001b[39;00m \u001b[38;5;28mself\u001b[39m\u001b[38;5;241m.\u001b[39mdevice \u001b[38;5;129;01min\u001b[39;00m DEVICES_STATIC:\n",
      "File \u001b[0;32m~/.pyenv/versions/3.10.12/lib/python3.10/site-packages/rpy2/ipython/rmagic.py:949\u001b[0m, in \u001b[0;36mRMagics.R\u001b[0;34m(self, line, cell, local_ns)\u001b[0m\n\u001b[1;32m    947\u001b[0m         return_output \u001b[38;5;241m=\u001b[39m \u001b[38;5;28;01mFalse\u001b[39;00m\n\u001b[1;32m    948\u001b[0m \u001b[38;5;28;01melse\u001b[39;00m:\n\u001b[0;32m--> 949\u001b[0m     text_result, result, visible \u001b[38;5;241m=\u001b[39m \u001b[38;5;28;43mself\u001b[39;49m\u001b[38;5;241;43m.\u001b[39;49m\u001b[43meval\u001b[49m\u001b[43m(\u001b[49m\u001b[43mcode\u001b[49m\u001b[43m)\u001b[49m\n\u001b[1;32m    950\u001b[0m     text_output \u001b[38;5;241m+\u001b[39m\u001b[38;5;241m=\u001b[39m text_result\n\u001b[1;32m    951\u001b[0m     \u001b[38;5;28;01mif\u001b[39;00m visible:\n",
      "File \u001b[0;32m~/.pyenv/versions/3.10.12/lib/python3.10/site-packages/rpy2/ipython/rmagic.py:413\u001b[0m, in \u001b[0;36mRMagics.eval\u001b[0;34m(self, code)\u001b[0m\n\u001b[1;32m    410\u001b[0m \u001b[38;5;28;01mexcept\u001b[39;00m (ri\u001b[38;5;241m.\u001b[39membedded\u001b[38;5;241m.\u001b[39mRRuntimeError, \u001b[38;5;167;01mValueError\u001b[39;00m) \u001b[38;5;28;01mas\u001b[39;00m exception:\n\u001b[1;32m    411\u001b[0m     \u001b[38;5;66;03m# Otherwise next return seems to have copy of error.\u001b[39;00m\n\u001b[1;32m    412\u001b[0m     warning_or_other_msg \u001b[38;5;241m=\u001b[39m \u001b[38;5;28mself\u001b[39m\u001b[38;5;241m.\u001b[39mflush()\n\u001b[0;32m--> 413\u001b[0m     \u001b[38;5;28;01mraise\u001b[39;00m RInterpreterError(code, \u001b[38;5;28mstr\u001b[39m(exception),\n\u001b[1;32m    414\u001b[0m                             warning_or_other_msg)\n\u001b[1;32m    415\u001b[0m \u001b[38;5;28;01mfinally\u001b[39;00m:\n\u001b[1;32m    416\u001b[0m     ro\u001b[38;5;241m.\u001b[39m_print_deferred_warnings()\n",
      "\u001b[0;31mRInterpreterError\u001b[0m: Failed to parse and evaluate line 'library(fixest)\\n\\nfeglm_dei <- feglm(\\n  approved ~ post_dei_law * anti_dei_state + black_applicant + income + loan_amount + debt_to_income |\\n    state_code + activity_year + lei,\\n  data = df_clean,\\n  family = \"logit\"\\n)\\n\\nsummary(feglm_dei)\\n'.\nR error message: 'Error: vector memory limit of 128.0 Gb reached, see mem.maxVSize()'\nR stdout:\nNOTE: 1/1/209 fixed-effects (5,783,370 observations) removed because of only 0 (or only 1) outcomes.\nError: vector memory limit of 128.0 Gb reached, see mem.maxVSize()"
     ]
    }
   ],
   "source": [
    "%%R\n",
    "library(fixest)\n",
    "\n",
    "feglm_dei <- feglm(\n",
    "  approved ~ post_dei_law * anti_dei_state + black_applicant + income + loan_amount + debt_to_income |\n",
    "    state_code + activity_year + lei,\n",
    "  data = df_clean,\n",
    "  family = \"logit\"\n",
    ")\n",
    "\n",
    "summary(feglm_dei)\n"
   ]
  },
  {
   "cell_type": "code",
   "execution_count": 39,
   "metadata": {},
   "outputs": [],
   "source": [
    "%%R\n",
    "df_black <- df_clean %>%\n",
    "  filter(black_applicant == 1)\n"
   ]
  },
  {
   "cell_type": "code",
   "execution_count": 34,
   "metadata": {},
   "outputs": [
    {
     "name": "stdout",
     "output_type": "stream",
     "text": [
      "Error: vector memory limit of 128.0 Gb reached, see mem.maxVSize()\n"
     ]
    },
    {
     "ename": "RInterpreterError",
     "evalue": "Failed to parse and evaluate line 'library(fixest)\\nlibrary(dplyr)\\n\\n# Preview column names to confirm\\n# colnames(df)\\n\\ndf_clean <- df %>%\\n  # Create variables safely\\n  mutate(\\n    approved = ifelse(action_taken == 1, 1, 0),\\n    post_georgefloyd = ifelse(activity_year >= 2020, 1, 0),\\n    black_applicant = ifelse(`applicant_race.1` == 3, 1, 0),\\n    debt_to_income = loan_amount / income\\n  ) %>%\\n  # Remove problematic or missing rows\\n  filter(\\n    !is.na(approved), !is.na(post_georgefloyd), !is.na(black_applicant),\\n    !is.na(income), income > 0,\\n    !is.na(loan_amount), !is.na(debt_to_income),\\n    !is.na(median_household_income), !is.na(employment_rate),\\n    !is.na(county_code), !is.na(activity_year)\\n  )\\n\\n# Fit logistic regression model\\nglm_model <- glm(\\n  approved ~ post_georgefloyd * black_applicant + income + loan_amount + debt_to_income,\\n  data = df_clean,\\n  family = binomial()\\n)\\n\\n# View results\\nsummary(glm_model)\\n'.\nR error message: 'Error: vector memory limit of 128.0 Gb reached, see mem.maxVSize()'",
     "output_type": "error",
     "traceback": [
      "\u001b[0;31m---------------------------------------------------------------------------\u001b[0m",
      "\u001b[0;31mRRuntimeError\u001b[0m                             Traceback (most recent call last)",
      "File \u001b[0;32m~/.pyenv/versions/3.10.12/lib/python3.10/site-packages/rpy2/ipython/rmagic.py:407\u001b[0m, in \u001b[0;36mRMagics.eval\u001b[0;34m(self, code)\u001b[0m\n\u001b[1;32m    406\u001b[0m     r_expr \u001b[38;5;241m=\u001b[39m ri\u001b[38;5;241m.\u001b[39mparse(code)\n\u001b[0;32m--> 407\u001b[0m     value, visible \u001b[38;5;241m=\u001b[39m \u001b[43mri\u001b[49m\u001b[38;5;241;43m.\u001b[39;49m\u001b[43mevalr_expr_with_visible\u001b[49m\u001b[43m(\u001b[49m\n\u001b[1;32m    408\u001b[0m \u001b[43m        \u001b[49m\u001b[43mr_expr\u001b[49m\n\u001b[1;32m    409\u001b[0m \u001b[43m    \u001b[49m\u001b[43m)\u001b[49m\n\u001b[1;32m    410\u001b[0m \u001b[38;5;28;01mexcept\u001b[39;00m (ri\u001b[38;5;241m.\u001b[39membedded\u001b[38;5;241m.\u001b[39mRRuntimeError, \u001b[38;5;167;01mValueError\u001b[39;00m) \u001b[38;5;28;01mas\u001b[39;00m exception:\n\u001b[1;32m    411\u001b[0m     \u001b[38;5;66;03m# Otherwise next return seems to have copy of error.\u001b[39;00m\n",
      "File \u001b[0;32m~/.pyenv/versions/3.10.12/lib/python3.10/site-packages/rpy2/rinterface.py:194\u001b[0m, in \u001b[0;36mevalr_expr_with_visible\u001b[0;34m(expr, envir)\u001b[0m\n\u001b[1;32m    193\u001b[0m \u001b[38;5;28;01mif\u001b[39;00m error_occured[\u001b[38;5;241m0\u001b[39m]:\n\u001b[0;32m--> 194\u001b[0m     \u001b[38;5;28;01mraise\u001b[39;00m embedded\u001b[38;5;241m.\u001b[39mRRuntimeError(_rinterface\u001b[38;5;241m.\u001b[39m_geterrmessage())\n\u001b[1;32m    195\u001b[0m res \u001b[38;5;241m=\u001b[39m conversion\u001b[38;5;241m.\u001b[39m_cdata_to_rinterface(r_res)\n",
      "\u001b[0;31mRRuntimeError\u001b[0m: Error: vector memory limit of 128.0 Gb reached, see mem.maxVSize()\n",
      "\nDuring handling of the above exception, another exception occurred:\n",
      "\u001b[0;31mRInterpreterError\u001b[0m                         Traceback (most recent call last)",
      "Cell \u001b[0;32mIn[34], line 1\u001b[0m\n\u001b[0;32m----> 1\u001b[0m \u001b[43mget_ipython\u001b[49m\u001b[43m(\u001b[49m\u001b[43m)\u001b[49m\u001b[38;5;241;43m.\u001b[39;49m\u001b[43mrun_cell_magic\u001b[49m\u001b[43m(\u001b[49m\u001b[38;5;124;43m'\u001b[39;49m\u001b[38;5;124;43mR\u001b[39;49m\u001b[38;5;124;43m'\u001b[39;49m\u001b[43m,\u001b[49m\u001b[43m \u001b[49m\u001b[38;5;124;43m'\u001b[39;49m\u001b[38;5;124;43m'\u001b[39;49m\u001b[43m,\u001b[49m\u001b[43m \u001b[49m\u001b[38;5;124;43m'\u001b[39;49m\u001b[38;5;124;43mlibrary(fixest)\u001b[39;49m\u001b[38;5;130;43;01m\\n\u001b[39;49;00m\u001b[38;5;124;43mlibrary(dplyr)\u001b[39;49m\u001b[38;5;130;43;01m\\n\u001b[39;49;00m\u001b[38;5;130;43;01m\\n\u001b[39;49;00m\u001b[38;5;124;43m# Preview column names to confirm\u001b[39;49m\u001b[38;5;130;43;01m\\n\u001b[39;49;00m\u001b[38;5;124;43m# colnames(df)\u001b[39;49m\u001b[38;5;130;43;01m\\n\u001b[39;49;00m\u001b[38;5;130;43;01m\\n\u001b[39;49;00m\u001b[38;5;124;43mdf_clean <- df \u001b[39;49m\u001b[38;5;124;43m%\u001b[39;49m\u001b[38;5;124;43m>\u001b[39;49m\u001b[38;5;124;43m%\u001b[39;49m\u001b[38;5;130;43;01m\\n\u001b[39;49;00m\u001b[38;5;124;43m  # Create variables safely\u001b[39;49m\u001b[38;5;130;43;01m\\n\u001b[39;49;00m\u001b[38;5;124;43m  mutate(\u001b[39;49m\u001b[38;5;130;43;01m\\n\u001b[39;49;00m\u001b[38;5;124;43m    approved = ifelse(action_taken == 1, 1, 0),\u001b[39;49m\u001b[38;5;130;43;01m\\n\u001b[39;49;00m\u001b[38;5;124;43m    post_georgefloyd = ifelse(activity_year >= 2020, 1, 0),\u001b[39;49m\u001b[38;5;130;43;01m\\n\u001b[39;49;00m\u001b[38;5;124;43m    black_applicant = ifelse(`applicant_race.1` == 3, 1, 0),\u001b[39;49m\u001b[38;5;130;43;01m\\n\u001b[39;49;00m\u001b[38;5;124;43m    debt_to_income = loan_amount / income\u001b[39;49m\u001b[38;5;130;43;01m\\n\u001b[39;49;00m\u001b[38;5;124;43m  ) \u001b[39;49m\u001b[38;5;124;43m%\u001b[39;49m\u001b[38;5;124;43m>\u001b[39;49m\u001b[38;5;124;43m%\u001b[39;49m\u001b[38;5;130;43;01m\\n\u001b[39;49;00m\u001b[38;5;124;43m  # Remove problematic or missing rows\u001b[39;49m\u001b[38;5;130;43;01m\\n\u001b[39;49;00m\u001b[38;5;124;43m  filter(\u001b[39;49m\u001b[38;5;130;43;01m\\n\u001b[39;49;00m\u001b[38;5;124;43m    !is.na(approved), !is.na(post_georgefloyd), !is.na(black_applicant),\u001b[39;49m\u001b[38;5;130;43;01m\\n\u001b[39;49;00m\u001b[38;5;124;43m    !is.na(income), income > 0,\u001b[39;49m\u001b[38;5;130;43;01m\\n\u001b[39;49;00m\u001b[38;5;124;43m    !is.na(loan_amount), !is.na(debt_to_income),\u001b[39;49m\u001b[38;5;130;43;01m\\n\u001b[39;49;00m\u001b[38;5;124;43m    !is.na(median_household_income), !is.na(employment_rate),\u001b[39;49m\u001b[38;5;130;43;01m\\n\u001b[39;49;00m\u001b[38;5;124;43m    !is.na(county_code), !is.na(activity_year)\u001b[39;49m\u001b[38;5;130;43;01m\\n\u001b[39;49;00m\u001b[38;5;124;43m  )\u001b[39;49m\u001b[38;5;130;43;01m\\n\u001b[39;49;00m\u001b[38;5;130;43;01m\\n\u001b[39;49;00m\u001b[38;5;124;43m# Fit logistic regression model\u001b[39;49m\u001b[38;5;130;43;01m\\n\u001b[39;49;00m\u001b[38;5;124;43mglm_model <- glm(\u001b[39;49m\u001b[38;5;130;43;01m\\n\u001b[39;49;00m\u001b[38;5;124;43m  approved ~ post_georgefloyd * black_applicant + income + loan_amount + debt_to_income,\u001b[39;49m\u001b[38;5;130;43;01m\\n\u001b[39;49;00m\u001b[38;5;124;43m  data = df_clean,\u001b[39;49m\u001b[38;5;130;43;01m\\n\u001b[39;49;00m\u001b[38;5;124;43m  family = binomial()\u001b[39;49m\u001b[38;5;130;43;01m\\n\u001b[39;49;00m\u001b[38;5;124;43m)\u001b[39;49m\u001b[38;5;130;43;01m\\n\u001b[39;49;00m\u001b[38;5;130;43;01m\\n\u001b[39;49;00m\u001b[38;5;124;43m# View results\u001b[39;49m\u001b[38;5;130;43;01m\\n\u001b[39;49;00m\u001b[38;5;124;43msummary(glm_model)\u001b[39;49m\u001b[38;5;130;43;01m\\n\u001b[39;49;00m\u001b[38;5;124;43m'\u001b[39;49m\u001b[43m)\u001b[49m\n",
      "File \u001b[0;32m~/.pyenv/versions/3.10.12/lib/python3.10/site-packages/IPython/core/interactiveshell.py:2541\u001b[0m, in \u001b[0;36mInteractiveShell.run_cell_magic\u001b[0;34m(self, magic_name, line, cell)\u001b[0m\n\u001b[1;32m   2539\u001b[0m \u001b[38;5;28;01mwith\u001b[39;00m \u001b[38;5;28mself\u001b[39m\u001b[38;5;241m.\u001b[39mbuiltin_trap:\n\u001b[1;32m   2540\u001b[0m     args \u001b[38;5;241m=\u001b[39m (magic_arg_s, cell)\n\u001b[0;32m-> 2541\u001b[0m     result \u001b[38;5;241m=\u001b[39m \u001b[43mfn\u001b[49m\u001b[43m(\u001b[49m\u001b[38;5;241;43m*\u001b[39;49m\u001b[43margs\u001b[49m\u001b[43m,\u001b[49m\u001b[43m \u001b[49m\u001b[38;5;241;43m*\u001b[39;49m\u001b[38;5;241;43m*\u001b[39;49m\u001b[43mkwargs\u001b[49m\u001b[43m)\u001b[49m\n\u001b[1;32m   2543\u001b[0m \u001b[38;5;66;03m# The code below prevents the output from being displayed\u001b[39;00m\n\u001b[1;32m   2544\u001b[0m \u001b[38;5;66;03m# when using magics with decorator @output_can_be_silenced\u001b[39;00m\n\u001b[1;32m   2545\u001b[0m \u001b[38;5;66;03m# when the last Python token in the expression is a ';'.\u001b[39;00m\n\u001b[1;32m   2546\u001b[0m \u001b[38;5;28;01mif\u001b[39;00m \u001b[38;5;28mgetattr\u001b[39m(fn, magic\u001b[38;5;241m.\u001b[39mMAGIC_OUTPUT_CAN_BE_SILENCED, \u001b[38;5;28;01mFalse\u001b[39;00m):\n",
      "File \u001b[0;32m~/.pyenv/versions/3.10.12/lib/python3.10/site-packages/rpy2/ipython/rmagic.py:984\u001b[0m, in \u001b[0;36mRMagics.R\u001b[0;34m(self, line, cell, local_ns)\u001b[0m\n\u001b[1;32m    982\u001b[0m     \u001b[38;5;28;01mif\u001b[39;00m \u001b[38;5;129;01mnot\u001b[39;00m e\u001b[38;5;241m.\u001b[39mstdout\u001b[38;5;241m.\u001b[39mendswith(e\u001b[38;5;241m.\u001b[39merr):\n\u001b[1;32m    983\u001b[0m         \u001b[38;5;28mprint\u001b[39m(e\u001b[38;5;241m.\u001b[39merr)\n\u001b[0;32m--> 984\u001b[0m     \u001b[38;5;28;01mraise\u001b[39;00m e\n\u001b[1;32m    985\u001b[0m \u001b[38;5;28;01mfinally\u001b[39;00m:\n\u001b[1;32m    986\u001b[0m     \u001b[38;5;28;01mif\u001b[39;00m \u001b[38;5;28mself\u001b[39m\u001b[38;5;241m.\u001b[39mdevice \u001b[38;5;129;01min\u001b[39;00m DEVICES_STATIC:\n",
      "File \u001b[0;32m~/.pyenv/versions/3.10.12/lib/python3.10/site-packages/rpy2/ipython/rmagic.py:949\u001b[0m, in \u001b[0;36mRMagics.R\u001b[0;34m(self, line, cell, local_ns)\u001b[0m\n\u001b[1;32m    947\u001b[0m         return_output \u001b[38;5;241m=\u001b[39m \u001b[38;5;28;01mFalse\u001b[39;00m\n\u001b[1;32m    948\u001b[0m \u001b[38;5;28;01melse\u001b[39;00m:\n\u001b[0;32m--> 949\u001b[0m     text_result, result, visible \u001b[38;5;241m=\u001b[39m \u001b[38;5;28;43mself\u001b[39;49m\u001b[38;5;241;43m.\u001b[39;49m\u001b[43meval\u001b[49m\u001b[43m(\u001b[49m\u001b[43mcode\u001b[49m\u001b[43m)\u001b[49m\n\u001b[1;32m    950\u001b[0m     text_output \u001b[38;5;241m+\u001b[39m\u001b[38;5;241m=\u001b[39m text_result\n\u001b[1;32m    951\u001b[0m     \u001b[38;5;28;01mif\u001b[39;00m visible:\n",
      "File \u001b[0;32m~/.pyenv/versions/3.10.12/lib/python3.10/site-packages/rpy2/ipython/rmagic.py:413\u001b[0m, in \u001b[0;36mRMagics.eval\u001b[0;34m(self, code)\u001b[0m\n\u001b[1;32m    410\u001b[0m \u001b[38;5;28;01mexcept\u001b[39;00m (ri\u001b[38;5;241m.\u001b[39membedded\u001b[38;5;241m.\u001b[39mRRuntimeError, \u001b[38;5;167;01mValueError\u001b[39;00m) \u001b[38;5;28;01mas\u001b[39;00m exception:\n\u001b[1;32m    411\u001b[0m     \u001b[38;5;66;03m# Otherwise next return seems to have copy of error.\u001b[39;00m\n\u001b[1;32m    412\u001b[0m     warning_or_other_msg \u001b[38;5;241m=\u001b[39m \u001b[38;5;28mself\u001b[39m\u001b[38;5;241m.\u001b[39mflush()\n\u001b[0;32m--> 413\u001b[0m     \u001b[38;5;28;01mraise\u001b[39;00m RInterpreterError(code, \u001b[38;5;28mstr\u001b[39m(exception),\n\u001b[1;32m    414\u001b[0m                             warning_or_other_msg)\n\u001b[1;32m    415\u001b[0m \u001b[38;5;28;01mfinally\u001b[39;00m:\n\u001b[1;32m    416\u001b[0m     ro\u001b[38;5;241m.\u001b[39m_print_deferred_warnings()\n",
      "\u001b[0;31mRInterpreterError\u001b[0m: Failed to parse and evaluate line 'library(fixest)\\nlibrary(dplyr)\\n\\n# Preview column names to confirm\\n# colnames(df)\\n\\ndf_clean <- df %>%\\n  # Create variables safely\\n  mutate(\\n    approved = ifelse(action_taken == 1, 1, 0),\\n    post_georgefloyd = ifelse(activity_year >= 2020, 1, 0),\\n    black_applicant = ifelse(`applicant_race.1` == 3, 1, 0),\\n    debt_to_income = loan_amount / income\\n  ) %>%\\n  # Remove problematic or missing rows\\n  filter(\\n    !is.na(approved), !is.na(post_georgefloyd), !is.na(black_applicant),\\n    !is.na(income), income > 0,\\n    !is.na(loan_amount), !is.na(debt_to_income),\\n    !is.na(median_household_income), !is.na(employment_rate),\\n    !is.na(county_code), !is.na(activity_year)\\n  )\\n\\n# Fit logistic regression model\\nglm_model <- glm(\\n  approved ~ post_georgefloyd * black_applicant + income + loan_amount + debt_to_income,\\n  data = df_clean,\\n  family = binomial()\\n)\\n\\n# View results\\nsummary(glm_model)\\n'.\nR error message: 'Error: vector memory limit of 128.0 Gb reached, see mem.maxVSize()'"
     ]
    }
   ],
   "source": [
    "%%R\n",
    "library(fixest)\n",
    "library(dplyr)\n",
    "\n",
    "# Preview column names to confirm\n",
    "# colnames(df)\n",
    "\n",
    "df_clean <- df %>%\n",
    "  # Create variables safely\n",
    "  mutate(\n",
    "    approved = ifelse(action_taken == 1, 1, 0),\n",
    "    post_georgefloyd = ifelse(activity_year >= 2020, 1, 0),\n",
    "    black_applicant = ifelse(`applicant_race.1` == 3, 1, 0),\n",
    "    debt_to_income = loan_amount / income\n",
    "  ) %>%\n",
    "  # Remove problematic or missing rows\n",
    "  filter(\n",
    "    !is.na(approved), !is.na(post_georgefloyd), !is.na(black_applicant),\n",
    "    !is.na(income), income > 0,\n",
    "    !is.na(loan_amount), !is.na(debt_to_income),\n",
    "    !is.na(median_household_income), !is.na(employment_rate),\n",
    "    !is.na(county_code), !is.na(activity_year)\n",
    "  )\n",
    "\n",
    "# Fit logistic regression model\n",
    "glm_model <- glm(\n",
    "  approved ~ post_georgefloyd * black_applicant + income + loan_amount + debt_to_income,\n",
    "  data = df_clean,\n",
    "  family = binomial()\n",
    ")\n",
    "\n",
    "# View results\n",
    "summary(glm_model)\n"
   ]
  },
  {
   "cell_type": "code",
   "execution_count": 33,
   "metadata": {},
   "outputs": [
    {
     "data": {
      "image/png": "[encoded data removed]",
      "text/plain": [
       "<IPython.core.display.Image object>"
      ]
     },
     "metadata": {},
     "output_type": "display_data"
    }
   ],
   "source": [
    "%%R\n",
    "library(dplyr)\n",
    "library(ggplot2)\n",
    "\n",
    "# Step 1: Create flags\n",
    "df_sample <- df_sample %>%\n",
    "  mutate(\n",
    "    black_applicant = ifelse(`applicant_race.1` == 3, 1, 0),\n",
    "    approved = ifelse(action_taken == 1, 1, 0)\n",
    "  )\n",
    "\n",
    "# Step 2: Calculate approval rates by year and race\n",
    "approval_by_year <- df_sample %>%\n",
    "  group_by(activity_year, black_applicant) %>%\n",
    "  summarise(approval_rate = mean(approved, na.rm = TRUE), .groups = \"drop\")\n",
    "\n",
    "# Step 3: Plot\n",
    "ggplot(approval_by_year, aes(x = activity_year, y = approval_rate, color = factor(black_applicant))) +\n",
    "  geom_line(size = 1.2) +\n",
    "  geom_point() +\n",
    "  scale_color_manual(\n",
    "    values = c(\"0\" = \"blue\", \"1\" = \"red\"),\n",
    "    labels = c(\"Non-Black Applicants\", \"Black Applicants\")\n",
    "  ) +\n",
    "  labs(\n",
    "    title = \"Mortgage Approval Rate by Year: Black vs. Non-Black Applicants\",\n",
    "    x = \"Year\",\n",
    "    y = \"Approval Rate\",\n",
    "    color = \"Applicant Race\"\n",
    "  ) +\n",
    "  theme_minimal()\n"
   ]
  },
  {
   "cell_type": "code",
   "execution_count": 31,
   "metadata": {},
   "outputs": [
    {
     "data": {
      "text/plain": [
       "In addition: Warning message:\n",
       "Using `size` aesthetic for lines was deprecated in ggplot2 3.4.0.\n",
       "ℹ Please use `linewidth` instead.\n",
       "This warning is displayed once every 8 hours.\n",
       "Call `lifecycle::last_lifecycle_warnings()` to see where this warning was\n",
       "generated. \n"
      ]
     },
     "metadata": {},
     "output_type": "display_data"
    },
    {
     "data": {
      "image/png": "[encoded data removed]",
      "text/plain": [
       "<IPython.core.display.Image object>"
      ]
     },
     "metadata": {},
     "output_type": "display_data"
    }
   ],
   "source": [
    "%%R\n",
    "library(dplyr)\n",
    "library(ggplot2)\n",
    "\n",
    "# Step 1: Create flags\n",
    "df_sample <- df %>%\n",
    "  mutate(\n",
    "    black_applicant = ifelse(`applicant_race.1` == 3, 1, 0),\n",
    "    approved = ifelse(action_taken == 1, 1, 0)\n",
    "  )\n",
    "\n",
    "# Step 2: Calculate approval rates by year and race\n",
    "approval_by_year <- df_sample %>%\n",
    "  group_by(activity_year, black_applicant) %>%\n",
    "  summarise(approval_rate = mean(approved, na.rm = TRUE), .groups = \"drop\")\n",
    "\n",
    "# Step 3: Plot\n",
    "ggplot(approval_by_year, aes(x = activity_year, y = approval_rate, color = factor(black_applicant))) +\n",
    "  geom_line(size = 1.2) +\n",
    "  geom_point() +\n",
    "  scale_color_manual(\n",
    "    values = c(\"0\" = \"blue\", \"1\" = \"red\"),\n",
    "    labels = c(\"Non-Black Applicants\", \"Black Applicants\")\n",
    "  ) +\n",
    "  labs(\n",
    "    title = \"Mortgage Approval Rate by Year: Black vs. Non-Black Applicants\",\n",
    "    x = \"Year\",\n",
    "    y = \"Approval Rate\",\n",
    "    color = \"Applicant Race\"\n",
    "  ) +\n",
    "  theme_minimal()\n"
   ]
  },
  {
   "cell_type": "code",
   "execution_count": null,
   "metadata": {},
   "outputs": [],
   "source": [
    "%%R\n",
    "library(fixest)\n",
    "library(dplyr)\n",
    "\n",
    "# Start from df (raw)\n",
    "df_clean <- df %>%\n",
    "  # Create black_applicant dummy\n",
    "  mutate(\n",
    "    black_applicant = ifelse(`applicant_race-1` == 3, 1, 0),\n",
    "    debt_to_income = loan_amount / income\n",
    "  ) %>%\n",
    "  # Remove extreme or missing values\n",
    "  filter(!is.na(approved), !is.na(post_georgefloyd), \n",
    "         !is.na(pct_black), !is.na(median_household_income), \n",
    "         !is.na(employment_rate), !is.na(county_code), \n",
    "         !is.na(activity_year), !is.na(black_applicant),\n",
    "         !is.na(income), income > 0,\n",
    "         !is.na(loan_amount), !is.na(debt_to_income))\n",
    "\n",
    "# Run model with controls\n",
    "fe_model_controls <- feols(\n",
    "  approved ~ post_georgefloyd * black_applicant + income + loan_amount + debt_to_income + employment_rate |\n",
    "    county_code + activity_year + lei,\n",
    "  data = df_clean\n",
    ")\n",
    "\n",
    "# Show results\n",
    "summary(fe_model_controls)\n"
   ]
  },
  {
   "cell_type": "code",
   "execution_count": null,
   "metadata": {},
   "outputs": [],
   "source": [
    "%%R\n",
    "library(fixest)\n",
    "library(dplyr)\n",
    "\n",
    "# Start from df (raw)\n",
    "df_clean <- df %>%\n",
    "  # Create black_applicant dummy\n",
    "  mutate(\n",
    "    black_applicant = ifelse(`applicant_race-1` == 3, 1, 0),\n",
    "    debt_to_income = loan_amount / income\n",
    "  ) %>%\n",
    "  # Remove extreme or missing values\n",
    "  filter(!is.na(approved), !is.na(post_georgefloyd), \n",
    "         !is.na(pct_black), !is.na(median_household_income), \n",
    "         !is.na(employment_rate), !is.na(county_code), \n",
    "         !is.na(activity_year), !is.na(black_applicant),\n",
    "         !is.na(income), income > 0,\n",
    "         !is.na(loan_amount), !is.na(debt_to_income))\n",
    "\n",
    "# Run model with controls\n",
    "glm_model <- glm(\n",
    "  approved ~ post_georgefloyd * black_applicant + income + loan_amount + debt_to_income,\n",
    "  data = df_clean,\n",
    "  family = binomial()\n",
    ")\n",
    "\n",
    "# Show results\n",
    "summary(glm_model)\n"
   ]
  },
  {
   "cell_type": "code",
   "execution_count": 13,
   "metadata": {},
   "outputs": [
    {
     "name": "stdout",
     "output_type": "stream",
     "text": [
      "OLS estimation, Dep. Var.: approved\n",
      "Observations: 146,258,588\n",
      "Fixed-effects: county_code: 3,219,  activity_year: 9\n",
      "Standard-errors: Clustered (county_code) \n",
      "                              Estimate Std. Error     t value   Pr(>|t|)    \n",
      "employment_rate            -0.00000126   0.134997 -0.00000934 9.9999e-01    \n",
      "post_georgefloyd:pct_black -0.02176838   0.005429 -4.00956038 6.2213e-05 ***\n",
      "... 2 variables were removed because of collinearity (post_georgefloyd and pct_black)\n",
      "---\n",
      "Signif. codes:  0 '***' 0.001 '**' 0.01 '*' 0.05 '.' 0.1 ' ' 1\n",
      "RMSE: 0.484797     Adj. R2: 0.044563\n",
      "                 Within R2: 7.059e-6\n"
     ]
    },
    {
     "data": {
      "text/plain": [
       "The variables 'post_georgefloyd' and 'pct_black' have been removed because of collinearity (see $collin.var).\n"
      ]
     },
     "metadata": {},
     "output_type": "display_data"
    }
   ],
   "source": [
    "%%R\n",
    "# Load fixest package\n",
    "library(fixest)\n",
    "\n",
    "# Calculate race percentages\n",
    "df <- df %>%\n",
    "  mutate(\n",
    "    pct_black = black / population,\n",
    "    pct_white = white / population,\n",
    "    pct_hispanic = hispanic / population\n",
    "  )\n",
    "\n",
    "# Filter out rows with missing values in key variables\n",
    "df_clean <- df %>%\n",
    "  filter(!is.na(approved), !is.na(post_georgefloyd), \n",
    "         !is.na(pct_black), !is.na(median_household_income), \n",
    "         !is.na(employment_rate), !is.na(county_code), !is.na(activity_year))\n",
    "\n",
    "# Run fixed effects regression using feols (linear probability model)\n",
    "fe_model <- feols(\n",
    "  approved ~ post_georgefloyd * pct_black + median_household_income + employment_rate | county_code + activity_year,\n",
    "  data = df_clean\n",
    ")\n",
    "\n",
    "# View results\n",
    "summary(fe_model)\n"
   ]
  },
  {
   "cell_type": "code",
   "execution_count": 15,
   "metadata": {},
   "outputs": [],
   "source": [
    "%%R\n",
    "df_clean <- df_clean %>%\n",
    "  mutate(lei = as.factor(lei))\n"
   ]
  },
  {
   "cell_type": "code",
   "execution_count": 16,
   "metadata": {},
   "outputs": [
    {
     "name": "stdout",
     "output_type": "stream",
     "text": [
      "OLS estimation, Dep. Var.: approved\n",
      "Observations: 110,150,079\n",
      "Fixed-effects: county_code: 3,219,  activity_year: 6,  lei: 6,354\n",
      "Standard-errors: Clustered (county_code) \n",
      "                              Estimate  Std. Error  t value Pr(>|t|) \n",
      "pct_black                  4149.439282 48573.29605 0.085426  0.93193 \n",
      "employment_rate            6154.924223 71807.58989 0.085714  0.93170 \n",
      "post_georgefloyd:pct_black    0.004392     0.00443 0.991613  0.32146 \n",
      "... 1 variable was removed because of collinearity (post_georgefloyd)\n",
      "---\n",
      "Signif. codes:  0 '***' 0.001 '**' 0.01 '*' 0.05 '.' 0.1 ' ' 1\n",
      "RMSE: 0.453057     Adj. R2: 0.170337\n",
      "                 Within R2: 2.734e-7\n"
     ]
    },
    {
     "data": {
      "text/plain": [
       "NOTE: 36,108,509 observations removed because of NA values (Fixed-effects: 36,108,509).\n",
       "The variable 'post_georgefloyd' has been removed because of collinearity (see $collin.var).\n"
      ]
     },
     "metadata": {},
     "output_type": "display_data"
    }
   ],
   "source": [
    "%%R\n",
    "# Load fixest package\n",
    "library(fixest)\n",
    "\n",
    "# Calculate race percentages\n",
    "df <- df %>%\n",
    "  mutate(\n",
    "    pct_black = black / population,\n",
    "    pct_white = white / population,\n",
    "    pct_hispanic = hispanic / population\n",
    "  )\n",
    "\n",
    "# Filter out rows with missing values in key variables\n",
    "df_clean <- df %>%\n",
    "  filter(!is.na(approved), !is.na(post_georgefloyd), \n",
    "         !is.na(pct_black), !is.na(median_household_income), \n",
    "         !is.na(employment_rate), !is.na(county_code), !is.na(activity_year))\n",
    "\n",
    "# Run fixed effects regression using feols (linear probability model)\n",
    "fe_model <- feols(\n",
    "  approved ~ post_georgefloyd * pct_black + employment_rate | county_code + activity_year + lei,\n",
    "  data = df_clean\n",
    ")\n",
    "\n",
    "# View results\n",
    "summary(fe_model)\n",
    "#Some banks may be driving racial disparities more than others — when you control for who’s doing the lending, the gap shrinks.\n"
   ]
  },
  {
   "cell_type": "code",
   "execution_count": 18,
   "metadata": {},
   "outputs": [
    {
     "name": "stdout",
     "output_type": "stream",
     "text": [
      "OLS estimation, Dep. Var.: approved\n",
      "Observations: 110,150,079\n",
      "Fixed-effects: county_code: 3,219,  activity_year: 6,  lei: 6,354\n",
      "Standard-errors: Clustered (county_code) \n",
      "                            Estimate   Std. Error   t value Pr(>|t|) \n",
      "black                  -1.256893e+04 8.899507e+04 -0.141232  0.88770 \n",
      "employment_rate         1.206731e+04 8.525426e+04  0.141545  0.88745 \n",
      "post_georgefloyd:black -5.880000e-09 3.620000e-09 -1.624783  0.10431 \n",
      "... 1 variable was removed because of collinearity (post_georgefloyd)\n",
      "---\n",
      "Signif. codes:  0 '***' 0.001 '**' 0.01 '*' 0.05 '.' 0.1 ' ' 1\n",
      "RMSE: 0.453057     Adj. R2: 0.170339\n",
      "                 Within R2: 1.762e-6\n"
     ]
    },
    {
     "data": {
      "text/plain": [
       "NOTE: 36,108,509 observations removed because of NA values (Fixed-effects: 36,108,509).\n",
       "The variable 'post_georgefloyd' has been removed because of collinearity (see $collin.var).\n"
      ]
     },
     "metadata": {},
     "output_type": "display_data"
    }
   ],
   "source": [
    "%%R\n",
    "# Load fixest package\n",
    "library(fixest)\n",
    "\n",
    "# Filter out rows with missing values in key variables\n",
    "df_clean <- df %>%\n",
    "  filter(!is.na(approved), !is.na(post_georgefloyd), \n",
    "         !is.na(black), !is.na(median_household_income), \n",
    "         !is.na(employment_rate), !is.na(county_code), !is.na(activity_year))\n",
    "\n",
    "# Run fixed effects regression using feols (linear probability model)\n",
    "fe_model <- feols(\n",
    "  approved ~ post_georgefloyd * black + employment_rate | county_code + activity_year + lei,\n",
    "  data = df_clean\n",
    ")\n",
    "\n",
    "# View results\n",
    "summary(fe_model)\n"
   ]
  },
  {
   "cell_type": "code",
   "execution_count": 17,
   "metadata": {},
   "outputs": [
    {
     "name": "stdout",
     "output_type": "stream",
     "text": [
      "Error in predict.fixest(fe_model, newdata = plot_data) : \n",
      "  The variable county_code is absent from the 'newdata' but is needed for prediction (it is a fixed-effect variable).\n"
     ]
    },
    {
     "ename": "RInterpreterError",
     "evalue": "Failed to parse and evaluate line 'library(ggplot2)\\n\\n# Sample from your cleaned data for plotting (to keep it fast)\\nplot_data <- df_clean %>%\\n  filter(!is.na(pct_black), !is.na(post_georgefloyd), !is.na(approved)) %>%\\n  select(pct_black, post_georgefloyd, employment_rate) %>%\\n  sample_n(100000)\\n\\n# Generate predictions from the model\\nplot_data$predicted <- predict(fe_model, newdata = plot_data)\\n\\n# Plot: Approval vs. pct_black by pre/post George Floyd\\nggplot(plot_data, aes(x = pct_black, y = predicted, color = factor(post_georgefloyd))) +\\n  geom_smooth(method = \"loess\", se = FALSE) +\\n  labs(\\n    title = \"Predicted Approval Rate vs. % Black Residents\",\\n    x = \"Share of Black Population (pct_black)\",\\n    y = \"Predicted Approval Rate\",\\n    color = \"Post George Floyd (1 = 2020+)\"\\n  ) +\\n  scale_color_manual(labels = c(\"Pre-2020\", \"Post-2020\"), values = c(\"blue\", \"red\")) +\\n  theme_minimal()\\n'.\nR error message: \"Error in predict.fixest(fe_model, newdata = plot_data) : \\n  The variable county_code is absent from the 'newdata' but is needed for prediction (it is a fixed-effect variable).\"",
     "output_type": "error",
     "traceback": [
      "\u001b[0;31m---------------------------------------------------------------------------\u001b[0m",
      "\u001b[0;31mRRuntimeError\u001b[0m                             Traceback (most recent call last)",
      "File \u001b[0;32m~/.pyenv/versions/3.10.12/lib/python3.10/site-packages/rpy2/ipython/rmagic.py:407\u001b[0m, in \u001b[0;36mRMagics.eval\u001b[0;34m(self, code)\u001b[0m\n\u001b[1;32m    406\u001b[0m     r_expr \u001b[38;5;241m=\u001b[39m ri\u001b[38;5;241m.\u001b[39mparse(code)\n\u001b[0;32m--> 407\u001b[0m     value, visible \u001b[38;5;241m=\u001b[39m \u001b[43mri\u001b[49m\u001b[38;5;241;43m.\u001b[39;49m\u001b[43mevalr_expr_with_visible\u001b[49m\u001b[43m(\u001b[49m\n\u001b[1;32m    408\u001b[0m \u001b[43m        \u001b[49m\u001b[43mr_expr\u001b[49m\n\u001b[1;32m    409\u001b[0m \u001b[43m    \u001b[49m\u001b[43m)\u001b[49m\n\u001b[1;32m    410\u001b[0m \u001b[38;5;28;01mexcept\u001b[39;00m (ri\u001b[38;5;241m.\u001b[39membedded\u001b[38;5;241m.\u001b[39mRRuntimeError, \u001b[38;5;167;01mValueError\u001b[39;00m) \u001b[38;5;28;01mas\u001b[39;00m exception:\n\u001b[1;32m    411\u001b[0m     \u001b[38;5;66;03m# Otherwise next return seems to have copy of error.\u001b[39;00m\n",
      "File \u001b[0;32m~/.pyenv/versions/3.10.12/lib/python3.10/site-packages/rpy2/rinterface.py:194\u001b[0m, in \u001b[0;36mevalr_expr_with_visible\u001b[0;34m(expr, envir)\u001b[0m\n\u001b[1;32m    193\u001b[0m \u001b[38;5;28;01mif\u001b[39;00m error_occured[\u001b[38;5;241m0\u001b[39m]:\n\u001b[0;32m--> 194\u001b[0m     \u001b[38;5;28;01mraise\u001b[39;00m embedded\u001b[38;5;241m.\u001b[39mRRuntimeError(_rinterface\u001b[38;5;241m.\u001b[39m_geterrmessage())\n\u001b[1;32m    195\u001b[0m res \u001b[38;5;241m=\u001b[39m conversion\u001b[38;5;241m.\u001b[39m_cdata_to_rinterface(r_res)\n",
      "\u001b[0;31mRRuntimeError\u001b[0m: Error in predict.fixest(fe_model, newdata = plot_data) : \n  The variable county_code is absent from the 'newdata' but is needed for prediction (it is a fixed-effect variable).\n",
      "\nDuring handling of the above exception, another exception occurred:\n",
      "\u001b[0;31mRInterpreterError\u001b[0m                         Traceback (most recent call last)",
      "Cell \u001b[0;32mIn[17], line 1\u001b[0m\n\u001b[0;32m----> 1\u001b[0m \u001b[43mget_ipython\u001b[49m\u001b[43m(\u001b[49m\u001b[43m)\u001b[49m\u001b[38;5;241;43m.\u001b[39;49m\u001b[43mrun_cell_magic\u001b[49m\u001b[43m(\u001b[49m\u001b[38;5;124;43m'\u001b[39;49m\u001b[38;5;124;43mR\u001b[39;49m\u001b[38;5;124;43m'\u001b[39;49m\u001b[43m,\u001b[49m\u001b[43m \u001b[49m\u001b[38;5;124;43m'\u001b[39;49m\u001b[38;5;124;43m'\u001b[39;49m\u001b[43m,\u001b[49m\u001b[43m \u001b[49m\u001b[38;5;124;43m'\u001b[39;49m\u001b[38;5;124;43mlibrary(ggplot2)\u001b[39;49m\u001b[38;5;130;43;01m\\n\u001b[39;49;00m\u001b[38;5;130;43;01m\\n\u001b[39;49;00m\u001b[38;5;124;43m# Sample from your cleaned data for plotting (to keep it fast)\u001b[39;49m\u001b[38;5;130;43;01m\\n\u001b[39;49;00m\u001b[38;5;124;43mplot_data <- df_clean \u001b[39;49m\u001b[38;5;124;43m%\u001b[39;49m\u001b[38;5;124;43m>\u001b[39;49m\u001b[38;5;124;43m%\u001b[39;49m\u001b[38;5;130;43;01m\\n\u001b[39;49;00m\u001b[38;5;124;43m  filter(!is.na(pct_black), !is.na(post_georgefloyd), !is.na(approved)) \u001b[39;49m\u001b[38;5;124;43m%\u001b[39;49m\u001b[38;5;124;43m>\u001b[39;49m\u001b[38;5;124;43m%\u001b[39;49m\u001b[38;5;130;43;01m\\n\u001b[39;49;00m\u001b[38;5;124;43m  select(pct_black, post_georgefloyd, employment_rate) \u001b[39;49m\u001b[38;5;124;43m%\u001b[39;49m\u001b[38;5;124;43m>\u001b[39;49m\u001b[38;5;124;43m%\u001b[39;49m\u001b[38;5;130;43;01m\\n\u001b[39;49;00m\u001b[38;5;124;43m  sample_n(100000)\u001b[39;49m\u001b[38;5;130;43;01m\\n\u001b[39;49;00m\u001b[38;5;130;43;01m\\n\u001b[39;49;00m\u001b[38;5;124;43m# Generate predictions from the model\u001b[39;49m\u001b[38;5;130;43;01m\\n\u001b[39;49;00m\u001b[38;5;124;43mplot_data$predicted <- predict(fe_model, newdata = plot_data)\u001b[39;49m\u001b[38;5;130;43;01m\\n\u001b[39;49;00m\u001b[38;5;130;43;01m\\n\u001b[39;49;00m\u001b[38;5;124;43m# Plot: Approval vs. pct_black by pre/post George Floyd\u001b[39;49m\u001b[38;5;130;43;01m\\n\u001b[39;49;00m\u001b[38;5;124;43mggplot(plot_data, aes(x = pct_black, y = predicted, color = factor(post_georgefloyd))) +\u001b[39;49m\u001b[38;5;130;43;01m\\n\u001b[39;49;00m\u001b[38;5;124;43m  geom_smooth(method = \u001b[39;49m\u001b[38;5;124;43m\"\u001b[39;49m\u001b[38;5;124;43mloess\u001b[39;49m\u001b[38;5;124;43m\"\u001b[39;49m\u001b[38;5;124;43m, se = FALSE) +\u001b[39;49m\u001b[38;5;130;43;01m\\n\u001b[39;49;00m\u001b[38;5;124;43m  labs(\u001b[39;49m\u001b[38;5;130;43;01m\\n\u001b[39;49;00m\u001b[38;5;124;43m    title = \u001b[39;49m\u001b[38;5;124;43m\"\u001b[39;49m\u001b[38;5;124;43mPredicted Approval Rate vs. \u001b[39;49m\u001b[38;5;124;43m%\u001b[39;49m\u001b[38;5;124;43m Black Residents\u001b[39;49m\u001b[38;5;124;43m\"\u001b[39;49m\u001b[38;5;124;43m,\u001b[39;49m\u001b[38;5;130;43;01m\\n\u001b[39;49;00m\u001b[38;5;124;43m    x = \u001b[39;49m\u001b[38;5;124;43m\"\u001b[39;49m\u001b[38;5;124;43mShare of Black Population (pct_black)\u001b[39;49m\u001b[38;5;124;43m\"\u001b[39;49m\u001b[38;5;124;43m,\u001b[39;49m\u001b[38;5;130;43;01m\\n\u001b[39;49;00m\u001b[38;5;124;43m    y = \u001b[39;49m\u001b[38;5;124;43m\"\u001b[39;49m\u001b[38;5;124;43mPredicted Approval Rate\u001b[39;49m\u001b[38;5;124;43m\"\u001b[39;49m\u001b[38;5;124;43m,\u001b[39;49m\u001b[38;5;130;43;01m\\n\u001b[39;49;00m\u001b[38;5;124;43m    color = \u001b[39;49m\u001b[38;5;124;43m\"\u001b[39;49m\u001b[38;5;124;43mPost George Floyd (1 = 2020+)\u001b[39;49m\u001b[38;5;124;43m\"\u001b[39;49m\u001b[38;5;130;43;01m\\n\u001b[39;49;00m\u001b[38;5;124;43m  ) +\u001b[39;49m\u001b[38;5;130;43;01m\\n\u001b[39;49;00m\u001b[38;5;124;43m  scale_color_manual(labels = c(\u001b[39;49m\u001b[38;5;124;43m\"\u001b[39;49m\u001b[38;5;124;43mPre-2020\u001b[39;49m\u001b[38;5;124;43m\"\u001b[39;49m\u001b[38;5;124;43m, \u001b[39;49m\u001b[38;5;124;43m\"\u001b[39;49m\u001b[38;5;124;43mPost-2020\u001b[39;49m\u001b[38;5;124;43m\"\u001b[39;49m\u001b[38;5;124;43m), values = c(\u001b[39;49m\u001b[38;5;124;43m\"\u001b[39;49m\u001b[38;5;124;43mblue\u001b[39;49m\u001b[38;5;124;43m\"\u001b[39;49m\u001b[38;5;124;43m, \u001b[39;49m\u001b[38;5;124;43m\"\u001b[39;49m\u001b[38;5;124;43mred\u001b[39;49m\u001b[38;5;124;43m\"\u001b[39;49m\u001b[38;5;124;43m)) +\u001b[39;49m\u001b[38;5;130;43;01m\\n\u001b[39;49;00m\u001b[38;5;124;43m  theme_minimal()\u001b[39;49m\u001b[38;5;130;43;01m\\n\u001b[39;49;00m\u001b[38;5;124;43m'\u001b[39;49m\u001b[43m)\u001b[49m\n",
      "File \u001b[0;32m~/.pyenv/versions/3.10.12/lib/python3.10/site-packages/IPython/core/interactiveshell.py:2541\u001b[0m, in \u001b[0;36mInteractiveShell.run_cell_magic\u001b[0;34m(self, magic_name, line, cell)\u001b[0m\n\u001b[1;32m   2539\u001b[0m \u001b[38;5;28;01mwith\u001b[39;00m \u001b[38;5;28mself\u001b[39m\u001b[38;5;241m.\u001b[39mbuiltin_trap:\n\u001b[1;32m   2540\u001b[0m     args \u001b[38;5;241m=\u001b[39m (magic_arg_s, cell)\n\u001b[0;32m-> 2541\u001b[0m     result \u001b[38;5;241m=\u001b[39m \u001b[43mfn\u001b[49m\u001b[43m(\u001b[49m\u001b[38;5;241;43m*\u001b[39;49m\u001b[43margs\u001b[49m\u001b[43m,\u001b[49m\u001b[43m \u001b[49m\u001b[38;5;241;43m*\u001b[39;49m\u001b[38;5;241;43m*\u001b[39;49m\u001b[43mkwargs\u001b[49m\u001b[43m)\u001b[49m\n\u001b[1;32m   2543\u001b[0m \u001b[38;5;66;03m# The code below prevents the output from being displayed\u001b[39;00m\n\u001b[1;32m   2544\u001b[0m \u001b[38;5;66;03m# when using magics with decorator @output_can_be_silenced\u001b[39;00m\n\u001b[1;32m   2545\u001b[0m \u001b[38;5;66;03m# when the last Python token in the expression is a ';'.\u001b[39;00m\n\u001b[1;32m   2546\u001b[0m \u001b[38;5;28;01mif\u001b[39;00m \u001b[38;5;28mgetattr\u001b[39m(fn, magic\u001b[38;5;241m.\u001b[39mMAGIC_OUTPUT_CAN_BE_SILENCED, \u001b[38;5;28;01mFalse\u001b[39;00m):\n",
      "File \u001b[0;32m~/.pyenv/versions/3.10.12/lib/python3.10/site-packages/rpy2/ipython/rmagic.py:984\u001b[0m, in \u001b[0;36mRMagics.R\u001b[0;34m(self, line, cell, local_ns)\u001b[0m\n\u001b[1;32m    982\u001b[0m     \u001b[38;5;28;01mif\u001b[39;00m \u001b[38;5;129;01mnot\u001b[39;00m e\u001b[38;5;241m.\u001b[39mstdout\u001b[38;5;241m.\u001b[39mendswith(e\u001b[38;5;241m.\u001b[39merr):\n\u001b[1;32m    983\u001b[0m         \u001b[38;5;28mprint\u001b[39m(e\u001b[38;5;241m.\u001b[39merr)\n\u001b[0;32m--> 984\u001b[0m     \u001b[38;5;28;01mraise\u001b[39;00m e\n\u001b[1;32m    985\u001b[0m \u001b[38;5;28;01mfinally\u001b[39;00m:\n\u001b[1;32m    986\u001b[0m     \u001b[38;5;28;01mif\u001b[39;00m \u001b[38;5;28mself\u001b[39m\u001b[38;5;241m.\u001b[39mdevice \u001b[38;5;129;01min\u001b[39;00m DEVICES_STATIC:\n",
      "File \u001b[0;32m~/.pyenv/versions/3.10.12/lib/python3.10/site-packages/rpy2/ipython/rmagic.py:949\u001b[0m, in \u001b[0;36mRMagics.R\u001b[0;34m(self, line, cell, local_ns)\u001b[0m\n\u001b[1;32m    947\u001b[0m         return_output \u001b[38;5;241m=\u001b[39m \u001b[38;5;28;01mFalse\u001b[39;00m\n\u001b[1;32m    948\u001b[0m \u001b[38;5;28;01melse\u001b[39;00m:\n\u001b[0;32m--> 949\u001b[0m     text_result, result, visible \u001b[38;5;241m=\u001b[39m \u001b[38;5;28;43mself\u001b[39;49m\u001b[38;5;241;43m.\u001b[39;49m\u001b[43meval\u001b[49m\u001b[43m(\u001b[49m\u001b[43mcode\u001b[49m\u001b[43m)\u001b[49m\n\u001b[1;32m    950\u001b[0m     text_output \u001b[38;5;241m+\u001b[39m\u001b[38;5;241m=\u001b[39m text_result\n\u001b[1;32m    951\u001b[0m     \u001b[38;5;28;01mif\u001b[39;00m visible:\n",
      "File \u001b[0;32m~/.pyenv/versions/3.10.12/lib/python3.10/site-packages/rpy2/ipython/rmagic.py:413\u001b[0m, in \u001b[0;36mRMagics.eval\u001b[0;34m(self, code)\u001b[0m\n\u001b[1;32m    410\u001b[0m \u001b[38;5;28;01mexcept\u001b[39;00m (ri\u001b[38;5;241m.\u001b[39membedded\u001b[38;5;241m.\u001b[39mRRuntimeError, \u001b[38;5;167;01mValueError\u001b[39;00m) \u001b[38;5;28;01mas\u001b[39;00m exception:\n\u001b[1;32m    411\u001b[0m     \u001b[38;5;66;03m# Otherwise next return seems to have copy of error.\u001b[39;00m\n\u001b[1;32m    412\u001b[0m     warning_or_other_msg \u001b[38;5;241m=\u001b[39m \u001b[38;5;28mself\u001b[39m\u001b[38;5;241m.\u001b[39mflush()\n\u001b[0;32m--> 413\u001b[0m     \u001b[38;5;28;01mraise\u001b[39;00m RInterpreterError(code, \u001b[38;5;28mstr\u001b[39m(exception),\n\u001b[1;32m    414\u001b[0m                             warning_or_other_msg)\n\u001b[1;32m    415\u001b[0m \u001b[38;5;28;01mfinally\u001b[39;00m:\n\u001b[1;32m    416\u001b[0m     ro\u001b[38;5;241m.\u001b[39m_print_deferred_warnings()\n",
      "\u001b[0;31mRInterpreterError\u001b[0m: Failed to parse and evaluate line 'library(ggplot2)\\n\\n# Sample from your cleaned data for plotting (to keep it fast)\\nplot_data <- df_clean %>%\\n  filter(!is.na(pct_black), !is.na(post_georgefloyd), !is.na(approved)) %>%\\n  select(pct_black, post_georgefloyd, employment_rate) %>%\\n  sample_n(100000)\\n\\n# Generate predictions from the model\\nplot_data$predicted <- predict(fe_model, newdata = plot_data)\\n\\n# Plot: Approval vs. pct_black by pre/post George Floyd\\nggplot(plot_data, aes(x = pct_black, y = predicted, color = factor(post_georgefloyd))) +\\n  geom_smooth(method = \"loess\", se = FALSE) +\\n  labs(\\n    title = \"Predicted Approval Rate vs. % Black Residents\",\\n    x = \"Share of Black Population (pct_black)\",\\n    y = \"Predicted Approval Rate\",\\n    color = \"Post George Floyd (1 = 2020+)\"\\n  ) +\\n  scale_color_manual(labels = c(\"Pre-2020\", \"Post-2020\"), values = c(\"blue\", \"red\")) +\\n  theme_minimal()\\n'.\nR error message: \"Error in predict.fixest(fe_model, newdata = plot_data) : \\n  The variable county_code is absent from the 'newdata' but is needed for prediction (it is a fixed-effect variable).\""
     ]
    }
   ],
   "source": [
    "%%R\n",
    "library(ggplot2)\n",
    "\n",
    "# Sample from your cleaned data for plotting (to keep it fast)\n",
    "plot_data <- df_clean %>%\n",
    "  filter(!is.na(pct_black), !is.na(post_georgefloyd), !is.na(approved)) %>%\n",
    "  select(pct_black, post_georgefloyd, employment_rate) %>%\n",
    "  sample_n(100000)\n",
    "\n",
    "# Generate predictions from the model\n",
    "plot_data$predicted <- predict(fe_model, newdata = plot_data)\n",
    "\n",
    "# Plot: Approval vs. pct_black by pre/post George Floyd\n",
    "ggplot(plot_data, aes(x = pct_black, y = predicted, color = factor(post_georgefloyd))) +\n",
    "  geom_smooth(method = \"loess\", se = FALSE) +\n",
    "  labs(\n",
    "    title = \"Predicted Approval Rate vs. % Black Residents\",\n",
    "    x = \"Share of Black Population (pct_black)\",\n",
    "    y = \"Predicted Approval Rate\",\n",
    "    color = \"Post George Floyd (1 = 2020+)\"\n",
    "  ) +\n",
    "  scale_color_manual(labels = c(\"Pre-2020\", \"Post-2020\"), values = c(\"blue\", \"red\")) +\n",
    "  theme_minimal()\n"
   ]
  },
  {
   "cell_type": "code",
   "execution_count": 13,
   "metadata": {},
   "outputs": [
    {
     "name": "stdout",
     "output_type": "stream",
     "text": [
      " [1] \"activity_year\"                     \"lei\"                              \n",
      " [3] \"state_code\"                        \"county_code\"                      \n",
      " [5] \"derived_dwelling_category\"         \"action_taken\"                     \n",
      " [7] \"loan_purpose\"                      \"lien_status\"                      \n",
      " [9] \"loan_amount\"                       \"property_value\"                   \n",
      "[11] \"occupancy_type\"                    \"income\"                           \n",
      "[13] \"applicant_race-1\"                  \"initially_payable_to_institution\" \n",
      "[15] \"aus-1\"                             \"aus-2\"                            \n",
      "[17] \"aus-3\"                             \"aus-4\"                            \n",
      "[19] \"aus-5\"                             \"denial_reason-1\"                  \n",
      "[21] \"ffiec_msa_md_median_family_income\" \"GINI_inequality\"                  \n",
      "[23] \"black\"                             \"employment_rate\"                  \n",
      "[25] \"hispanic\"                          \"median_household_income\"          \n",
      "[27] \"population\"                        \"white\"                            \n",
      "[29] \"approved\"                          \"pct_black\"                        \n",
      "[31] \"pct_white\"                         \"pct_hispanic\"                     \n",
      "[33] \"post_georgefloyd\"                 \n"
     ]
    }
   ],
   "source": [
    "%%R\n",
    "colnames(df)\n"
   ]
  },
  {
   "cell_type": "code",
   "execution_count": null,
   "metadata": {},
   "outputs": [],
   "source": []
  },
  {
   "cell_type": "code",
   "execution_count": null,
   "metadata": {},
   "outputs": [],
   "source": []
  },
  {
   "cell_type": "code",
   "execution_count": 12,
   "metadata": {},
   "outputs": [],
   "source": [
    "%%R\n",
    "library(tidyr)\n",
    "\n",
    "county_demo_wide <- us_county_data %>%\n",
    "  select(GEOID, NAME, variable, estimate) %>%\n",
    "  pivot_wider(names_from = variable, values_from = estimate)\n",
    "\n",
    "# Save the cleaned wide-format CSV\n",
    "write.csv(county_demo_wide, \"county_demographics.csv\", row.names = FALSE)\n"
   ]
  },
  {
   "cell_type": "code",
   "execution_count": 14,
   "metadata": {},
   "outputs": [],
   "source": [
    "df_hmda_merged_2 = df_hmda_merged [\n",
    "    (df_hmda_merged ['loan_purpose'] == 1) &\n",
    "    (df_hmda_merged ['occupancy_type'] == 1) &\n",
    "    (df_hmda_merged ['lien_status'] == 1) &\n",
    "    (df_hmda_merged ['derived_dwelling_category'].isin([\n",
    "        'Single Family (1-4 Units):Site-Built',\n",
    "        'Single Family (1-4 Units):Manufactured'\n",
    "    ]))\n",
    "]\n"
   ]
  },
  {
   "cell_type": "code",
   "execution_count": 14,
   "metadata": {},
   "outputs": [
    {
     "data": {
      "text/html": [
       "<div>\n",
       "<style scoped>\n",
       "    .dataframe tbody tr th:only-of-type {\n",
       "        vertical-align: middle;\n",
       "    }\n",
       "\n",
       "    .dataframe tbody tr th {\n",
       "        vertical-align: top;\n",
       "    }\n",
       "\n",
       "    .dataframe thead th {\n",
       "        text-align: right;\n",
       "    }\n",
       "</style>\n",
       "<table border=\"1\" class=\"dataframe\">\n",
       "  <thead>\n",
       "    <tr style=\"text-align: right;\">\n",
       "      <th></th>\n",
       "      <th>activity_year</th>\n",
       "      <th>lei</th>\n",
       "      <th>state_code</th>\n",
       "      <th>county_code</th>\n",
       "      <th>derived_dwelling_category</th>\n",
       "      <th>action_taken</th>\n",
       "      <th>loan_purpose</th>\n",
       "      <th>lien_status</th>\n",
       "      <th>loan_amount</th>\n",
       "      <th>property_value</th>\n",
       "      <th>...</th>\n",
       "      <th>aus-5</th>\n",
       "      <th>denial_reason-1</th>\n",
       "      <th>ffiec_msa_md_median_family_income</th>\n",
       "      <th>GINI_inequality</th>\n",
       "      <th>black</th>\n",
       "      <th>employment_rate</th>\n",
       "      <th>hispanic</th>\n",
       "      <th>median_household_income</th>\n",
       "      <th>population</th>\n",
       "      <th>white</th>\n",
       "    </tr>\n",
       "  </thead>\n",
       "  <tbody>\n",
       "    <tr>\n",
       "      <th>93584888</th>\n",
       "      <td>2020</td>\n",
       "      <td>549300DAUXQ2DCY4H838</td>\n",
       "      <td>MA</td>\n",
       "      <td>25017.0</td>\n",
       "      <td>Single Family (1-4 Units):Site-Built</td>\n",
       "      <td>4</td>\n",
       "      <td>31</td>\n",
       "      <td>1</td>\n",
       "      <td>5.000006e+11</td>\n",
       "      <td>NaN</td>\n",
       "      <td>...</td>\n",
       "      <td>NaN</td>\n",
       "      <td>10.0</td>\n",
       "      <td>118800.0</td>\n",
       "      <td>NaN</td>\n",
       "      <td>NaN</td>\n",
       "      <td>NaN</td>\n",
       "      <td>NaN</td>\n",
       "      <td>NaN</td>\n",
       "      <td>NaN</td>\n",
       "      <td>NaN</td>\n",
       "    </tr>\n",
       "    <tr>\n",
       "      <th>131203215</th>\n",
       "      <td>2022</td>\n",
       "      <td>549300VQUTI5IU7GXT57</td>\n",
       "      <td>GA</td>\n",
       "      <td>13121.0</td>\n",
       "      <td>Single Family (1-4 Units):Site-Built</td>\n",
       "      <td>5</td>\n",
       "      <td>1</td>\n",
       "      <td>1</td>\n",
       "      <td>2.400003e+11</td>\n",
       "      <td>NaN</td>\n",
       "      <td>...</td>\n",
       "      <td>NaN</td>\n",
       "      <td>10.0</td>\n",
       "      <td>95700.0</td>\n",
       "      <td>NaN</td>\n",
       "      <td>NaN</td>\n",
       "      <td>NaN</td>\n",
       "      <td>NaN</td>\n",
       "      <td>NaN</td>\n",
       "      <td>NaN</td>\n",
       "      <td>NaN</td>\n",
       "    </tr>\n",
       "    <tr>\n",
       "      <th>147964425</th>\n",
       "      <td>2023</td>\n",
       "      <td>254900JXCS783CPF1D02</td>\n",
       "      <td>NY</td>\n",
       "      <td>00nan</td>\n",
       "      <td>Single Family (1-4 Units):Site-Built</td>\n",
       "      <td>3</td>\n",
       "      <td>4</td>\n",
       "      <td>1</td>\n",
       "      <td>2.323232e+11</td>\n",
       "      <td>NaN</td>\n",
       "      <td>...</td>\n",
       "      <td>NaN</td>\n",
       "      <td>9.0</td>\n",
       "      <td>0.0</td>\n",
       "      <td>NaN</td>\n",
       "      <td>NaN</td>\n",
       "      <td>NaN</td>\n",
       "      <td>NaN</td>\n",
       "      <td>NaN</td>\n",
       "      <td>NaN</td>\n",
       "      <td>NaN</td>\n",
       "    </tr>\n",
       "    <tr>\n",
       "      <th>89005608</th>\n",
       "      <td>2020</td>\n",
       "      <td>549300ZGTXNHL5BKQZ27</td>\n",
       "      <td>NaN</td>\n",
       "      <td>00nan</td>\n",
       "      <td>Single Family (1-4 Units):Site-Built</td>\n",
       "      <td>4</td>\n",
       "      <td>1</td>\n",
       "      <td>1</td>\n",
       "      <td>2.000003e+11</td>\n",
       "      <td>NaN</td>\n",
       "      <td>...</td>\n",
       "      <td>NaN</td>\n",
       "      <td>10.0</td>\n",
       "      <td>0.0</td>\n",
       "      <td>NaN</td>\n",
       "      <td>NaN</td>\n",
       "      <td>NaN</td>\n",
       "      <td>NaN</td>\n",
       "      <td>NaN</td>\n",
       "      <td>NaN</td>\n",
       "      <td>NaN</td>\n",
       "    </tr>\n",
       "    <tr>\n",
       "      <th>126719826</th>\n",
       "      <td>2022</td>\n",
       "      <td>549300NJVKCDJA5YC939</td>\n",
       "      <td>AZ</td>\n",
       "      <td>4015.0</td>\n",
       "      <td>Single Family (1-4 Units):Manufactured</td>\n",
       "      <td>4</td>\n",
       "      <td>31</td>\n",
       "      <td>1</td>\n",
       "      <td>4.568360e+10</td>\n",
       "      <td>NaN</td>\n",
       "      <td>...</td>\n",
       "      <td>NaN</td>\n",
       "      <td>10.0</td>\n",
       "      <td>63100.0</td>\n",
       "      <td>NaN</td>\n",
       "      <td>NaN</td>\n",
       "      <td>NaN</td>\n",
       "      <td>NaN</td>\n",
       "      <td>NaN</td>\n",
       "      <td>NaN</td>\n",
       "      <td>NaN</td>\n",
       "    </tr>\n",
       "  </tbody>\n",
       "</table>\n",
       "<p>5 rows × 28 columns</p>\n",
       "</div>"
      ],
      "text/plain": [
       "           activity_year                   lei state_code county_code  \\\n",
       "93584888            2020  549300DAUXQ2DCY4H838         MA     25017.0   \n",
       "131203215           2022  549300VQUTI5IU7GXT57         GA     13121.0   \n",
       "147964425           2023  254900JXCS783CPF1D02         NY       00nan   \n",
       "89005608            2020  549300ZGTXNHL5BKQZ27        NaN       00nan   \n",
       "126719826           2022  549300NJVKCDJA5YC939         AZ      4015.0   \n",
       "\n",
       "                        derived_dwelling_category  action_taken  loan_purpose  \\\n",
       "93584888     Single Family (1-4 Units):Site-Built             4            31   \n",
       "131203215    Single Family (1-4 Units):Site-Built             5             1   \n",
       "147964425    Single Family (1-4 Units):Site-Built             3             4   \n",
       "89005608     Single Family (1-4 Units):Site-Built             4             1   \n",
       "126719826  Single Family (1-4 Units):Manufactured             4            31   \n",
       "\n",
       "           lien_status   loan_amount property_value  ...  aus-5  \\\n",
       "93584888             1  5.000006e+11            NaN  ...    NaN   \n",
       "131203215            1  2.400003e+11            NaN  ...    NaN   \n",
       "147964425            1  2.323232e+11            NaN  ...    NaN   \n",
       "89005608             1  2.000003e+11            NaN  ...    NaN   \n",
       "126719826            1  4.568360e+10            NaN  ...    NaN   \n",
       "\n",
       "           denial_reason-1  ffiec_msa_md_median_family_income  \\\n",
       "93584888              10.0                           118800.0   \n",
       "131203215             10.0                            95700.0   \n",
       "147964425              9.0                                0.0   \n",
       "89005608              10.0                                0.0   \n",
       "126719826             10.0                            63100.0   \n",
       "\n",
       "           GINI_inequality  black  employment_rate  hispanic  \\\n",
       "93584888               NaN    NaN              NaN       NaN   \n",
       "131203215              NaN    NaN              NaN       NaN   \n",
       "147964425              NaN    NaN              NaN       NaN   \n",
       "89005608               NaN    NaN              NaN       NaN   \n",
       "126719826              NaN    NaN              NaN       NaN   \n",
       "\n",
       "           median_household_income  population  white  \n",
       "93584888                       NaN         NaN    NaN  \n",
       "131203215                      NaN         NaN    NaN  \n",
       "147964425                      NaN         NaN    NaN  \n",
       "89005608                       NaN         NaN    NaN  \n",
       "126719826                      NaN         NaN    NaN  \n",
       "\n",
       "[5 rows x 28 columns]"
      ]
     },
     "execution_count": 14,
     "metadata": {},
     "output_type": "execute_result"
    }
   ],
   "source": [
    "df_hmda_merged.sort_values(by='loan_amount', ascending=False).head()\n"
   ]
  }
 ],
 "metadata": {
  "kernelspec": {
   "display_name": "Python 3 (ipykernel)",
   "language": "python",
   "name": "python3"
  },
  "language_info": {
   "codemirror_mode": {
    "name": "ipython",
    "version": 3
   },
   "file_extension": ".py",
   "mimetype": "text/x-python",
   "name": "python",
   "nbconvert_exporter": "python",
   "pygments_lexer": "ipython3",
   "version": "3.10.12"
  }
 },
 "nbformat": 4,
 "nbformat_minor": 4
}
