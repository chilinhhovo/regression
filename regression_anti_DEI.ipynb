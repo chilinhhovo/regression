{
 "cells": [
  {
   "cell_type": "code",
   "execution_count": 1,
   "id": "dcecdf14-2a30-4cf7-b10d-92246308309c",
   "metadata": {},
   "outputs": [],
   "source": [
    "%load_ext rpy2.ipython\n",
    "%load_ext autoreload\n",
    "%autoreload 2\n",
    "\n",
    "%matplotlib inline  \n",
    "from matplotlib import rcParams\n",
    "rcParams['figure.figsize'] = (16, 100)\n",
    "\n",
    "import warnings\n",
    "from rpy2.rinterface import RRuntimeWarning\n",
    "warnings.filterwarnings(\"ignore\") # Ignore all warnings\n",
    "# warnings.filterwarnings(\"ignore\", category=RRuntimeWarning) # Show some warnings\n",
    "\n",
    "import pandas as pd\n",
    "import numpy as np\n",
    "import matplotlib.pyplot as plt\n",
    "from IPython.display import display, HTML"
   ]
  },
  {
   "cell_type": "code",
   "execution_count": 2,
   "id": "3be0a5a4-4863-4bbe-969d-4f57e9d219df",
   "metadata": {},
   "outputs": [
    {
     "data": {
      "application/javascript": [
       "// Disable auto-scrolling\n",
       "IPython.OutputArea.prototype._should_scroll = function(lines) {\n",
       "    return false;\n",
       "}\n"
      ],
      "text/plain": [
       "<IPython.core.display.Javascript object>"
      ]
     },
     "metadata": {},
     "output_type": "display_data"
    }
   ],
   "source": [
    "%%javascript\n",
    "// Disable auto-scrolling\n",
    "IPython.OutputArea.prototype._should_scroll = function(lines) {\n",
    "    return false;\n",
    "}"
   ]
  },
  {
   "cell_type": "code",
   "execution_count": 3,
   "id": "b63c8918-1a2f-42e4-bdac-12aa940d0a8c",
   "metadata": {},
   "outputs": [
    {
     "name": "stdout",
     "output_type": "stream",
     "text": [
      "── Attaching core tidyverse packages ──────────────────────── tidyverse 2.0.0 ──\n",
      "✔ dplyr     1.1.4     ✔ readr     2.1.5\n",
      "✔ forcats   1.0.0     ✔ stringr   1.5.1\n",
      "✔ ggplot2   3.5.2     ✔ tibble    3.2.1\n",
      "✔ lubridate 1.9.4     ✔ tidyr     1.3.1\n",
      "✔ purrr     1.0.4     \n",
      "── Conflicts ────────────────────────────────────────── tidyverse_conflicts() ──\n",
      "✖ dplyr::filter() masks stats::filter()\n",
      "✖ dplyr::lag()    masks stats::lag()\n",
      "ℹ Use the conflicted package (<http://conflicted.r-lib.org/>) to force all conflicts to become errors\n"
     ]
    },
    {
     "data": {
      "text/plain": [
       "Loading required package: tidyverse\n"
      ]
     },
     "metadata": {},
     "output_type": "display_data"
    }
   ],
   "source": [
    "%%R\n",
    "\n",
    "# My commonly used R imports\n",
    "\n",
    "require('tidyverse')"
   ]
  },
  {
   "cell_type": "code",
   "execution_count": 4,
   "id": "1f3761f1-fb91-4456-8350-c309d3cf1daa",
   "metadata": {},
   "outputs": [],
   "source": [
    "%%R\n",
    "# Load packages and prepare environment\n",
    "library(tidyverse)\n",
    "library(fixest)\n",
    "library(ggplot2)\n"
   ]
  },
  {
   "cell_type": "code",
   "execution_count": 5,
   "id": "44ccd2ac-ce07-423c-9289-1f8875229f23",
   "metadata": {},
   "outputs": [
    {
     "name": "stdout",
     "output_type": "stream",
     "text": [
      "Rows: 148917888 Columns: 28\n",
      "── Column specification ────────────────────────────────────────────────────────\n",
      "Delimiter: \",\"\n",
      "chr  (5): lei, state_code, county_code, derived_dwelling_category, property_...\n",
      "dbl (23): activity_year, action_taken, loan_purpose, lien_status, loan_amoun...\n",
      "\n",
      "ℹ Use `spec()` to retrieve the full column specification for this data.\n",
      "ℹ Specify the column types or set `show_col_types = FALSE` to quiet this message.\n"
     ]
    }
   ],
   "source": [
    "%%R\n",
    "# Load the dataset\n",
    "df <- read_csv(\"merged_hmda_with_demo.csv\")\n",
    "\n",
    "# Create binary outcome\n"
   ]
  },
  {
   "cell_type": "code",
   "execution_count": 77,
   "id": "9c20dc50-2ad8-428d-868b-2805a53c59ef",
   "metadata": {},
   "outputs": [
    {
     "name": "stdout",
     "output_type": "stream",
     "text": [
      "[1] 148917888\n"
     ]
    }
   ],
   "source": [
    "%%R\n",
    "nrow(df)"
   ]
  },
  {
   "cell_type": "code",
   "execution_count": null,
   "id": "b4de0ec8-afb0-440e-b82e-9657f48d8eb7",
   "metadata": {},
   "outputs": [],
   "source": []
  },
  {
   "cell_type": "code",
   "execution_count": 78,
   "id": "2eca2ded-f745-485f-b0bd-47ee30edd885",
   "metadata": {},
   "outputs": [
    {
     "name": "stdout",
     "output_type": "stream",
     "text": [
      "spc_tbl_ [148,917,888 × 28] (S3: spec_tbl_df/tbl_df/tbl/data.frame)\n",
      " $ activity_year                    : num [1:148917888] 2015 2015 2015 2015 2015 ...\n",
      " $ lei                              : chr [1:148917888] NA NA NA NA ...\n",
      " $ state_code                       : chr [1:148917888] \"6\" \"27\" \"41\" \"8\" ...\n",
      " $ county_code                      : chr [1:148917888] \"06065\" \"27147\" \"41009\" \"08014\" ...\n",
      " $ derived_dwelling_category        : chr [1:148917888] NA NA NA NA ...\n",
      " $ action_taken                     : num [1:148917888] 1 6 1 1 6 3 1 1 6 4 ...\n",
      " $ loan_purpose                     : num [1:148917888] 1 3 1 3 1 1 3 1 1 3 ...\n",
      " $ lien_status                      : num [1:148917888] 1 4 1 1 4 1 1 1 4 1 ...\n",
      " $ loan_amount                      : num [1:148917888] 265 151 148 152 161 ...\n",
      " $ property_value                   : chr [1:148917888] NA NA NA NA ...\n",
      " $ occupancy_type                   : num [1:148917888] 1 2 1 2 1 1 1 1 1 1 ...\n",
      " $ income                           : num [1:148917888] 91 NA 53 111 NA 314 38 150 32 56 ...\n",
      " $ applicant_race-1                 : num [1:148917888] 6 7 5 5 7 5 3 5 7 5 ...\n",
      " $ initially_payable_to_institution : num [1:148917888] NA NA NA NA NA NA NA NA NA NA ...\n",
      " $ aus-1                            : num [1:148917888] NA NA NA NA NA NA NA NA NA NA ...\n",
      " $ aus-2                            : num [1:148917888] NA NA NA NA NA NA NA NA NA NA ...\n",
      " $ aus-3                            : num [1:148917888] NA NA NA NA NA NA NA NA NA NA ...\n",
      " $ aus-4                            : num [1:148917888] NA NA NA NA NA NA NA NA NA NA ...\n",
      " $ aus-5                            : num [1:148917888] NA NA NA NA NA NA NA NA NA NA ...\n",
      " $ denial_reason-1                  : num [1:148917888] NA NA NA NA NA 5 NA NA NA NA ...\n",
      " $ ffiec_msa_md_median_family_income: num [1:148917888] 60500 63600 73900 79900 45800 70100 77300 63000 65100 59200 ...\n",
      " $ GINI_inequality                  : num [1:148917888] 0.452 0.427 0.408 0.408 0.439 ...\n",
      " $ black                            : num [1:148917888] 156255 1247 264 1032 4645 ...\n",
      " $ employment_rate                  : num [1:148917888] 1131857 19762 25139 42638 65719 ...\n",
      " $ hispanic                         : num [1:148917888] 1211185 3033 3007 9409 92400 ...\n",
      " $ median_household_income          : num [1:148917888] 76066 73468 73909 107570 66709 ...\n",
      " $ population                       : num [1:148917888] 2409331 37363 52381 72697 156304 ...\n",
      " $ white                            : num [1:148917888] 1232550 33644 46948 60366 85946 ...\n",
      " - attr(*, \"spec\")=\n",
      "  .. cols(\n",
      "  ..   activity_year = col_double(),\n",
      "  ..   lei = col_character(),\n",
      "  ..   state_code = col_character(),\n",
      "  ..   county_code = col_character(),\n",
      "  ..   derived_dwelling_category = col_character(),\n",
      "  ..   action_taken = col_double(),\n",
      "  ..   loan_purpose = col_double(),\n",
      "  ..   lien_status = col_double(),\n",
      "  ..   loan_amount = col_double(),\n",
      "  ..   property_value = col_character(),\n",
      "  ..   occupancy_type = col_double(),\n",
      "  ..   income = col_double(),\n",
      "  ..   `applicant_race-1` = col_double(),\n",
      "  ..   initially_payable_to_institution = col_double(),\n",
      "  ..   `aus-1` = col_double(),\n",
      "  ..   `aus-2` = col_double(),\n",
      "  ..   `aus-3` = col_double(),\n",
      "  ..   `aus-4` = col_double(),\n",
      "  ..   `aus-5` = col_double(),\n",
      "  ..   `denial_reason-1` = col_double(),\n",
      "  ..   ffiec_msa_md_median_family_income = col_double(),\n",
      "  ..   GINI_inequality = col_double(),\n",
      "  ..   black = col_double(),\n",
      "  ..   employment_rate = col_double(),\n",
      "  ..   hispanic = col_double(),\n",
      "  ..   median_household_income = col_double(),\n",
      "  ..   population = col_double(),\n",
      "  ..   white = col_double()\n",
      "  .. )\n",
      " - attr(*, \"problems\")=<externalptr> \n"
     ]
    }
   ],
   "source": [
    "%%R\n",
    "str(df)"
   ]
  },
  {
   "cell_type": "code",
   "execution_count": 8,
   "id": "60c248aa-78b1-470c-a1a6-0ba72fd93029",
   "metadata": {},
   "outputs": [],
   "source": [
    "%%R\n",
    "df_clean <- df %>%\n",
    "  filter(\n",
    "    loan_purpose == 1,\n",
    "    derived_dwelling_category == \"Single Family (1-4 Units):Site-Built\",\n",
    "    occupancy_type == 1,\n",
    "    income > 0\n",
    "  ) %>%\n",
    "  mutate(\n",
    "    approved = ifelse(action_taken %in% c(1, 2, 6), 1, 0),\n",
    "    debt_to_income = loan_amount / income,\n",
    "    race = case_when(\n",
    "      `applicant_race-1` == 1 ~ \"White\",\n",
    "      `applicant_race-1` == 3 ~ \"Black\",\n",
    "      TRUE ~ NA_character_\n",
    "    )\n",
    "  ) %>%\n",
    "  filter(!is.na(race), is.finite(debt_to_income))\n"
   ]
  },
  {
   "cell_type": "code",
   "execution_count": 9,
   "id": "b950c357-c55d-4830-a343-fb649e384afc",
   "metadata": {},
   "outputs": [],
   "source": [
    "%%R\n",
    "# Define the signature dates for anti-DEI laws per state\n",
    "anti_dei_law_dates <- data.frame(\n",
    "  state_code = c(\"ND\", \"OK\", \"TN\", \"IA\", \"ID\", \"FL\", \"MO\", \"MT\", \"NH\", \"OH\"),\n",
    "  law_date = as.Date(c(\n",
    "    \"2021-03-24\",  # North Dakota\n",
    "    \"2021-05-05\",  # Oklahoma\n",
    "    \"2021-05-25\",  # Tennessee\n",
    "    \"2021-06-08\",  # Iowa\n",
    "    \"2021-04-28\",  # Idaho\n",
    "    \"2022-04-22\",  # Florida\n",
    "    \"2023-05-12\",  # Missouri\n",
    "    \"2023-04-19\",  # Montana\n",
    "    \"2023-07-12\",  # New Hampshire\n",
    "    \"2024-12-19\"   # Ohio\n",
    "  ))\n",
    ")"
   ]
  },
  {
   "cell_type": "code",
   "execution_count": 10,
   "id": "abcffc40-9f6b-4495-ab90-a9c31da5cd1a",
   "metadata": {},
   "outputs": [],
   "source": [
    "%%R\n",
    "# Merge the law dates into the main dataset\n",
    "df_clean <- df_clean %>%\n",
    "  left_join(anti_dei_law_dates, by = \"state_code\") %>%\n",
    "  mutate(\n",
    "    # Convert activity_year to Date format for comparison\n",
    "    activity_date = as.Date(paste0(activity_year, \"-01-01\")),\n",
    "    # Define post_dei_law based on the law_date\n",
    "    post_dei_law = ifelse(!is.na(law_date) & activity_date >= law_date, 1, 0),\n",
    "    # Define anti_dei_state as 1 if the state has a law_date\n",
    "    anti_dei_state = ifelse(!is.na(law_date), 1, 0)\n",
    "  )\n"
   ]
  },
  {
   "cell_type": "code",
   "execution_count": 11,
   "id": "3ee0cf3d-e573-422a-8a45-23457a19e2a7",
   "metadata": {},
   "outputs": [],
   "source": [
    "%%R\n",
    "df_clean <- df_clean %>%\n",
    "  filter(`applicant_race-1` %in% c(1, 3)) %>%  # 1 = White, 3 = Black\n",
    "  mutate(\n",
    "    race = ifelse(`applicant_race-1` == 3, \"Black\", \"White\"),\n",
    "    debt_to_income = loan_amount / income\n",
    "  ) %>%\n",
    "  filter(income > 0, is.finite(debt_to_income))\n"
   ]
  },
  {
   "cell_type": "code",
   "execution_count": 50,
   "id": "f1311a85-5d81-4f12-ac53-1ed1a7be519e",
   "metadata": {},
   "outputs": [
    {
     "name": "stdout",
     "output_type": "stream",
     "text": [
      "GLM estimation, family = binomial, Dep. Var.: approved\n",
      "Observations: 2,896,043\n",
      "Fixed-effects: activity_year: 6,  lei: 3,671,  county_code: 2,645\n",
      "Standard-errors: Clustered (activity_year) \n",
      "                                      Estimate   Std. Error   z value\n",
      "post_dei_law                      -0.025734879 2.155201e-02 -1.194083\n",
      "anti_dei_state                     0.615973820 2.928417e-01  2.103436\n",
      "income                             0.000021822 1.322147e-05  1.650488\n",
      "loan_amount                        0.000000377 8.432277e-08  4.472466\n",
      "debt_to_income                    -0.000046777 1.472748e-05 -3.176202\n",
      "post_dei_law:black                -0.000000110 1.345675e-07 -0.816825\n",
      "anti_dei_state:black               0.000001969 3.971634e-07  4.957815\n",
      "post_dei_law:anti_dei_state:black  0.000000110 0.000000e+00       Inf\n",
      "                                    Pr(>|z|)    \n",
      "post_dei_law                      2.3245e-01    \n",
      "anti_dei_state                    3.5428e-02 *  \n",
      "income                            9.8843e-02 .  \n",
      "loan_amount                       7.7323e-06 ***\n",
      "debt_to_income                    1.4922e-03 ** \n",
      "post_dei_law:black                4.1403e-01    \n",
      "anti_dei_state:black              7.1291e-07 ***\n",
      "post_dei_law:anti_dei_state:black  < 2.2e-16 ***\n",
      "... 2 variables were removed because of collinearity (black and post_dei_law:anti_dei_state)\n",
      "---\n",
      "Signif. codes:  0 '***' 0.001 '**' 0.01 '*' 0.05 '.' 0.1 ' ' 1\n",
      "Log-Likelihood: -1,715,902.8   Adj. Pseudo R2: 0.040747\n",
      "           BIC:  3,525,959.0     Squared Cor.: 0.055081\n",
      "# Evaluations: lhs: 25 -- no convergence: Maximum number of iterations reached \n"
     ]
    },
    {
     "data": {
      "text/plain": [
       "NOTES: 146,056 observations removed because of NA values (RHS: 146,056).\n",
       "       0/1,077/317 fixed-effects (4,251 observations) removed because of only 0 (or only 1) outcomes.\n",
       "The variables 'black' and 'post_dei_law:anti_dei_state' have been removed because of collinearity (see $collin.var).\n",
       "In addition: Warning message:\n",
       "Absence of convergence: Maximum number of iterations reached (25). Final deviance: 3,431,805.6. \n"
      ]
     },
     "metadata": {},
     "output_type": "display_data"
    }
   ],
   "source": [
    "%%R\n",
    "library(fixest)\n",
    "\n",
    "# Make sure your data is filtered correctly first\n",
    "df_black <- df_clean %>% filter(race == \"Black\")\n",
    "\n",
    "# Run logistic regression with fixed effects\n",
    "model_black_logit <- feglm(\n",
    "  approved ~ post_dei_law * anti_dei_state * black + income + loan_amount + debt_to_income |\n",
    "    activity_year + lei + county_code,\n",
    "  data = df_black,\n",
    "  family = \"binomial\"\n",
    ")\n",
    "\n",
    "# View summary\n",
    "summary(model_black_logit)\n",
    "#shivangi's feedback: add liberal or rebuplican and white versus non-white"
   ]
  },
  {
   "cell_type": "code",
   "execution_count": 32,
   "id": "15433669-7fe6-47da-a6c6-9dff606f4ecb",
   "metadata": {},
   "outputs": [],
   "source": [
    "# %%R\n",
    "# df_with_prediction <- df_clean %>% \n",
    "#     na.omit %>% \n",
    "#     mutate (\n",
    "#         prediction=predict(model_full),\n",
    "#         residuals=resid(model_full),\n",
    "#         residuals_z=scale(residuals)\n",
    "        \n",
    "#     )%>%\n",
    "#     arrange(residuals)\n",
    "# write.csv(df_with_prediction, 'df_with_prediction.csv')\n"
   ]
  },
  {
   "cell_type": "code",
   "execution_count": 60,
   "id": "c4ce07a9-b038-4df4-8d9e-7d9f4d3eedb3",
   "metadata": {},
   "outputs": [
    {
     "name": "stdout",
     "output_type": "stream",
     "text": [
      "OLS estimation, Dep. Var.: approved\n",
      "Observations: 2,900,294\n",
      "Fixed-effects: activity_year: 6,  county_code: 2,962\n",
      "Standard-errors: Clustered (activity_year) \n",
      "                          Estimate   Std. Error   t value   Pr(>|t|)    \n",
      "post_dei_law         -0.0010498930 5.153188e-03 -0.203737 8.4659e-01    \n",
      "anti_dei_state        0.1618609489 5.359695e-02  3.019966 2.9418e-02 *  \n",
      "income                0.0000028332 2.247800e-07 12.604544 5.5824e-05 ***\n",
      "loan_amount           0.0000000134 5.640000e-09  2.377879 6.3331e-02 .  \n",
      "debt_to_income       -0.0000007375 3.101000e-07 -2.378364 6.3293e-02 .  \n",
      "post_dei_law:black   -0.0000000462 1.827000e-08 -2.528512 5.2625e-02 .  \n",
      "anti_dei_state:black  0.0000005168 7.602000e-08  6.798480 1.0483e-03 ** \n",
      "... 3 variables were removed because of collinearity (black, post_dei_law:anti_dei_state and post_dei_law:anti_dei_state:black)\n",
      "---\n",
      "Signif. codes:  0 '***' 0.001 '**' 0.01 '*' 0.05 '.' 0.1 ' ' 1\n",
      "RMSE: 0.460527     Adj. R2: 0.009115\n",
      "                 Within R2: 0.001127\n"
     ]
    }
   ],
   "source": [
    "%%R\n",
    "summary(model_black)"
   ]
  },
  {
   "cell_type": "code",
   "execution_count": 68,
   "id": "8c74d8b4-ffdd-43a6-bcce-85ae80f2dcc9",
   "metadata": {},
   "outputs": [
    {
     "name": "stdout",
     "output_type": "stream",
     "text": [
      "`summarise()` has grouped output by 'activity_year', 'race'. You can override\n",
      "using the `.groups` argument.\n"
     ]
    }
   ],
   "source": [
    "%%R\n",
    "df_clean %>%\n",
    "  group_by(activity_year, race, anti_dei_state) %>%\n",
    "  summarise(approval_rate = mean(approved)) %>%\n",
    "  ggplot(aes(x = activity_year, y = approval_rate, color = race, linetype = as.factor(anti_dei_state))) +\n",
    "  geom_line() +\n",
    "  labs(title = \"Approval Trends Over Time by Race and DEI Policy\")\n",
    "ggsave(\n",
    "  filename = \"approval_trends_all_states.png\",\n",
    "  width = 14,              \n",
    "  height = 10,            \n",
    "  dpi = 600\n",
    ")\n",
    "\n"
   ]
  },
  {
   "cell_type": "code",
   "execution_count": 63,
   "id": "2fd5c5d9-f49a-427f-b95f-1bf8f4286edc",
   "metadata": {},
   "outputs": [
    {
     "name": "stdout",
     "output_type": "stream",
     "text": [
      "`summarise()` has grouped output by 'activity_year', 'race', 'anti_dei_state'.\n",
      "You can override using the `.groups` argument.\n"
     ]
    }
   ],
   "source": [
    "%%R\n",
    "df_clean %>%\n",
    "  group_by(activity_year, race, anti_dei_state, state_code) %>%\n",
    "  summarise(approval_rate = mean(approved, na.rm = TRUE)) %>%\n",
    "  ggplot(aes(x = activity_year, y = approval_rate, color = race, linetype = as.factor(anti_dei_state))) +\n",
    "  geom_line() +\n",
    "  facet_wrap(~ state_code) +\n",
    "  labs(\n",
    "    title = \"Approval Trends Over Time by Race and DEI Policy\",\n",
    "    x = \"Year\",\n",
    "    y = \"Approval Rate\",\n",
    "    linetype = \"Anti-DEI State\",\n",
    "    color = \"Race\"\n",
    "  ) +\n",
    "  theme_minimal()\n",
    "# Save \n",
    "ggsave(\n",
    "  filename = \"approval_trends_by_state.png\",\n",
    "  width = 14,              \n",
    "  height = 10,            \n",
    "  dpi = 600\n",
    ")\n"
   ]
  },
  {
   "cell_type": "code",
   "execution_count": 64,
   "id": "3742692d-43ab-4309-aadb-e19495a86ffa",
   "metadata": {},
   "outputs": [],
   "source": [
    "%%R\n",
    "\n",
    "# Identify anti-DEI states\n",
    "anti_dei_states <- df_clean %>%\n",
    "  filter(anti_dei_state == 1) %>%\n",
    "  distinct(state_code) %>%\n",
    "  pull(state_code)\n",
    "\n",
    "# Create a named vector for facet labels\n",
    "state_labels <- df_clean %>%\n",
    "  distinct(state_code) %>%\n",
    "  mutate(label = if_else(state_code %in% anti_dei_states,\n",
    "                         paste0(state_code, \" *\"),\n",
    "                         state_code)) %>%\n",
    "  deframe()\n"
   ]
  },
  {
   "cell_type": "code",
   "execution_count": 71,
   "id": "5cc2cb62-cd40-4934-8e9e-c108024fd65c",
   "metadata": {},
   "outputs": [],
   "source": [
    "%%R\n",
    "df_clean %>%\n",
    "  group_by(activity_year, race, anti_dei_state, state_code) %>%\n",
    "  summarise(approval_rate = mean(approved, na.rm = TRUE), .groups = \"drop\") %>%\n",
    "  ggplot(aes(x = activity_year, y = approval_rate, color = race, linetype = as.factor(anti_dei_state))) +\n",
    "  geom_line() +\n",
    "  facet_wrap(~ state_code, labeller = labeller(state_code = state_labels), scales = 'free') +\n",
    "  labs(\n",
    "    title = \"Approval Trends Over Time by Race and DEI Policy\",\n",
    "    x = \"Year\",\n",
    "    y = \"Approval Rate\",\n",
    "    linetype = \"Anti-DEI State\",\n",
    "    color = \"Race\"\n",
    "  ) +\n",
    "  theme_minimal()\n",
    "ggsave(\n",
    "  filename = \"approval_trends_by_state*.png\",\n",
    "  width = 14,              \n",
    "  height = 10,            \n",
    "  dpi = 600\n",
    ")\n"
   ]
  },
  {
   "cell_type": "code",
   "execution_count": null,
   "id": "780fbbef-f853-4239-a47f-3cdecc917afc",
   "metadata": {},
   "outputs": [],
   "source": []
  }
 ],
 "metadata": {
  "kernelspec": {
   "display_name": "Python 3 (ipykernel)",
   "language": "python",
   "name": "python3"
  },
  "language_info": {
   "codemirror_mode": {
    "name": "ipython",
    "version": 3
   },
   "file_extension": ".py",
   "mimetype": "text/x-python",
   "name": "python",
   "nbconvert_exporter": "python",
   "pygments_lexer": "ipython3",
   "version": "3.10.12"
  }
 },
 "nbformat": 4,
 "nbformat_minor": 5
}
