{
 "cells": [
  {
   "cell_type": "code",
   "execution_count": 1,
   "id": "dcecdf14-2a30-4cf7-b10d-92246308309c",
   "metadata": {},
   "outputs": [],
   "source": [
    "%load_ext rpy2.ipython\n",
    "%load_ext autoreload\n",
    "%autoreload 2\n",
    "\n",
    "%matplotlib inline  \n",
    "from matplotlib import rcParams\n",
    "rcParams['figure.figsize'] = (16, 100)\n",
    "\n",
    "import warnings\n",
    "from rpy2.rinterface import RRuntimeWarning\n",
    "warnings.filterwarnings(\"ignore\") # Ignore all warnings\n",
    "# warnings.filterwarnings(\"ignore\", category=RRuntimeWarning) # Show some warnings\n",
    "\n",
    "import pandas as pd\n",
    "import numpy as np\n",
    "import matplotlib.pyplot as plt\n",
    "from IPython.display import display, HTML"
   ]
  },
  {
   "cell_type": "code",
   "execution_count": 2,
   "id": "3be0a5a4-4863-4bbe-969d-4f57e9d219df",
   "metadata": {},
   "outputs": [
    {
     "data": {
      "application/javascript": [
       "// Disable auto-scrolling\n",
       "IPython.OutputArea.prototype._should_scroll = function(lines) {\n",
       "    return false;\n",
       "}\n"
      ],
      "text/plain": [
       "<IPython.core.display.Javascript object>"
      ]
     },
     "metadata": {},
     "output_type": "display_data"
    }
   ],
   "source": [
    "%%javascript\n",
    "// Disable auto-scrolling\n",
    "IPython.OutputArea.prototype._should_scroll = function(lines) {\n",
    "    return false;\n",
    "}"
   ]
  },
  {
   "cell_type": "code",
   "execution_count": 3,
   "id": "b63c8918-1a2f-42e4-bdac-12aa940d0a8c",
   "metadata": {},
   "outputs": [
    {
     "name": "stdout",
     "output_type": "stream",
     "text": [
      "── Attaching core tidyverse packages ──────────────────────── tidyverse 2.0.0 ──\n",
      "✔ dplyr     1.1.4     ✔ readr     2.1.5\n",
      "✔ forcats   1.0.0     ✔ stringr   1.5.1\n",
      "✔ ggplot2   3.5.2     ✔ tibble    3.2.1\n",
      "✔ lubridate 1.9.4     ✔ tidyr     1.3.1\n",
      "✔ purrr     1.0.4     \n",
      "── Conflicts ────────────────────────────────────────── tidyverse_conflicts() ──\n",
      "✖ dplyr::filter() masks stats::filter()\n",
      "✖ dplyr::lag()    masks stats::lag()\n",
      "ℹ Use the conflicted package (<http://conflicted.r-lib.org/>) to force all conflicts to become errors\n"
     ]
    },
    {
     "data": {
      "text/plain": [
       "Loading required package: tidyverse\n"
      ]
     },
     "metadata": {},
     "output_type": "display_data"
    }
   ],
   "source": [
    "%%R\n",
    "\n",
    "# My commonly used R imports\n",
    "\n",
    "require('tidyverse')"
   ]
  },
  {
   "cell_type": "code",
   "execution_count": 4,
   "id": "1f3761f1-fb91-4456-8350-c309d3cf1daa",
   "metadata": {},
   "outputs": [],
   "source": [
    "%%R\n",
    "# Load packages and prepare environment\n",
    "library(tidyverse)\n",
    "library(fixest)\n",
    "library(ggplot2)\n"
   ]
  },
  {
   "cell_type": "code",
   "execution_count": 8,
   "id": "44ccd2ac-ce07-423c-9289-1f8875229f23",
   "metadata": {},
   "outputs": [
    {
     "name": "stdout",
     "output_type": "stream",
     "text": [
      "Rows: 148917888 Columns: 30\n",
      "── Column specification ────────────────────────────────────────────────────────\n",
      "Delimiter: \",\"\n",
      "chr  (7): lei, state_code, derived_dwelling_category, property_value, county...\n",
      "dbl (23): year, county_code, action_taken, loan_purpose, lien_status, loan_a...\n",
      "\n",
      "ℹ Use `spec()` to retrieve the full column specification for this data.\n",
      "ℹ Specify the column types or set `show_col_types = FALSE` to quiet this message.\n"
     ]
    }
   ],
   "source": [
    "%%R\n",
    "# Load the dataset\n",
    "df <- read_csv(\"merged_election_hmda.csv\")\n",
    "\n",
    "# Create binary outcome\n"
   ]
  },
  {
   "cell_type": "code",
   "execution_count": 9,
   "id": "9c20dc50-2ad8-428d-868b-2805a53c59ef",
   "metadata": {},
   "outputs": [
    {
     "name": "stdout",
     "output_type": "stream",
     "text": [
      "[1] 148917888\n"
     ]
    }
   ],
   "source": [
    "%%R\n",
    "nrow(df)"
   ]
  },
  {
   "cell_type": "code",
   "execution_count": 10,
   "id": "2eca2ded-f745-485f-b0bd-47ee30edd885",
   "metadata": {},
   "outputs": [
    {
     "name": "stdout",
     "output_type": "stream",
     "text": [
      "spc_tbl_ [148,917,888 × 30] (S3: spec_tbl_df/tbl_df/tbl/data.frame)\n",
      " $ year                             : num [1:148917888] 2015 2015 2015 2015 2015 ...\n",
      " $ lei                              : chr [1:148917888] NA NA NA NA ...\n",
      " $ state_code                       : chr [1:148917888] \"6\" \"27\" \"41\" \"8\" ...\n",
      " $ county_code                      : num [1:148917888] 6065 27147 41009 8014 6039 ...\n",
      " $ derived_dwelling_category        : chr [1:148917888] NA NA NA NA ...\n",
      " $ action_taken                     : num [1:148917888] 1 6 1 1 6 3 1 1 6 4 ...\n",
      " $ loan_purpose                     : num [1:148917888] 1 3 1 3 1 1 3 1 1 3 ...\n",
      " $ lien_status                      : num [1:148917888] 1 4 1 1 4 1 1 1 4 1 ...\n",
      " $ loan_amount                      : num [1:148917888] 265 151 148 152 161 ...\n",
      " $ property_value                   : chr [1:148917888] NA NA NA NA ...\n",
      " $ occupancy_type                   : num [1:148917888] 1 2 1 2 1 1 1 1 1 1 ...\n",
      " $ income                           : num [1:148917888] 91 NA 53 111 NA 314 38 150 32 56 ...\n",
      " $ applicant_race-1                 : num [1:148917888] 6 7 5 5 7 5 3 5 7 5 ...\n",
      " $ initially_payable_to_institution : num [1:148917888] NA NA NA NA NA NA NA NA NA NA ...\n",
      " $ aus-1                            : num [1:148917888] NA NA NA NA NA NA NA NA NA NA ...\n",
      " $ aus-2                            : num [1:148917888] NA NA NA NA NA NA NA NA NA NA ...\n",
      " $ aus-3                            : num [1:148917888] NA NA NA NA NA NA NA NA NA NA ...\n",
      " $ aus-4                            : num [1:148917888] NA NA NA NA NA NA NA NA NA NA ...\n",
      " $ aus-5                            : num [1:148917888] NA NA NA NA NA NA NA NA NA NA ...\n",
      " $ denial_reason-1                  : num [1:148917888] NA NA NA NA NA 5 NA NA NA NA ...\n",
      " $ ffiec_msa_md_median_family_income: num [1:148917888] 60500 63600 73900 79900 45800 70100 77300 63000 65100 59200 ...\n",
      " $ county_fips                      : chr [1:148917888] NA NA NA NA ...\n",
      " $ county_name                      : chr [1:148917888] NA NA NA NA ...\n",
      " $ state                            : chr [1:148917888] NA NA NA NA ...\n",
      " $ votes_gop                        : num [1:148917888] NA NA NA NA NA NA NA NA NA NA ...\n",
      " $ votes_dem                        : num [1:148917888] NA NA NA NA NA NA NA NA NA NA ...\n",
      " $ total_votes                      : num [1:148917888] NA NA NA NA NA NA NA NA NA NA ...\n",
      " $ pct_gop                          : num [1:148917888] NA NA NA NA NA NA NA NA NA NA ...\n",
      " $ pct_dem                          : num [1:148917888] NA NA NA NA NA NA NA NA NA NA ...\n",
      " $ margin                           : num [1:148917888] NA NA NA NA NA NA NA NA NA NA ...\n",
      " - attr(*, \"spec\")=\n",
      "  .. cols(\n",
      "  ..   year = col_double(),\n",
      "  ..   lei = col_character(),\n",
      "  ..   state_code = col_character(),\n",
      "  ..   county_code = col_double(),\n",
      "  ..   derived_dwelling_category = col_character(),\n",
      "  ..   action_taken = col_double(),\n",
      "  ..   loan_purpose = col_double(),\n",
      "  ..   lien_status = col_double(),\n",
      "  ..   loan_amount = col_double(),\n",
      "  ..   property_value = col_character(),\n",
      "  ..   occupancy_type = col_double(),\n",
      "  ..   income = col_double(),\n",
      "  ..   `applicant_race-1` = col_double(),\n",
      "  ..   initially_payable_to_institution = col_double(),\n",
      "  ..   `aus-1` = col_double(),\n",
      "  ..   `aus-2` = col_double(),\n",
      "  ..   `aus-3` = col_double(),\n",
      "  ..   `aus-4` = col_double(),\n",
      "  ..   `aus-5` = col_double(),\n",
      "  ..   `denial_reason-1` = col_double(),\n",
      "  ..   ffiec_msa_md_median_family_income = col_double(),\n",
      "  ..   county_fips = col_character(),\n",
      "  ..   county_name = col_character(),\n",
      "  ..   state = col_character(),\n",
      "  ..   votes_gop = col_double(),\n",
      "  ..   votes_dem = col_double(),\n",
      "  ..   total_votes = col_double(),\n",
      "  ..   pct_gop = col_double(),\n",
      "  ..   pct_dem = col_double(),\n",
      "  ..   margin = col_double()\n",
      "  .. )\n",
      " - attr(*, \"problems\")=<externalptr> \n"
     ]
    }
   ],
   "source": [
    "%%R\n",
    "str(df)"
   ]
  },
  {
   "cell_type": "code",
   "execution_count": 55,
   "id": "60c248aa-78b1-470c-a1a6-0ba72fd93029",
   "metadata": {},
   "outputs": [],
   "source": [
    "%%R\n",
    "df_clean <- df %>%\n",
    "  filter(\n",
    "    loan_purpose == 1,\n",
    "    derived_dwelling_category == \"Single Family (1-4 Units):Site-Built\",\n",
    "    occupancy_type == 1,\n",
    "    income > 0\n",
    "  ) %>%\n",
    "  mutate(\n",
    "    approved = ifelse(action_taken %in% c(1, 2, 6), 1, 0),\n",
    "    debt_to_income = loan_amount / income,\n",
    "    race = case_when(\n",
    "      `applicant_race-1` == 1 ~ \"White\",\n",
    "      `applicant_race-1` == 3 ~ \"Black\",\n",
    "      TRUE ~ NA_character_\n",
    "    )\n",
    "  ) %>%\n",
    "  filter(!is.na(race), is.finite(debt_to_income))\n"
   ]
  },
  {
   "cell_type": "code",
   "execution_count": 56,
   "id": "f8196ba6-54a0-4d12-b404-6373e34ad8ff",
   "metadata": {},
   "outputs": [],
   "source": [
    "%%R\n",
    "df_clean <- df_clean %>%\n",
    "  mutate(\n",
    "    trump_county = ifelse(pct_gop > 0.5, 1, 0),\n",
    "    biden_county = ifelse(pct_dem > 0.5, 1, 0)\n",
    "  )\n"
   ]
  },
  {
   "cell_type": "code",
   "execution_count": 46,
   "id": "b950c357-c55d-4830-a343-fb649e384afc",
   "metadata": {},
   "outputs": [],
   "source": [
    "%%R\n",
    "# Define the signature dates for anti-DEI laws per state\n",
    "anti_dei_law_dates <- data.frame(\n",
    "  state_code = c(\"ND\", \"OK\", \"TN\", \"IA\", \"ID\", \"FL\", \"MO\", \"MT\", \"NH\", \"OH\"),\n",
    "  law_date = as.Date(c(\n",
    "    \"2021-03-24\",  # North Dakota\n",
    "    \"2021-05-05\",  # Oklahoma\n",
    "    \"2021-05-25\",  # Tennessee\n",
    "    \"2021-06-08\",  # Iowa\n",
    "    \"2021-04-28\",  # Idaho\n",
    "    \"2022-04-22\",  # Florida\n",
    "    \"2023-05-12\",  # Missouri\n",
    "    \"2023-04-19\",  # Montana\n",
    "    \"2023-07-12\",  # New Hampshire\n",
    "    \"2024-12-19\"   # Ohio\n",
    "  ))\n",
    ")"
   ]
  },
  {
   "cell_type": "code",
   "execution_count": 48,
   "id": "684308f1-7a6b-498a-84c6-bd0158021e7e",
   "metadata": {},
   "outputs": [],
   "source": [
    "%%R\n",
    "# merge:\n",
    "df_clean <- df_clean %>%\n",
    "  left_join(anti_dei_law_dates, by = \"state_code\")\n"
   ]
  },
  {
   "cell_type": "code",
   "execution_count": 49,
   "id": "abcffc40-9f6b-4495-ab90-a9c31da5cd1a",
   "metadata": {},
   "outputs": [],
   "source": [
    "%%R\n",
    "# Merge in law signature dates and create correct pre/post\n",
    "df_clean <- df_clean %>%\n",
    "  left_join(anti_dei_law_dates, by = \"state_code\") %>%\n",
    "  mutate(\n",
    "    activity_date = as.Date(paste0(year, \"-01-01\")),\n",
    "    post_dei_law = ifelse(!is.na(law_date) & activity_date >= law_date, 1, 0),\n",
    "    anti_dei_state = ifelse(!is.na(law_date), 1, 0)\n",
    "  )\n"
   ]
  },
  {
   "cell_type": "code",
   "execution_count": 50,
   "id": "78662b70-1f04-473c-a1c9-358c0dcc7912",
   "metadata": {},
   "outputs": [
    {
     "name": "stdout",
     "output_type": "stream",
     "text": [
      "GLM estimation, family = binomial, Dep. Var.: approved\n",
      "Observations: 89,374\n",
      "Fixed-effects: year: 1,  lei: 789,  county_code: 347\n",
      "Standard-errors: IID \n",
      "                  Estimate Std. Error   z value   Pr(>|z|)    \n",
      "income          3.9274e-05 8.7838e-06   4.47119 7.7785e-06 ***\n",
      "loan_amount     8.5200e-07 7.5700e-08  11.25896  < 2.2e-16 ***\n",
      "debt_to_income -7.3428e-05 4.9622e-06 -14.79745  < 2.2e-16 ***\n",
      "... 1 variable was removed because of collinearity (trump_county)\n",
      "---\n",
      "Signif. codes:  0 '***' 0.001 '**' 0.01 '*' 0.05 '.' 0.1 ' ' 1\n",
      "Log-Likelihood: -52,669.5   Adj. Pseudo R2: 0.033906\n",
      "           BIC: 118,312.8     Squared Cor.: 0.066822\n",
      "# Evaluations: lhs: 25 -- no convergence: Maximum number of iterations reached \n"
     ]
    },
    {
     "data": {
      "text/plain": [
       "NOTES: 426,777 observations removed because of NA values (RHS: 426,777, Fixed-effects: 7,071).\n",
       "       0/386/139 fixed-effects (1,245 observations) removed because of only 0 (or only 1) outcomes.\n",
       "The variable 'trump_county' has been removed because of collinearity (see $collin.var).\n",
       "In addition: Warning message:\n",
       "Absence of convergence: Maximum number of iterations reached (25). Final deviance: 105,338.9. \n"
      ]
     },
     "metadata": {},
     "output_type": "display_data"
    }
   ],
   "source": [
    "%%R\n",
    "library(fixest)\n",
    "\n",
    "# Only Black applicants for cleaner regression\n",
    "df_black <- df_clean %>%\n",
    "  filter(race == \"Black\", anti_dei_state == 1)\n",
    "\n",
    "# Logistic model (feglm = logistic with fixed effects)\n",
    "model_black_logit <- feglm(\n",
    "  approved ~ post_dei_law * trump_county + income + loan_amount + debt_to_income |\n",
    "    year + lei + county_code,\n",
    "  data = df_black,\n",
    "  family = \"binomial\"\n",
    ")\n",
    "\n",
    "summary(model_black_logit)\n"
   ]
  },
  {
   "cell_type": "code",
   "execution_count": 57,
   "id": "21d8c709-24ae-4bf6-911b-aba7a62eeeb9",
   "metadata": {},
   "outputs": [
    {
     "name": "stdout",
     "output_type": "stream",
     "text": [
      "GLM estimation, family = binomial, Dep. Var.: approved\n",
      "Observations: 516,176\n",
      "Fixed-effects: year: 1,  lei: 2,051,  county_code: 1,856\n",
      "Standard-errors: IID \n",
      "                                Estimate   Std. Error   z value  Pr(>|z|)    \n",
      "anti_dei_state               2.003591274 0.8692535325   2.30496  0.021169 *  \n",
      "income                       0.000037014 0.0000041522   8.91424 < 2.2e-16 ***\n",
      "loan_amount                  0.000000810 0.0000000273  29.71488 < 2.2e-16 ***\n",
      "debt_to_income              -0.000096282 0.0000021598 -44.57875 < 2.2e-16 ***\n",
      "anti_dei_state:trump_county -1.846446594 1.1375111087  -1.62323  0.104539    \n",
      "... 1 variable was removed because of collinearity (trump_county)\n",
      "---\n",
      "Signif. codes:  0 '***' 0.001 '**' 0.01 '*' 0.05 '.' 0.1 ' ' 1\n",
      "Log-Likelihood: -298,268.2   Adj. Pseudo R2: 0.047863\n",
      "           BIC:  647,982.5     Squared Cor.: 0.070828\n"
     ]
    },
    {
     "data": {
      "text/plain": [
       "NOTES: 2,525,943 observations removed because of NA values (RHS: 2,525,943, Fixed-effects: 145,963).\n",
       "       0/977/514 fixed-effects (4,231 observations) removed because of only 0 (or only 1) outcomes.\n",
       "The variable 'trump_county' has been removed because of collinearity (see $collin.var).\n",
       "In addition: Warning message:\n",
       "In fixest_env(fml = fml, data = data, family = famil...:\n",
       " feglm(fml = app...: control is not a valid argument for function feglm() \n"
      ]
     },
     "metadata": {},
     "output_type": "display_data"
    }
   ],
   "source": [
    "%%R\n",
    "library(tidyverse)\n",
    "library(fixest)\n",
    "\n",
    "# Step 1: Start clean: Filter for Black applicants\n",
    "df_black <- df_clean %>%\n",
    "  filter(`applicant_race-1` == 3) %>%\n",
    "  mutate(\n",
    "    race = \"Black\",\n",
    "    debt_to_income = loan_amount / income\n",
    "  ) %>%\n",
    "  filter(income > 0, is.finite(debt_to_income))\n",
    "\n",
    "# Step 2: Merge Law Signature Dates\n",
    "anti_dei_law_dates <- data.frame(\n",
    "  state_code = c(\"ND\", \"OK\", \"TN\", \"IA\", \"ID\", \"FL\", \"MO\", \"MT\", \"NH\", \"OH\"),\n",
    "  law_date = as.Date(c(\n",
    "    \"2021-03-24\", \"2021-05-05\", \"2021-05-25\", \"2021-06-08\", \"2021-04-28\",\n",
    "    \"2022-04-22\", \"2023-05-12\", \"2023-04-19\", \"2023-07-12\", \"2024-12-19\"\n",
    "  ))\n",
    ")\n",
    "\n",
    "df_black <- df_black %>%\n",
    "  left_join(anti_dei_law_dates, by = \"state_code\") %>%\n",
    "  mutate(\n",
    "    activity_date = as.Date(paste0(year, \"-01-01\")),\n",
    "    post_dei_law = ifelse(!is.na(law_date) & activity_date >= law_date, 1, 0),\n",
    "    anti_dei_state = ifelse(!is.na(law_date), 1, 0)\n",
    "  )\n",
    "\n",
    "# Step 3: OPTIONAL (if you have Trump county data already merged):\n",
    "# Already assumed you have 'trump_county' (1 = Trump majority county)\n",
    "\n",
    "# Step 4: Run Logistic Regression - Black Only\n",
    "model_black_logit <- feglm(\n",
    "  approved ~ post_dei_law * anti_dei_state * trump_county +\n",
    "    income + loan_amount + debt_to_income |\n",
    "    year + lei + county_code,\n",
    "  data = df_black,\n",
    "  family = \"binomial\",\n",
    "  control = list(maxit = 100, epsilon = 1e-8)\n",
    ")\n",
    "\n",
    "summary(model_black_logit)\n"
   ]
  },
  {
   "cell_type": "code",
   "execution_count": null,
   "id": "42dcf04d-0f4e-435d-a9e3-9219f9edfefb",
   "metadata": {},
   "outputs": [],
   "source": [
    "%%R\n",
    "library(dplyr)\n",
    "library(ggplot2)\n",
    "library(tidyr)\n",
    "\n",
    "# Focus: Only Anti-DEI states and post-2022 years\n",
    "\n",
    "# List of Anti-DEI law states\n",
    "anti_dei_states <- c(\"ND\", \"OK\", \"TN\", \"IA\", \"ID\", \"FL\", \"MO\", \"MT\", \"NH\", \"OH\")\n",
    "\n",
    "# Filter only Black applicants in Anti-DEI states post-2022\n",
    "df_filtered <- df_clean %>%\n",
    "  filter(state_code %in% anti_dei_states, year >= 2022) %>%\n",
    "  filter(race == \"Black\") %>%\n",
    "  mutate(fitted = predict(model_black_logit, newdata = ., type = \"response\"))\n",
    "\n",
    "# Bin fitted probabilities and calculate approval rates\n",
    "df_bins <- df_filtered %>%\n",
    "  mutate(fitted_bin = cut(fitted, breaks = seq(0, 1, length.out = 21), include.lowest = TRUE)) %>%\n",
    "  group_by(fitted_bin, post_dei_law) %>%\n",
    "  summarise(\n",
    "    approval_rate = mean(approved, na.rm = TRUE),\n",
    "    n = n(),\n",
    "    .groups = \"drop\"\n",
    "  ) %>%\n",
    "  pivot_wider(names_from = post_dei_law, values_from = approval_rate, names_prefix = \"post_\") %>%\n",
    "  mutate(diff = post_1 - post_0)\n",
    "\n",
    "# Plot where the Before/After difference is biggest\n",
    "ggplot(df_bins, aes(x = fitted_bin, y = diff)) +\n",
    "  geom_col(fill = \"darkorange\") +\n",
    "  geom_hline(yintercept = 0, linetype = \"dashed\", color = \"red\") +\n",
    "  labs(\n",
    "    title = \"Change in Mortgage Approval Rates After Anti-DEI Laws (Black Applicants, Anti-DEI States Only)\",\n",
    "    subtitle = \"Positive bars = Higher approval rates after law passage\",\n",
    "    x = \"Predicted Approval Probability Bin\",\n",
    "    y = \"Approval Rate Change (After - Before)\"\n",
    "  ) +\n",
    "  theme_minimal() +\n",
    "  theme(axis.text.x = element_text(angle = 45, hjust = 1))\n"
   ]
  },
  {
   "cell_type": "code",
   "execution_count": 61,
   "id": "93122f1d-b227-4afe-a082-6855c91d403d",
   "metadata": {},
   "outputs": [
    {
     "data": {
      "image/png": "[encoded data removed]",
      "text/plain": [
       "<IPython.core.display.Image object>"
      ]
     },
     "metadata": {},
     "output_type": "display_data"
    }
   ],
   "source": [
    "%%R\n",
    "library(dplyr)\n",
    "library(ggplot2)\n",
    "\n",
    "# 1. Predict fitted values if not already\n",
    "df_black$fitted <- predict(model_black_logit, newdata = df_black, type = \"response\")\n",
    "\n",
    "# 2. Bin fitted probabilities into 20 equal-width bins\n",
    "df_black_binned <- df_black %>%\n",
    "  mutate(fitted_bin = cut(fitted, breaks = seq(0, 1, length.out = 21), include.lowest = TRUE)) %>%\n",
    "  group_by(fitted_bin, post_dei_law) %>%\n",
    "  summarise(\n",
    "    approval_rate = mean(approved, na.rm = TRUE),\n",
    "    n = n(), \n",
    "    .groups = \"drop\"\n",
    "  )\n",
    "\n",
    "# 3. Plot approval rates across predicted probability bins\n",
    "ggplot(df_black_binned, aes(x = fitted_bin, y = approval_rate, group = as.factor(post_dei_law), color = as.factor(post_dei_law))) +\n",
    "  geom_line(aes(group = as.factor(post_dei_law))) +\n",
    "  geom_point(size = 2) +\n",
    "  scale_color_manual(values = c(\"red\", \"blue\"), labels = c(\"Before Law\", \"After Law\")) +\n",
    "  labs(\n",
    "    title = \"Mortgage Approval Rates for Black Applicants by Predicted Risk\",\n",
    "    subtitle = \"Binned by predicted approval probability — comparing before and after Anti-DEI Laws\",\n",
    "    x = \"Predicted Approval Probability Bin\",\n",
    "    y = \"Actual Approval Rate\",\n",
    "    color = \"Law Period\"\n",
    "  ) +\n",
    "  theme_minimal() +\n",
    "  theme(axis.text.x = element_text(angle = 45, hjust = 1), legend.position = \"bottom\")\n"
   ]
  },
  {
   "cell_type": "code",
   "execution_count": 63,
   "id": "ec1ca771-626e-41d1-99bd-f9b7c6e738d6",
   "metadata": {},
   "outputs": [
    {
     "name": "stderr",
     "output_type": "stream",
     "text": [
      "R[write to console]: In addition: \n",
      "R[write to console]: Warning message:\n",
      "\n",
      "R[write to console]: Removed 20 rows containing missing values or values outside the scale range\n",
      "(`geom_col()`). \n",
      "\n"
     ]
    },
    {
     "data": {
      "image/png": "[encoded data removed]",
      "text/plain": [
       "<IPython.core.display.Image object>"
      ]
     },
     "metadata": {},
     "output_type": "display_data"
    }
   ],
   "source": [
    "%%R\n",
    "# Create a new dataset to calculate differences\n",
    "df_diff <- df_black %>%\n",
    "  mutate(fitted_bin = cut(fitted, breaks = seq(0, 1, length.out = 21), include.lowest = TRUE)) %>%\n",
    "  group_by(fitted_bin, post_dei_law) %>%\n",
    "  summarise(\n",
    "    approval_rate = mean(approved, na.rm = TRUE),\n",
    "    .groups = \"drop\"\n",
    "  ) %>%\n",
    "  pivot_wider(names_from = post_dei_law, values_from = approval_rate, names_prefix = \"post_\") %>%\n",
    "  mutate(diff = post_1 - post_0)  # after - before\n",
    "\n",
    "# Plot the differences\n",
    "ggplot(df_diff, aes(x = fitted_bin, y = diff)) +\n",
    "  geom_col(fill = \"steelblue\") +\n",
    "  geom_hline(yintercept = 0, linetype = \"dashed\", color = \"red\") +\n",
    "  labs(\n",
    "    title = \"Change in Mortgage Approval Rates for Black Applicants\",\n",
    "    subtitle = \"Positive values = Higher Approval Rates After Anti-DEI Laws\",\n",
    "    x = \"Predicted Approval Probability Bin\",\n",
    "    y = \"Approval Rate Change (After - Before)\"\n",
    "  ) +\n",
    "  theme_minimal() +\n",
    "  theme(axis.text.x = element_text(angle = 45, hjust = 1))\n"
   ]
  },
  {
   "cell_type": "code",
   "execution_count": null,
   "id": "3ee0cf3d-e573-422a-8a45-23457a19e2a7",
   "metadata": {},
   "outputs": [],
   "source": [
    "%%R\n",
    "df_clean <- df_clean %>%\n",
    "  filter(`applicant_race-1` %in% c(1, 3)) %>%  # 1 = White, 3 = Black\n",
    "  mutate(\n",
    "    race = ifelse(`applicant_race-1` == 3, \"Black\", \"White\"),\n",
    "    debt_to_income = loan_amount / income\n",
    "  ) %>%\n",
    "  filter(income > 0, is.finite(debt_to_income))\n"
   ]
  },
  {
   "cell_type": "code",
   "execution_count": 26,
   "id": "5f9b95b0-37a1-4100-a841-a0358edc342b",
   "metadata": {},
   "outputs": [
    {
     "data": {
      "text/plain": [
       "NOTE: 146,056 observations removed because of NA values (RHS: 146,056).\n",
       "The variable 'post_dei_law:anti_dei_state' has been removed because of collinearity (see $collin.var).\n"
      ]
     },
     "metadata": {},
     "output_type": "display_data"
    }
   ],
   "source": [
    "%%R\n",
    "model_black <- feols(\n",
    "  approved ~ post_dei_law * anti_dei_state * black + income + loan_amount + debt_to_income |\n",
    "    activity_year + lei + county_code,\n",
    "  data = df_clean %>% filter(race == \"Black\")\n",
    ")"
   ]
  },
  {
   "cell_type": "code",
   "execution_count": 59,
   "id": "f8ca8be3-2bd1-4147-be55-96084e700a62",
   "metadata": {},
   "outputs": [
    {
     "data": {
      "text/plain": [
       "NOTE: 146,056 observations removed because of NA values (RHS: 146,056).\n",
       "The variables 'black', 'post_dei_law:anti_dei_state' and 'post_dei_law:anti_dei_state:black' have been removed because of collinearity (see $collin.var).\n"
      ]
     },
     "metadata": {},
     "output_type": "display_data"
    }
   ],
   "source": [
    "%%R\n",
    "model_black <- feols(\n",
    "  approved ~ post_dei_law * anti_dei_state * black + income + loan_amount + debt_to_income |\n",
    "    activity_year + county_code,\n",
    "  data = df_clean %>% filter(race == \"Black\")\n",
    ")"
   ]
  },
  {
   "cell_type": "code",
   "execution_count": 26,
   "id": "b1c98936-d3e6-4667-8c1b-3be11f07fadb",
   "metadata": {},
   "outputs": [],
   "source": [
    "%%R\n",
    "df_clean <- df_clean %>%\n",
    "  mutate(\n",
    "    trump_county = ifelse(pct_gop > 0.5, 1, 0)\n",
    "  )\n",
    "df_clean <- df_clean %>%\n",
    "  mutate(\n",
    "    black = ifelse(race == \"Black\", 1, 0)\n",
    "  )"
   ]
  },
  {
   "cell_type": "code",
   "execution_count": 29,
   "id": "f1311a85-5d81-4f12-ac53-1ed1a7be519e",
   "metadata": {},
   "outputs": [
    {
     "name": "stdout",
     "output_type": "stream",
     "text": [
      "GLM estimation, family = binomial, Dep. Var.: approved\n",
      "Observations: 516,176\n",
      "Fixed-effects: year: 1,  lei: 2,051,  county_code: 1,856\n",
      "Standard-errors: IID \n",
      "                                Estimate   Std. Error   z value  Pr(>|z|)    \n",
      "anti_dei_state               2.003591274 0.8692535325   2.30496  0.021169 *  \n",
      "income                       0.000037014 0.0000041522   8.91424 < 2.2e-16 ***\n",
      "loan_amount                  0.000000810 0.0000000273  29.71488 < 2.2e-16 ***\n",
      "debt_to_income              -0.000096282 0.0000021598 -44.57875 < 2.2e-16 ***\n",
      "anti_dei_state:trump_county -1.846446594 1.1375111087  -1.62323  0.104539    \n",
      "... 1 variable was removed because of collinearity (trump_county)\n",
      "---\n",
      "Signif. codes:  0 '***' 0.001 '**' 0.01 '*' 0.05 '.' 0.1 ' ' 1\n",
      "Log-Likelihood: -298,268.2   Adj. Pseudo R2: 0.047863\n",
      "           BIC:  647,982.5     Squared Cor.: 0.070828\n"
     ]
    },
    {
     "data": {
      "text/plain": [
       "NOTES: 2,525,943 observations removed because of NA values (RHS: 2,525,943, Fixed-effects: 145,963).\n",
       "       0/977/514 fixed-effects (4,231 observations) removed because of only 0 (or only 1) outcomes.\n",
       "The variable 'trump_county' has been removed because of collinearity (see $collin.var).\n"
      ]
     },
     "metadata": {},
     "output_type": "display_data"
    }
   ],
   "source": [
    "%%R\n",
    "library(fixest)\n",
    "\n",
    "# Make sure data is filtered for Black applicants\n",
    "df_black <- df_clean %>% filter(race == \"Black\")\n",
    "\n",
    "# Logistic regression with political context added\n",
    "model_black_logit <- feglm(\n",
    "  approved ~ post_dei_law * anti_dei_state * trump_county + income + loan_amount + debt_to_income |\n",
    "    year + lei + county_code,\n",
    "  data = df_black,\n",
    "  family = \"binomial\"\n",
    ")\n",
    "\n",
    "# View summary\n",
    "summary(model_black_logit)\n"
   ]
  },
  {
   "cell_type": "markdown",
   "id": "df3b80c0-d893-41d5-801b-d292fb94cfc5",
   "metadata": {},
   "source": [
    "## black versus non-black "
   ]
  },
  {
   "cell_type": "code",
   "execution_count": 32,
   "id": "f60885f3-9ac9-491f-9634-2422a9f0ce18",
   "metadata": {},
   "outputs": [],
   "source": [
    "%%R\n",
    "df_clean <- df_clean %>%\n",
    "  mutate(\n",
    "    race_group = ifelse(`applicant_race-1` == 3, \"Black\", \"Non-Black\"),\n",
    "    debt_to_income = loan_amount / income\n",
    "  ) %>%\n",
    "  filter(\n",
    "    income > 0,\n",
    "    is.finite(debt_to_income)\n",
    "  )\n"
   ]
  },
  {
   "cell_type": "code",
   "execution_count": 35,
   "id": "ce72b9cb-2c0d-46ed-ac99-6692a6182c8b",
   "metadata": {},
   "outputs": [
    {
     "name": "stdout",
     "output_type": "stream",
     "text": [
      "GLM estimation, family = binomial, Dep. Var.: approved\n",
      "Observations: 563,011\n",
      "Fixed-effects: year: 1,  lei: 2,213,  county_code: 2,186\n",
      "Standard-errors: IID \n",
      "                                                    Estimate   Std. Error\n",
      "anti_dei_state                                   1.992373533 0.8688959024\n",
      "race_groupNon-Black                              0.106902428 0.0328319435\n",
      "income                                           0.000036273 0.0000041423\n",
      "loan_amount                                      0.000000780 0.0000000269\n",
      "debt_to_income                                  -0.000096005 0.0000021534\n",
      "anti_dei_state:trump_county                     -1.393976613 1.0695638193\n",
      "anti_dei_state:race_groupNon-Black              -0.094680387 0.0501107289\n",
      "trump_county:race_groupNon-Black                -0.023418705 0.0306622154\n",
      "race_groupNon-Black:income                      -0.000014478 0.0000100738\n",
      "race_groupNon-Black:loan_amount                 -0.000000559 0.0000000740\n",
      "race_groupNon-Black:debt_to_income               0.000033396 0.0000067260\n",
      "anti_dei_state:trump_county:race_groupNon-Black  0.150203549 0.0675034089\n",
      "                                                   z value   Pr(>|z|)    \n",
      "anti_dei_state                                    2.292995 2.1848e-02 *  \n",
      "race_groupNon-Black                               3.256049 1.1297e-03 ** \n",
      "income                                            8.756718  < 2.2e-16 ***\n",
      "loan_amount                                      28.997540  < 2.2e-16 ***\n",
      "debt_to_income                                  -44.583961  < 2.2e-16 ***\n",
      "anti_dei_state:trump_county                      -1.303313 1.9247e-01    \n",
      "anti_dei_state:race_groupNon-Black               -1.889423 5.8835e-02 .  \n",
      "trump_county:race_groupNon-Black                 -0.763764 4.4501e-01    \n",
      "race_groupNon-Black:income                       -1.437161 1.5067e-01    \n",
      "race_groupNon-Black:loan_amount                  -7.556219 4.1496e-14 ***\n",
      "race_groupNon-Black:debt_to_income                4.965160 6.8644e-07 ***\n",
      "anti_dei_state:trump_county:race_groupNon-Black   2.225125 2.6073e-02 *  \n",
      "... 1 variable was removed because of collinearity (trump_county)\n",
      "---\n",
      "Signif. codes:  0 '***' 0.001 '**' 0.01 '*' 0.05 '.' 0.1 ' ' 1\n",
      "Log-Likelihood: -324,159.8   Adj. Pseudo R2: 0.047961\n",
      "           BIC:  706,712.7     Squared Cor.: 0.07147 \n"
     ]
    },
    {
     "data": {
      "text/plain": [
       "NOTES: 2,765,804 observations removed because of NA values (RHS: 2,765,804, Fixed-effects: 160,313).\n",
       "       0/1,025/504 fixed-effects (4,620 observations) removed because of only 0 (or only 1) outcomes.\n",
       "The variable 'trump_county' has been removed because of collinearity (see $collin.var).\n"
      ]
     },
     "metadata": {},
     "output_type": "display_data"
    }
   ],
   "source": [
    "%%R\n",
    "model_black_nonblack_full <- feglm(\n",
    "  approved ~ post_dei_law * anti_dei_state * trump_county * race_group +\n",
    "    income * race_group +\n",
    "    loan_amount * race_group +\n",
    "    debt_to_income * race_group |\n",
    "    year + lei + county_code,\n",
    "  data = df_clean,\n",
    "  family = \"binomial\"\n",
    ")\n",
    "\n",
    "summary(model_black_nonblack_full)\n"
   ]
  },
  {
   "cell_type": "code",
   "execution_count": 34,
   "id": "a21d92cd-edab-443b-965a-087da342008b",
   "metadata": {},
   "outputs": [
    {
     "name": "stdout",
     "output_type": "stream",
     "text": [
      "GLM estimation, family = binomial, Dep. Var.: approved\n",
      "Observations: 563,011\n",
      "Fixed-effects: year: 1,  lei: 2,213,  county_code: 2,186\n",
      "Standard-errors: IID \n",
      "                                                    Estimate   Std. Error\n",
      "anti_dei_state                                   1.992373533 0.8688959024\n",
      "race_groupNon-Black                              0.106902428 0.0328319435\n",
      "income                                           0.000036273 0.0000041423\n",
      "loan_amount                                      0.000000780 0.0000000269\n",
      "debt_to_income                                  -0.000096005 0.0000021534\n",
      "anti_dei_state:trump_county                     -1.393976613 1.0695638193\n",
      "anti_dei_state:race_groupNon-Black              -0.094680387 0.0501107289\n",
      "trump_county:race_groupNon-Black                -0.023418705 0.0306622154\n",
      "race_groupNon-Black:income                      -0.000014478 0.0000100738\n",
      "race_groupNon-Black:loan_amount                 -0.000000559 0.0000000740\n",
      "race_groupNon-Black:debt_to_income               0.000033396 0.0000067260\n",
      "anti_dei_state:trump_county:race_groupNon-Black  0.150203549 0.0675034089\n",
      "                                                   z value   Pr(>|z|)    \n",
      "anti_dei_state                                    2.292995 2.1848e-02 *  \n",
      "race_groupNon-Black                               3.256049 1.1297e-03 ** \n",
      "income                                            8.756718  < 2.2e-16 ***\n",
      "loan_amount                                      28.997540  < 2.2e-16 ***\n",
      "debt_to_income                                  -44.583961  < 2.2e-16 ***\n",
      "anti_dei_state:trump_county                      -1.303313 1.9247e-01    \n",
      "anti_dei_state:race_groupNon-Black               -1.889423 5.8835e-02 .  \n",
      "trump_county:race_groupNon-Black                 -0.763764 4.4501e-01    \n",
      "race_groupNon-Black:income                       -1.437161 1.5067e-01    \n",
      "race_groupNon-Black:loan_amount                  -7.556219 4.1496e-14 ***\n",
      "race_groupNon-Black:debt_to_income                4.965160 6.8644e-07 ***\n",
      "anti_dei_state:trump_county:race_groupNon-Black   2.225125 2.6073e-02 *  \n",
      "... 1 variable was removed because of collinearity (trump_county)\n",
      "---\n",
      "Signif. codes:  0 '***' 0.001 '**' 0.01 '*' 0.05 '.' 0.1 ' ' 1\n",
      "Log-Likelihood: -324,159.8   Adj. Pseudo R2: 0.047961\n",
      "           BIC:  706,712.7     Squared Cor.: 0.07147 \n"
     ]
    },
    {
     "data": {
      "text/plain": [
       "NOTES: 2,765,804 observations removed because of NA values (RHS: 2,765,804, Fixed-effects: 160,313).\n",
       "       0/1,025/504 fixed-effects (4,620 observations) removed because of only 0 (or only 1) outcomes.\n",
       "The variable 'trump_county' has been removed because of collinearity (see $collin.var).\n"
      ]
     },
     "metadata": {},
     "output_type": "display_data"
    }
   ],
   "source": [
    "%%R\n",
    "model_black_nonblack_logit <- feglm(\n",
    "  approved ~ post_dei_law * anti_dei_state * trump_county * race_group +\n",
    "    income * race_group + loan_amount * race_group + debt_to_income * race_group |\n",
    "    year + lei + county_code,\n",
    "  data = df_clean,\n",
    "  family = \"binomial\"\n",
    ")\n",
    "\n",
    "summary(model_black_nonblack_logit)\n"
   ]
  },
  {
   "cell_type": "code",
   "execution_count": 41,
   "id": "59742a88-2244-41a5-b8e7-72877778d123",
   "metadata": {},
   "outputs": [],
   "source": [
    "%%R\n",
    "approval_change_clean <- approval_change %>%\n",
    "  filter(!is.na(change_in_approval))  # only keep states with valid approval change\n"
   ]
  },
  {
   "cell_type": "code",
   "execution_count": 42,
   "id": "b710128e-0333-4b01-9444-6676d6508678",
   "metadata": {},
   "outputs": [
    {
     "name": "stdout",
     "output_type": "stream",
     "text": [
      "# A tibble: 61 × 3\n",
      "   state_code state_name  change_in_approval\n",
      "   <chr>      <chr>                    <dbl>\n",
      " 1 AK         alaska                      NA\n",
      " 2 AL         alabama                     NA\n",
      " 3 AR         arkansas                    NA\n",
      " 4 AZ         arizona                     NA\n",
      " 5 CA         california                  NA\n",
      " 6 CO         colorado                    NA\n",
      " 7 CT         connecticut                 NA\n",
      " 8 DC         <NA>                        NA\n",
      " 9 DE         delaware                    NA\n",
      "10 FL         florida                     NA\n",
      "# ℹ 51 more rows\n",
      "# ℹ Use `print(n = ...)` to see more rows\n"
     ]
    }
   ],
   "source": [
    "%%R\n",
    "approval_change %>% select(state_code, state_name, change_in_approval)\n"
   ]
  },
  {
   "cell_type": "code",
   "execution_count": 44,
   "id": "31af925d-d5d4-4616-8197-266409f0d1d7",
   "metadata": {},
   "outputs": [
    {
     "data": {
      "text/plain": [
       "In addition: Warning message:\n",
       "In geom_map(data = us_states, map = us_states, aes(x = long, y = lat,  :\n",
       "  Ignoring unknown aesthetics: x and y\n"
      ]
     },
     "metadata": {},
     "output_type": "display_data"
    },
    {
     "data": {
      "image/png": "[encoded data removed]",
      "text/plain": [
       "<IPython.core.display.Image object>"
      ]
     },
     "metadata": {},
     "output_type": "display_data"
    }
   ],
   "source": [
    "%%R\n",
    "library(tidyverse)\n",
    "library(maps)\n",
    "\n",
    "# Step 1: Focus only on Anti-DEI states\n",
    "anti_dei_states <- c(\"FL\", \"TN\", \"OK\", \"ND\", \"IA\", \"ID\", \"MO\", \"MT\", \"NH\", \"OH\")\n",
    "\n",
    "approval_summary <- df_clean %>%\n",
    "  filter(race == \"Black\", state_code %in% anti_dei_states) %>%\n",
    "  group_by(state_code, post_dei_law) %>%\n",
    "  summarise(\n",
    "    approval_rate = mean(approved, na.rm = TRUE),\n",
    "    count = n(),\n",
    "    .groups = \"drop\"\n",
    "  )\n",
    "\n",
    "approval_change <- approval_summary %>%\n",
    "  pivot_wider(\n",
    "    names_from = post_dei_law,\n",
    "    values_from = approval_rate,\n",
    "    names_prefix = \"post_dei_\"\n",
    "  ) %>%\n",
    "  filter(!is.na(post_dei_0) & !is.na(post_dei_1)) %>%\n",
    "  mutate(\n",
    "    change_in_approval = post_dei_1 - post_dei_0\n",
    "  )\n",
    "\n",
    "# Map data\n",
    "us_states <- map_data(\"state\") %>%\n",
    "  mutate(region = tolower(region))\n",
    "\n",
    "# Fix matching\n",
    "approval_change <- approval_change %>%\n",
    "  mutate(state_name = tolower(state_code))  # You may need better matching, quick fix for now\n",
    "\n",
    "# Plot\n",
    "ggplot() +\n",
    "  geom_map(\n",
    "    data = us_states, map = us_states,\n",
    "    aes(x = long, y = lat, map_id = region),\n",
    "    fill = \"gray90\", color = \"white\"\n",
    "  ) +\n",
    "  geom_map(\n",
    "    data = approval_change,\n",
    "    map = us_states,\n",
    "    aes(map_id = state_name, fill = change_in_approval),\n",
    "    color = \"white\", size = 0.3\n",
    "  ) +\n",
    "  scale_fill_viridis_c(\n",
    "    option = \"plasma\",\n",
    "    name = \"Approval Rate Change\",\n",
    "    labels = scales::percent_format(accuracy = 0.1)\n",
    "  ) +\n",
    "  labs(\n",
    "    title = \"Change in Mortgage Approvals for Black Applicants\",\n",
    "    subtitle = \"Only in States with Anti-DEI Laws Passed\",\n",
    "    caption = \"Source: HMDA 2018–2023\",\n",
    "    x = \"\", y = \"\"\n",
    "  ) +\n",
    "  theme_void() +\n",
    "  theme(legend.position = \"bottom\")\n"
   ]
  },
  {
   "cell_type": "code",
   "execution_count": 39,
   "id": "f649ca17-2a83-4232-9e0e-50a11f148f0a",
   "metadata": {},
   "outputs": [
    {
     "data": {
      "text/plain": [
       "Loading required package: viridisLite\n",
       "\n",
       "Attaching package: ‘viridis’\n",
       "\n",
       "The following object is masked from ‘package:maps’:\n",
       "\n",
       "    unemp\n",
       "\n",
       "In addition: Warning message:\n",
       "In geom_map(data = us_states, map = us_states, aes(x = long, y = lat,  :\n",
       "  Ignoring unknown aesthetics: x and y\n"
      ]
     },
     "metadata": {},
     "output_type": "display_data"
    },
    {
     "data": {
      "image/png": "[encoded data removed]",
      "text/plain": [
       "<IPython.core.display.Image object>"
      ]
     },
     "metadata": {},
     "output_type": "display_data"
    }
   ],
   "source": [
    "%%R\n",
    "library(tidyverse)\n",
    "library(maps)\n",
    "library(viridis)\n",
    "\n",
    "# Step 1: Approval rate change for Black applicants\n",
    "approval_change <- df_clean %>%\n",
    "  filter(race == \"Black\") %>%\n",
    "  group_by(state_code, post_dei_law) %>%\n",
    "  summarise(\n",
    "    approval_rate = mean(approved, na.rm = TRUE),\n",
    "    n = n(),\n",
    "    .groups = \"drop\"\n",
    "  ) %>%\n",
    "  pivot_wider(\n",
    "    names_from = post_dei_law,\n",
    "    values_from = approval_rate,\n",
    "    names_prefix = \"post_dei_\"\n",
    "  ) %>%\n",
    "  mutate(\n",
    "    change_in_approval = post_dei_1 - post_dei_0\n",
    "  )\n",
    "\n",
    "# Step 2: Add a lookup table from state abbreviations to full names\n",
    "state_lookup <- tibble(\n",
    "  state_code = c(\"AL\",\"AK\",\"AZ\",\"AR\",\"CA\",\"CO\",\"CT\",\"DE\",\"FL\",\"GA\",\n",
    "                 \"HI\",\"ID\",\"IL\",\"IN\",\"IA\",\"KS\",\"KY\",\"LA\",\"ME\",\"MD\",\n",
    "                 \"MA\",\"MI\",\"MN\",\"MS\",\"MO\",\"MT\",\"NE\",\"NV\",\"NH\",\"NJ\",\n",
    "                 \"NM\",\"NY\",\"NC\",\"ND\",\"OH\",\"OK\",\"OR\",\"PA\",\"RI\",\"SC\",\n",
    "                 \"SD\",\"TN\",\"TX\",\"UT\",\"VT\",\"VA\",\"WA\",\"WV\",\"WI\",\"WY\"),\n",
    "  state_name = tolower(c(\"Alabama\",\"Alaska\",\"Arizona\",\"Arkansas\",\"California\",\"Colorado\",\n",
    "                  \"Connecticut\",\"Delaware\",\"Florida\",\"Georgia\",\"Hawaii\",\"Idaho\",\n",
    "                  \"Illinois\",\"Indiana\",\"Iowa\",\"Kansas\",\"Kentucky\",\"Louisiana\",\n",
    "                  \"Maine\",\"Maryland\",\"Massachusetts\",\"Michigan\",\"Minnesota\",\n",
    "                  \"Mississippi\",\"Missouri\",\"Montana\",\"Nebraska\",\"Nevada\",\n",
    "                  \"New Hampshire\",\"New Jersey\",\"New Mexico\",\"New York\",\n",
    "                  \"North Carolina\",\"North Dakota\",\"Ohio\",\"Oklahoma\",\n",
    "                  \"Oregon\",\"Pennsylvania\",\"Rhode Island\",\"South Carolina\",\n",
    "                  \"South Dakota\",\"Tennessee\",\"Texas\",\"Utah\",\"Vermont\",\n",
    "                  \"Virginia\",\"Washington\",\"West Virginia\",\"Wisconsin\",\"Wyoming\"))\n",
    ")\n",
    "\n",
    "# Step 3: Join the full state names\n",
    "approval_change <- approval_change %>%\n",
    "  left_join(state_lookup, by = \"state_code\")\n",
    "\n",
    "# Step 4: U.S. Map\n",
    "us_states <- map_data(\"state\")\n",
    "\n",
    "# Step 5: Plot\n",
    "ggplot() +\n",
    "  geom_map(\n",
    "    data = us_states, map = us_states,\n",
    "    aes(x = long, y = lat, map_id = region),\n",
    "    fill = \"gray95\", color = \"white\"\n",
    "  ) +\n",
    "  geom_map(\n",
    "    data = approval_change,\n",
    "    map = us_states,\n",
    "    aes(map_id = state_name, fill = change_in_approval),\n",
    "    color = \"white\", linewidth = 0.2\n",
    "  ) +\n",
    "  scale_fill_viridis_c(\n",
    "    option = \"plasma\",\n",
    "    name = \"Approval Rate Change\",\n",
    "    labels = scales::percent_format(accuracy = 0.1)\n",
    "  ) +\n",
    "  labs(\n",
    "    title = \"Change in Mortgage Approval Rates for Black Applicants\\nBefore and After Anti-DEI Laws\",\n",
    "    subtitle = \"Positive values = Increase in Approval Rates\",\n",
    "    caption = \"Source: HMDA 2018-2023\",\n",
    "    x = \"\", y = \"\"\n",
    "  ) +\n",
    "  theme_void() +\n",
    "  theme(legend.position = \"bottom\")\n"
   ]
  },
  {
   "cell_type": "code",
   "execution_count": 36,
   "id": "b696447a-1cae-4b95-87c0-ce0554077eb7",
   "metadata": {},
   "outputs": [
    {
     "name": "stdout",
     "output_type": "stream",
     "text": [
      "GLM estimation, family = binomial, Dep. Var.: approved\n",
      "Observations: 516,176\n",
      "Fixed-effects: year: 1,  lei: 2,051,  county_code: 1,856\n",
      "Standard-errors: IID \n",
      "                                Estimate   Std. Error   z value  Pr(>|z|)    \n",
      "anti_dei_state               2.003591274 0.8692535325   2.30496  0.021169 *  \n",
      "income                       0.000037014 0.0000041522   8.91424 < 2.2e-16 ***\n",
      "loan_amount                  0.000000810 0.0000000273  29.71488 < 2.2e-16 ***\n",
      "debt_to_income              -0.000096282 0.0000021598 -44.57875 < 2.2e-16 ***\n",
      "anti_dei_state:trump_county -1.846446594 1.1375111087  -1.62323  0.104539    \n",
      "... 1 variable was removed because of collinearity (trump_county)\n",
      "---\n",
      "Signif. codes:  0 '***' 0.001 '**' 0.01 '*' 0.05 '.' 0.1 ' ' 1\n",
      "Log-Likelihood: -298,268.2   Adj. Pseudo R2: 0.047863\n",
      "           BIC:  647,982.5     Squared Cor.: 0.070828\n"
     ]
    },
    {
     "data": {
      "text/plain": [
       "NOTES: 2,525,943 observations removed because of NA values (RHS: 2,525,943, Fixed-effects: 145,963).\n",
       "       0/977/514 fixed-effects (4,231 observations) removed because of only 0 (or only 1) outcomes.\n",
       "The variable 'trump_county' has been removed because of collinearity (see $collin.var).\n"
      ]
     },
     "metadata": {},
     "output_type": "display_data"
    }
   ],
   "source": [
    "%%R\n",
    "model_black_only <- feglm(\n",
    "  approved ~ post_dei_law * anti_dei_state * trump_county +\n",
    "    income + loan_amount + debt_to_income |\n",
    "    year + lei + county_code,\n",
    "  data = df_clean %>% filter(race_group == \"Black\"),\n",
    "  family = \"binomial\"\n",
    ")\n",
    "\n",
    "summary(model_black_only)\n"
   ]
  },
  {
   "cell_type": "code",
   "execution_count": 30,
   "id": "07191bae-19e0-441c-b30c-68001aa6934d",
   "metadata": {},
   "outputs": [
    {
     "name": "stdout",
     "output_type": "stream",
     "text": [
      "GLM estimation, family = binomial, Dep. Var.: approved\n",
      "Observations: 563,011\n",
      "Fixed-effects: year: 1,  lei: 2,213,  county_code: 2,186\n",
      "Standard-errors: IID \n",
      "                                          Estimate   Std. Error    z value\n",
      "anti_dei_state                         1.991297270 0.8681385665   2.293755\n",
      "raceWhite                              0.052959028 0.0174815851   3.029418\n",
      "income                                 0.000034897 0.0000038549   9.052733\n",
      "loan_amount                            0.000000727 0.0000000259  28.034566\n",
      "debt_to_income                        -0.000092745 0.0000020539 -45.155419\n",
      "anti_dei_state:trump_county           -1.399469614 1.0692949759  -1.308778\n",
      "anti_dei_state:raceWhite              -0.068897353 0.0499763621  -1.378599\n",
      "trump_county:raceWhite                 0.005120937 0.0302771285   0.169135\n",
      "anti_dei_state:trump_county:raceWhite  0.131979293 0.0674945506   1.955407\n",
      "                                       Pr(>|z|)    \n",
      "anti_dei_state                        0.0218046 *  \n",
      "raceWhite                             0.0024503 ** \n",
      "income                                < 2.2e-16 ***\n",
      "loan_amount                           < 2.2e-16 ***\n",
      "debt_to_income                        < 2.2e-16 ***\n",
      "anti_dei_state:trump_county           0.1906096    \n",
      "anti_dei_state:raceWhite              0.1680185    \n",
      "trump_county:raceWhite                0.8656901    \n",
      "anti_dei_state:trump_county:raceWhite 0.0505351 .  \n",
      "... 1 variable was removed because of collinearity (trump_county)\n",
      "---\n",
      "Signif. codes:  0 '***' 0.001 '**' 0.01 '*' 0.05 '.' 0.1 ' ' 1\n",
      "Log-Likelihood: -324,160.3   Adj. Pseudo R2: 0.047968\n",
      "           BIC:  706,674.0     Squared Cor.: 0.071531\n"
     ]
    },
    {
     "data": {
      "text/plain": [
       "NOTES: 2,765,804 observations removed because of NA values (RHS: 2,765,804, Fixed-effects: 160,313).\n",
       "       0/1,025/504 fixed-effects (4,620 observations) removed because of only 0 (or only 1) outcomes.\n",
       "The variable 'trump_county' has been removed because of collinearity (see $collin.var).\n"
      ]
     },
     "metadata": {},
     "output_type": "display_data"
    }
   ],
   "source": [
    "%%R\n",
    "model_all_logit <- feglm(\n",
    "  approved ~ post_dei_law * anti_dei_state * trump_county * race + income + loan_amount + debt_to_income |\n",
    "    year + lei + county_code,\n",
    "  data = df_clean,\n",
    "  family = \"binomial\"\n",
    ")\n",
    "summary(model_all_logit)\n"
   ]
  },
  {
   "cell_type": "code",
   "execution_count": 28,
   "id": "6b5c3a7c-8c7f-4d49-8671-bb5934d23a01",
   "metadata": {},
   "outputs": [
    {
     "name": "stdout",
     "output_type": "stream",
     "text": [
      "GLM estimation, family = binomial, Dep. Var.: approved\n",
      "Observations: 563,011\n",
      "Fixed-effects: year: 1,  lei: 2,213,  county_code: 2,186\n",
      "Standard-errors: IID \n",
      "                                      Estimate   Std. Error    z value\n",
      "anti_dei_state                     1.922399917 0.8694919669   2.210946\n",
      "black                             -0.052959028 0.0174815851  -3.029418\n",
      "income                             0.000034897 0.0000038549   9.052733\n",
      "loan_amount                        0.000000727 0.0000000259  28.034566\n",
      "debt_to_income                    -0.000092745 0.0000020539 -45.155419\n",
      "anti_dei_state:black               0.068897353 0.0499763621   1.378599\n",
      "anti_dei_state:trump_county       -1.267490321 1.0708803293  -1.183597\n",
      "black:trump_county                -0.005120937 0.0302771285  -0.169135\n",
      "anti_dei_state:black:trump_county -0.131979293 0.0674945506  -1.955407\n",
      "                                   Pr(>|z|)    \n",
      "anti_dei_state                    0.0270396 *  \n",
      "black                             0.0024503 ** \n",
      "income                            < 2.2e-16 ***\n",
      "loan_amount                       < 2.2e-16 ***\n",
      "debt_to_income                    < 2.2e-16 ***\n",
      "anti_dei_state:black              0.1680185    \n",
      "anti_dei_state:trump_county       0.2365728    \n",
      "black:trump_county                0.8656901    \n",
      "anti_dei_state:black:trump_county 0.0505351 .  \n",
      "... 1 variable was removed because of collinearity (trump_county)\n",
      "---\n",
      "Signif. codes:  0 '***' 0.001 '**' 0.01 '*' 0.05 '.' 0.1 ' ' 1\n",
      "Log-Likelihood: -324,160.3   Adj. Pseudo R2: 0.047968\n",
      "           BIC:  706,674.0     Squared Cor.: 0.071531\n"
     ]
    },
    {
     "data": {
      "text/plain": [
       "NOTES: 2,765,804 observations removed because of NA values (RHS: 2,765,804, Fixed-effects: 160,313).\n",
       "       0/1,025/504 fixed-effects (4,620 observations) removed because of only 0 (or only 1) outcomes.\n",
       "The variable 'trump_county' has been removed because of collinearity (see $collin.var).\n"
      ]
     },
     "metadata": {},
     "output_type": "display_data"
    }
   ],
   "source": [
    "%%R\n",
    "library(fixest)\n",
    "\n",
    "model_interaction <- feglm(\n",
    "  approved ~ post_dei_law * anti_dei_state * black * trump_county + income + loan_amount + debt_to_income |\n",
    "    year + lei + county_code,\n",
    "  data = df_clean,\n",
    "  family = \"binomial\"\n",
    ")\n",
    "\n",
    "summary(model_interaction)\n"
   ]
  },
  {
   "cell_type": "code",
   "execution_count": 32,
   "id": "15433669-7fe6-47da-a6c6-9dff606f4ecb",
   "metadata": {},
   "outputs": [],
   "source": [
    "# %%R\n",
    "# df_with_prediction <- df_clean %>% \n",
    "#     na.omit %>% \n",
    "#     mutate (\n",
    "#         prediction=predict(model_full),\n",
    "#         residuals=resid(model_full),\n",
    "#         residuals_z=scale(residuals)\n",
    "        \n",
    "#     )%>%\n",
    "#     arrange(residuals)\n",
    "# write.csv(df_with_prediction, 'df_with_prediction.csv')\n"
   ]
  },
  {
   "cell_type": "code",
   "execution_count": 60,
   "id": "c4ce07a9-b038-4df4-8d9e-7d9f4d3eedb3",
   "metadata": {},
   "outputs": [
    {
     "name": "stdout",
     "output_type": "stream",
     "text": [
      "OLS estimation, Dep. Var.: approved\n",
      "Observations: 2,900,294\n",
      "Fixed-effects: activity_year: 6,  county_code: 2,962\n",
      "Standard-errors: Clustered (activity_year) \n",
      "                          Estimate   Std. Error   t value   Pr(>|t|)    \n",
      "post_dei_law         -0.0010498930 5.153188e-03 -0.203737 8.4659e-01    \n",
      "anti_dei_state        0.1618609489 5.359695e-02  3.019966 2.9418e-02 *  \n",
      "income                0.0000028332 2.247800e-07 12.604544 5.5824e-05 ***\n",
      "loan_amount           0.0000000134 5.640000e-09  2.377879 6.3331e-02 .  \n",
      "debt_to_income       -0.0000007375 3.101000e-07 -2.378364 6.3293e-02 .  \n",
      "post_dei_law:black   -0.0000000462 1.827000e-08 -2.528512 5.2625e-02 .  \n",
      "anti_dei_state:black  0.0000005168 7.602000e-08  6.798480 1.0483e-03 ** \n",
      "... 3 variables were removed because of collinearity (black, post_dei_law:anti_dei_state and post_dei_law:anti_dei_state:black)\n",
      "---\n",
      "Signif. codes:  0 '***' 0.001 '**' 0.01 '*' 0.05 '.' 0.1 ' ' 1\n",
      "RMSE: 0.460527     Adj. R2: 0.009115\n",
      "                 Within R2: 0.001127\n"
     ]
    }
   ],
   "source": [
    "%%R\n",
    "summary(model_black)"
   ]
  },
  {
   "cell_type": "code",
   "execution_count": 68,
   "id": "8c74d8b4-ffdd-43a6-bcce-85ae80f2dcc9",
   "metadata": {},
   "outputs": [
    {
     "name": "stdout",
     "output_type": "stream",
     "text": [
      "`summarise()` has grouped output by 'activity_year', 'race'. You can override\n",
      "using the `.groups` argument.\n"
     ]
    }
   ],
   "source": [
    "%%R\n",
    "df_clean %>%\n",
    "  group_by(activity_year, race, anti_dei_state) %>%\n",
    "  summarise(approval_rate = mean(approved)) %>%\n",
    "  ggplot(aes(x = activity_year, y = approval_rate, color = race, linetype = as.factor(anti_dei_state))) +\n",
    "  geom_line() +\n",
    "  labs(title = \"Approval Trends Over Time by Race and DEI Policy\")\n",
    "ggsave(\n",
    "  filename = \"approval_trends_all_states.png\",\n",
    "  width = 14,              \n",
    "  height = 10,            \n",
    "  dpi = 600\n",
    ")\n",
    "\n"
   ]
  },
  {
   "cell_type": "code",
   "execution_count": 63,
   "id": "2fd5c5d9-f49a-427f-b95f-1bf8f4286edc",
   "metadata": {},
   "outputs": [
    {
     "name": "stdout",
     "output_type": "stream",
     "text": [
      "`summarise()` has grouped output by 'activity_year', 'race', 'anti_dei_state'.\n",
      "You can override using the `.groups` argument.\n"
     ]
    }
   ],
   "source": [
    "%%R\n",
    "df_clean %>%\n",
    "  group_by(activity_year, race, anti_dei_state, state_code) %>%\n",
    "  summarise(approval_rate = mean(approved, na.rm = TRUE)) %>%\n",
    "  ggplot(aes(x = activity_year, y = approval_rate, color = race, linetype = as.factor(anti_dei_state))) +\n",
    "  geom_line() +\n",
    "  facet_wrap(~ state_code) +\n",
    "  labs(\n",
    "    title = \"Approval Trends Over Time by Race and DEI Policy\",\n",
    "    x = \"Year\",\n",
    "    y = \"Approval Rate\",\n",
    "    linetype = \"Anti-DEI State\",\n",
    "    color = \"Race\"\n",
    "  ) +\n",
    "  theme_minimal()\n",
    "# Save \n",
    "ggsave(\n",
    "  filename = \"approval_trends_by_state.png\",\n",
    "  width = 14,              \n",
    "  height = 10,            \n",
    "  dpi = 600\n",
    ")\n"
   ]
  },
  {
   "cell_type": "code",
   "execution_count": 64,
   "id": "3742692d-43ab-4309-aadb-e19495a86ffa",
   "metadata": {},
   "outputs": [],
   "source": [
    "%%R\n",
    "\n",
    "# Identify anti-DEI states\n",
    "anti_dei_states <- df_clean %>%\n",
    "  filter(anti_dei_state == 1) %>%\n",
    "  distinct(state_code) %>%\n",
    "  pull(state_code)\n",
    "\n",
    "# Create a named vector for facet labels\n",
    "state_labels <- df_clean %>%\n",
    "  distinct(state_code) %>%\n",
    "  mutate(label = if_else(state_code %in% anti_dei_states,\n",
    "                         paste0(state_code, \" *\"),\n",
    "                         state_code)) %>%\n",
    "  deframe()\n"
   ]
  },
  {
   "cell_type": "code",
   "execution_count": 71,
   "id": "5cc2cb62-cd40-4934-8e9e-c108024fd65c",
   "metadata": {},
   "outputs": [],
   "source": [
    "%%R\n",
    "df_clean %>%\n",
    "  group_by(activity_year, race, anti_dei_state, state_code) %>%\n",
    "  summarise(approval_rate = mean(approved, na.rm = TRUE), .groups = \"drop\") %>%\n",
    "  ggplot(aes(x = activity_year, y = approval_rate, color = race, linetype = as.factor(anti_dei_state))) +\n",
    "  geom_line() +\n",
    "  facet_wrap(~ state_code, labeller = labeller(state_code = state_labels), scales = 'free') +\n",
    "  labs(\n",
    "    title = \"Approval Trends Over Time by Race and DEI Policy\",\n",
    "    x = \"Year\",\n",
    "    y = \"Approval Rate\",\n",
    "    linetype = \"Anti-DEI State\",\n",
    "    color = \"Race\"\n",
    "  ) +\n",
    "  theme_minimal()\n",
    "ggsave(\n",
    "  filename = \"approval_trends_by_state*.png\",\n",
    "  width = 14,              \n",
    "  height = 10,            \n",
    "  dpi = 600\n",
    ")\n"
   ]
  },
  {
   "cell_type": "code",
   "execution_count": null,
   "id": "780fbbef-f853-4239-a47f-3cdecc917afc",
   "metadata": {},
   "outputs": [],
   "source": []
  }
 ],
 "metadata": {
  "kernelspec": {
   "display_name": "Python 3 (ipykernel)",
   "language": "python",
   "name": "python3"
  },
  "language_info": {
   "codemirror_mode": {
    "name": "ipython",
    "version": 3
   },
   "file_extension": ".py",
   "mimetype": "text/x-python",
   "name": "python",
   "nbconvert_exporter": "python",
   "pygments_lexer": "ipython3",
   "version": "3.10.12"
  }
 },
 "nbformat": 4,
 "nbformat_minor": 5
}
