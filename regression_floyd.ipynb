{
 "cells": [
  {
   "cell_type": "code",
   "execution_count": 6,
   "id": "aadae115-3494-4d07-9b7f-ba7195079cab",
   "metadata": {},
   "outputs": [
    {
     "name": "stdout",
     "output_type": "stream",
     "text": [
      "The rpy2.ipython extension is already loaded. To reload it, use:\n",
      "  %reload_ext rpy2.ipython\n",
      "The autoreload extension is already loaded. To reload it, use:\n",
      "  %reload_ext autoreload\n"
     ]
    }
   ],
   "source": [
    "%load_ext rpy2.ipython\n",
    "%load_ext autoreload\n",
    "%autoreload 2\n",
    "\n",
    "%matplotlib inline  \n",
    "from matplotlib import rcParams\n",
    "rcParams['figure.figsize'] = (16, 100)\n",
    "\n",
    "import warnings\n",
    "from rpy2.rinterface import RRuntimeWarning\n",
    "warnings.filterwarnings(\"ignore\") # Ignore all warnings\n",
    "# warnings.filterwarnings(\"ignore\", category=RRuntimeWarning) # Show some warnings\n",
    "\n",
    "import pandas as pd\n",
    "import numpy as np\n",
    "import matplotlib.pyplot as plt\n",
    "from IPython.display import display, HTML"
   ]
  },
  {
   "cell_type": "code",
   "execution_count": 7,
   "id": "4067f0bc-385d-489c-9ecf-d86b1fb9c8ef",
   "metadata": {},
   "outputs": [
    {
     "data": {
      "application/javascript": [
       "// Disable auto-scrolling\n",
       "IPython.OutputArea.prototype._should_scroll = function(lines) {\n",
       "    return false;\n",
       "}\n"
      ],
      "text/plain": [
       "<IPython.core.display.Javascript object>"
      ]
     },
     "metadata": {},
     "output_type": "display_data"
    }
   ],
   "source": [
    "%%javascript\n",
    "// Disable auto-scrolling\n",
    "IPython.OutputArea.prototype._should_scroll = function(lines) {\n",
    "    return false;\n",
    "}"
   ]
  },
  {
   "cell_type": "code",
   "execution_count": 8,
   "id": "610b6912-ea00-4618-b945-84f913bfcc2f",
   "metadata": {},
   "outputs": [],
   "source": [
    "%%R\n",
    "\n",
    "# My commonly used R imports\n",
    "\n",
    "require('tidyverse')"
   ]
  },
  {
   "cell_type": "code",
   "execution_count": 9,
   "id": "f702d318-35cd-41a1-a450-1567a753f917",
   "metadata": {},
   "outputs": [
    {
     "name": "stdout",
     "output_type": "stream",
     "text": [
      "Rows: 148917888 Columns: 28\n",
      "── Column specification ────────────────────────────────────────────────────────\n",
      "Delimiter: \",\"\n",
      "chr  (5): lei, state_code, county_code, derived_dwelling_category, property_...\n",
      "dbl (23): activity_year, action_taken, loan_purpose, lien_status, loan_amoun...\n",
      "\n",
      "ℹ Use `spec()` to retrieve the full column specification for this data.\n",
      "ℹ Specify the column types or set `show_col_types = FALSE` to quiet this message.\n"
     ]
    }
   ],
   "source": [
    "%%R \n",
    "# Load libraries\n",
    "library(tidyverse)\n",
    "library(broom)\n",
    "\n",
    "# Load the dataset\n",
    "df <- read_csv(\"merged_hmda_with_demo.csv\")\n",
    "\n",
    "# Create binary outcome\n"
   ]
  },
  {
   "cell_type": "code",
   "execution_count": 10,
   "id": "5f96b0bb-019c-4a5f-8e55-f39ff3f23d39",
   "metadata": {},
   "outputs": [
    {
     "name": "stdout",
     "output_type": "stream",
     "text": [
      " [1] \"activity_year\"                     \"lei\"                              \n",
      " [3] \"state_code\"                        \"county_code\"                      \n",
      " [5] \"derived_dwelling_category\"         \"action_taken\"                     \n",
      " [7] \"loan_purpose\"                      \"lien_status\"                      \n",
      " [9] \"loan_amount\"                       \"property_value\"                   \n",
      "[11] \"occupancy_type\"                    \"income\"                           \n",
      "[13] \"applicant_race-1\"                  \"initially_payable_to_institution\" \n",
      "[15] \"aus-1\"                             \"aus-2\"                            \n",
      "[17] \"aus-3\"                             \"aus-4\"                            \n",
      "[19] \"aus-5\"                             \"denial_reason-1\"                  \n",
      "[21] \"ffiec_msa_md_median_family_income\" \"GINI_inequality\"                  \n",
      "[23] \"black\"                             \"employment_rate\"                  \n",
      "[25] \"hispanic\"                          \"median_household_income\"          \n",
      "[27] \"population\"                        \"white\"                            \n"
     ]
    }
   ],
   "source": [
    "%%R\n",
    "colnames(df)"
   ]
  },
  {
   "cell_type": "code",
   "execution_count": 11,
   "id": "677bf0c8-3829-403c-976d-ca013350fbbb",
   "metadata": {},
   "outputs": [
    {
     "data": {
      "text/plain": [
       "In addition: Warning message:\n",
       "There was 1 warning in `mutate()`.\n",
       "ℹ In argument: `county_code =\n",
       "  as.character(as.integer(as.numeric(county_code)))`.\n",
       "Caused by warning:\n",
       "! NAs introduced by coercion \n"
      ]
     },
     "metadata": {},
     "output_type": "display_data"
    }
   ],
   "source": [
    "%%R\n",
    "df_clean <- df %>%\n",
    "  filter(\n",
    "    loan_purpose == 1,  # Home purchase\n",
    "    derived_dwelling_category == \"Single Family (1-4 Units):Site-Built\",\n",
    "    occupancy_type == 1,  # Owner-occupied\n",
    "    income > 0\n",
    "  ) %>%\n",
    "  mutate(\n",
    "    approved = ifelse(action_taken %in% c(1, 2, 6), 1, 0),\n",
    "    post_georgefloyd = ifelse(activity_year >= 2020, 1, 0),\n",
    "    black_applicant = ifelse(`applicant_race-1` == 3, 1, 0),\n",
    "    white_applicant = ifelse(`applicant_race-1` == 1, 1, 0),\n",
    "    debt_to_income = loan_amount / income,\n",
    "    county_code = as.character(as.integer(as.numeric(county_code)))\n",
    "  ) %>%\n",
    "  filter(is.finite(debt_to_income))\n"
   ]
  },
  {
   "cell_type": "code",
   "execution_count": 12,
   "id": "32f9342d-4e93-46ae-96b7-4a83366d1fc6",
   "metadata": {},
   "outputs": [
    {
     "name": "stdout",
     "output_type": "stream",
     "text": [
      "\n",
      "Call:\n",
      "lm(formula = approved ~ post_georgefloyd, data = df_clean)\n",
      "\n",
      "Residuals:\n",
      "    Min      1Q  Median      3Q     Max \n",
      "-0.7629 -0.7371  0.2371  0.2629  0.2629 \n",
      "\n",
      "Coefficients:\n",
      "                   Estimate Std. Error t value Pr(>|t|)    \n",
      "(Intercept)       0.7629168  0.0001271  6001.4   <2e-16 ***\n",
      "post_georgefloyd -0.0258587  0.0001561  -165.6   <2e-16 ***\n",
      "---\n",
      "Signif. codes:  0 ‘***’ 0.001 ‘**’ 0.01 ‘*’ 0.05 ‘.’ 0.1 ‘ ’ 1\n",
      "\n",
      "Residual standard error: 0.4353 on 34772523 degrees of freedom\n",
      "Multiple R-squared:  0.0007882,\tAdjusted R-squared:  0.0007881 \n",
      "F-statistic: 2.743e+04 on 1 and 34772523 DF,  p-value: < 2.2e-16\n",
      "\n"
     ]
    }
   ],
   "source": [
    "%%R\n",
    "lm(approved ~ post_georgefloyd, data = df_clean) %>% summary()\n"
   ]
  },
  {
   "cell_type": "code",
   "execution_count": 13,
   "id": "2d67390f-62a6-4da0-975f-1411b5f186a1",
   "metadata": {},
   "outputs": [
    {
     "name": "stdout",
     "output_type": "stream",
     "text": [
      "\n",
      "Call:\n",
      "lm(formula = approved ~ post_georgefloyd, data = df_white)\n",
      "\n",
      "Residuals:\n",
      "    Min      1Q  Median      3Q     Max \n",
      "-0.6913 -0.6801  0.3087  0.3199  0.3199 \n",
      "\n",
      "Coefficients:\n",
      "                  Estimate Std. Error t value Pr(>|t|)    \n",
      "(Intercept)       0.691316   0.001626 425.137  < 2e-16 ***\n",
      "post_georgefloyd -0.011183   0.001923  -5.815 6.06e-09 ***\n",
      "---\n",
      "Signif. codes:  0 ‘***’ 0.001 ‘**’ 0.01 ‘*’ 0.05 ‘.’ 0.1 ‘ ’ 1\n",
      "\n",
      "Residual standard error: 0.4652 on 287083 degrees of freedom\n",
      "Multiple R-squared:  0.0001178,\tAdjusted R-squared:  0.0001143 \n",
      "F-statistic: 33.82 on 1 and 287083 DF,  p-value: 6.063e-09\n",
      "\n"
     ]
    }
   ],
   "source": [
    "%%R\n",
    "df_black <- df_clean %>% filter(black_applicant == 1)\n",
    "df_white <- df_clean %>% filter(white_applicant == 1)\n",
    "\n",
    "summary(lm(approved ~ post_georgefloyd, data = df_black))\n",
    "summary(lm(approved ~ post_georgefloyd, data = df_white))\n"
   ]
  },
  {
   "cell_type": "code",
   "execution_count": 14,
   "id": "7f843e6e-72e2-48ad-afa8-c15a930520c5",
   "metadata": {},
   "outputs": [
    {
     "name": "stdout",
     "output_type": "stream",
     "text": [
      "\n",
      "Call:\n",
      "lm(formula = approved ~ post_georgefloyd * black_applicant, data = df_clean)\n",
      "\n",
      "Residuals:\n",
      "    Min      1Q  Median      3Q     Max \n",
      "-0.7713 -0.6537  0.2545  0.2545  0.3463 \n",
      "\n",
      "Coefficients:\n",
      "                                   Estimate Std. Error t value Pr(>|t|)    \n",
      "(Intercept)                       0.7713291  0.0001322 5833.61   <2e-16 ***\n",
      "post_georgefloyd                 -0.0258130  0.0001628 -158.57   <2e-16 ***\n",
      "black_applicant                  -0.1059595  0.0004698 -225.55   <2e-16 ***\n",
      "post_georgefloyd:black_applicant  0.0141829  0.0005646   25.12   <2e-16 ***\n",
      "---\n",
      "Signif. codes:  0 ‘***’ 0.001 ‘**’ 0.01 ‘*’ 0.05 ‘.’ 0.1 ‘ ’ 1\n",
      "\n",
      "Residual standard error: 0.4344 on 34768147 degrees of freedom\n",
      "  (4374 observations deleted due to missingness)\n",
      "Multiple R-squared:  0.004702,\tAdjusted R-squared:  0.004702 \n",
      "F-statistic: 5.475e+04 on 3 and 34768147 DF,  p-value: < 2.2e-16\n",
      "\n"
     ]
    }
   ],
   "source": [
    "%%R\n",
    "summary(lm(approved ~ post_georgefloyd * black_applicant, data = df_clean))\n"
   ]
  },
  {
   "cell_type": "code",
   "execution_count": 17,
   "id": "16b2922b-ea81-4bb8-8833-0b2567cce75a",
   "metadata": {},
   "outputs": [
    {
     "name": "stdout",
     "output_type": "stream",
     "text": [
      "--- Please select a CRAN mirror for use in this session ---\n",
      "Secure CRAN mirrors \n",
      "\n",
      " 1: 0-Cloud [https]\n",
      " 2: Australia (Canberra) [https]\n",
      " 3: Australia (Melbourne 1) [https]\n",
      " 4: Australia (Melbourne 2) [https]\n",
      " 5: Austria (Wien 1) [https]\n",
      " 6: Belgium (Brussels) [https]\n",
      " 7: Brazil (PR) [https]\n",
      " 8: Brazil (SP 1) [https]\n",
      " 9: Brazil (SP 2) [https]\n",
      "10: Bulgaria [https]\n",
      "11: Canada (MB) [https]\n",
      "12: Canada (ON 1) [https]\n",
      "13: Canada (ON 2) [https]\n",
      "14: Chile (Santiago) [https]\n",
      "15: China (Beijing 1) [https]\n",
      "16: China (Beijing 2) [https]\n",
      "17: China (Beijing 3) [https]\n",
      "18: China (Hefei) [https]\n",
      "19: China (Hong Kong) [https]\n",
      "20: China (Jinan) [https]\n",
      "21: China (Lanzhou) [https]\n",
      "22: China (Nanjing) [https]\n",
      "23: China (Shanghai 2) [https]\n",
      "24: China (Shenzhen) [https]\n",
      "25: China (Wuhan) [https]\n",
      "26: Colombia (Cali) [https]\n",
      "27: Costa Rica [https]\n",
      "28: Cyprus [https]\n",
      "29: Czech Republic [https]\n",
      "30: Denmark [https]\n",
      "31: East Asia [https]\n",
      "32: Ecuador (Cuenca) [https]\n",
      "33: Finland (Helsinki) [https]\n",
      "34: France (Lyon 1) [https]\n",
      "35: France (Lyon 2) [https]\n",
      "36: France (Paris 1) [https]\n",
      "37: Germany (Erlangen) [https]\n",
      "38: Germany (Göttingen) [https]\n",
      "39: Germany (Leipzig) [https]\n",
      "40: Germany (Münster) [https]\n",
      "41: Greece [https]\n",
      "42: Hungary [https]\n",
      "43: Iceland [https]\n",
      "44: India (Bengaluru) [https]\n",
      "45: India (Bhubaneswar) [https]\n",
      "46: Indonesia (Banda Aceh) [https]\n",
      "47: Iran (Mashhad) [https]\n",
      "48: Italy (Milano) [https]\n",
      "49: Italy (Padua) [https]\n",
      "50: Japan (Yonezawa) [https]\n",
      "51: Korea (Gyeongsan-si) [https]\n",
      "52: Mexico (Mexico City) [https]\n",
      "53: Mexico (Texcoco) [https]\n",
      "54: Morocco [https]\n",
      "55: Netherlands (Dronten) [https]\n",
      "56: New Zealand [https]\n",
      "57: Norway [https]\n",
      "58: Poland [https]\n",
      "59: South Africa (Johannesburg) [https]\n",
      "60: Spain (A Coruña) [https]\n",
      "61: Spain (Madrid) [https]\n",
      "62: Sweden (Umeå) [https]\n",
      "63: Switzerland (Zurich 1) [https]\n",
      "64: Taiwan (Taipei) [https]\n",
      "65: Turkey (Denizli) [https]\n",
      "66: UK (Bristol) [https]\n",
      "67: UK (London 1) [https]\n",
      "68: USA (IA) [https]\n",
      "69: USA (MI) [https]\n",
      "70: USA (MO) [https]\n",
      "71: USA (OH) [https]\n",
      "72: USA (OR) [https]\n",
      "73: USA (PA 1) [https]\n",
      "74: USA (TN) [https]\n",
      "75: USA (UT) [https]\n",
      "76: United Arab Emirates [https]\n",
      "77: Uruguay [https]\n",
      "78: (other mirrors)\n",
      "\n"
     ]
    },
    {
     "name": "stdin",
     "output_type": "stream",
     "text": [
      "Selection:  66\n"
     ]
    },
    {
     "name": "stdout",
     "output_type": "stream",
     "text": [
      "\n",
      "The downloaded binary packages are in\n",
      "\t/var/folders/s2/1r_lbpts7pvcd7p7h17w62tm0000gn/T//Rtmpvy2T2m/downloaded_packages\n"
     ]
    },
    {
     "data": {
      "text/plain": [
       "trying URL 'https://www.stats.bris.ac.uk/R/bin/macosx/big-sur-arm64/contrib/4.4/fixest_0.12.1.tgz'\n",
       "Content type 'application/x-gzip' length 5328506 bytes (5.1 MB)\n",
       "==================================================\n",
       "downloaded 5.1 MB\n",
       "\n",
       "In addition: Warning message:\n",
       "In doTryCatch(return(expr), name, parentenv, handler) :\n",
       "  unable to load shared object '/Library/Frameworks/R.framework/Resources/modules//R_X11.so':\n",
       "  dlopen(/Library/Frameworks/R.framework/Resources/modules//R_X11.so, 0x0006): Library not loaded: /opt/X11/lib/libSM.6.dylib\n",
       "  Referenced from: <34C5A480-1AC4-30DF-83C9-30A913FC042E> /Library/Frameworks/R.framework/Versions/4.4-arm64/Resources/modules/R_X11.so\n",
       "  Reason: tried: '/opt/X11/lib/libSM.6.dylib' (no such file), '/System/Volumes/Preboot/Cryptexes/OS/opt/X11/lib/libSM.6.dylib' (no such file), '/opt/X11/lib/libSM.6.dylib' (no such file), '/usr/local/lib/libSM.6.dylib' (no such file), '/usr/lib/libSM.6.dylib' (no such file, not in dyld cache)\n"
      ]
     },
     "metadata": {},
     "output_type": "display_data"
    }
   ],
   "source": [
    "%%R\n",
    "# Install if needed\n",
    "install.packages(\"fixest\")\n",
    "\n",
    "# Load it\n",
    "library(fixest)\n"
   ]
  },
  {
   "cell_type": "code",
   "execution_count": 18,
   "id": "ba2063b5-fad9-4f89-bb7a-0dbd4b6ad1c5",
   "metadata": {},
   "outputs": [
    {
     "name": "stdout",
     "output_type": "stream",
     "text": [
      "GLM estimation, family = binomial, Dep. Var.: approved\n",
      "Observations: 33,554,407\n",
      "Fixed-effects: county_code: 3,230,  activity_year: 6,  lei: 5,675\n",
      "Standard-errors: Clustered (county_code) \n",
      "                                      Estimate   Std. Error    z value\n",
      "black_applicant                  -0.3654614827 1.093425e-02 -33.423551\n",
      "income                           -0.0000000116 7.380000e-09  -1.576896\n",
      "loan_amount                      -0.0000000138 2.219000e-08  -0.619998\n",
      "debt_to_income                   -0.0000426242 1.626600e-06 -26.204413\n",
      "post_georgefloyd:black_applicant -0.0005289084 5.077267e-03  -0.104172\n",
      "                                  Pr(>|z|)    \n",
      "black_applicant                  < 2.2e-16 ***\n",
      "income                             0.11482    \n",
      "loan_amount                        0.53526    \n",
      "debt_to_income                   < 2.2e-16 ***\n",
      "post_georgefloyd:black_applicant   0.91703    \n",
      "... 1 variable was removed because of collinearity (post_georgefloyd)\n",
      "---\n",
      "Signif. codes:  0 '***' 0.001 '**' 0.01 '*' 0.05 '.' 0.1 ' ' 1\n",
      "Log-Likelihood: -17,147,246.4   Adj. Pseudo R2: 0.051573\n",
      "           BIC:  34,448,960.6     Squared Cor.: 0.057258\n"
     ]
    },
    {
     "data": {
      "text/plain": [
       "NOTES: 1,193,089 observations removed because of NA values (RHS: 4,374, Fixed-effects: 1,188,844).\n",
       "       8/0/364 fixed-effects (25,029 observations) removed because of only 0 (or only 1) outcomes.\n",
       "The variable 'post_georgefloyd' has been removed because of collinearity (see $collin.var).\n"
      ]
     },
     "metadata": {},
     "output_type": "display_data"
    }
   ],
   "source": [
    "%%R\n",
    "fe_model <- feglm(\n",
    "  approved ~ post_georgefloyd * black_applicant + income + loan_amount + debt_to_income |\n",
    "    county_code + activity_year + lei,\n",
    "  data = df_clean,\n",
    "  family = \"binomial\"\n",
    ")\n",
    "summary(fe_model)\n"
   ]
  },
  {
   "cell_type": "code",
   "execution_count": 19,
   "id": "7a466f98-d683-4dc4-a017-8418fc773b45",
   "metadata": {},
   "outputs": [
    {
     "ename": "SyntaxError",
     "evalue": "invalid decimal literal (649347303.py, line 5)",
     "output_type": "error",
     "traceback": [
      "\u001b[0;36m  Cell \u001b[0;32mIn[19], line 5\u001b[0;36m\u001b[0m\n\u001b[0;31m    Min      1Q  Median      3Q     Max\u001b[0m\n\u001b[0m             ^\u001b[0m\n\u001b[0;31mSyntaxError\u001b[0m\u001b[0;31m:\u001b[0m invalid decimal literal\n"
     ]
    }
   ],
   "source": [
    "Call:\n",
    "lm(formula = approved ~ post_georgefloyd, data = df_white)\n",
    "\n",
    "Residuals:\n",
    "    Min      1Q  Median      3Q     Max \n",
    "-0.6913 -0.6801  0.3087  0.3199  0.3199 \n",
    "\n",
    "Coefficients:\n",
    "                  Estimate Std. Error t value Pr(>|t|)    \n",
    "(Intercept)       0.691316   0.001626 425.137  < 2e-16 ***\n",
    "post_georgefloyd -0.011183   0.001923  -5.815 6.06e-09 ***\n",
    "---\n",
    "Signif. codes:  0 ‘***’ 0.001 ‘**’ 0.01 ‘*’ 0.05 ‘.’ 0.1 ‘ ’ 1\n",
    "\n",
    "Residual standard error: 0.4652 on 287083 degrees of freedom\n",
    "Multiple R-squared:  0.0001178,\tAdjusted R-squared:  0.0001143 \n",
    "F-statistic: 33.82 on 1 and 287083 DF,  p-value: 6.063e-09"
   ]
  },
  {
   "cell_type": "code",
   "execution_count": null,
   "id": "7c5249ad-5829-40ad-aa19-43da7b894847",
   "metadata": {},
   "outputs": [],
   "source": [
    "%%R\n",
    "model_raw <- glm(\n",
    "  approved ~ post_georgefloyd * black_applicant + income + loan_amount + debt_to_income,\n",
    "  data = df_clean,\n",
    "  family = binomial(link = \"logit\")\n",
    ")\n",
    "\n",
    "summary(model_raw)\n"
   ]
  },
  {
   "cell_type": "code",
   "execution_count": null,
   "id": "50f6505e-c8b7-424f-b42f-155db2f08e38",
   "metadata": {},
   "outputs": [],
   "source": [
    "%%R\n",
    "library(ggplot2)\n",
    "library(dplyr)\n",
    "\n",
    "df_clean %>%\n",
    "  filter(`applicant_race-1` %in% c(1, 3)) %>%\n",
    "  mutate(race = ifelse(`applicant_race-1` == 3, \"Black\", \"White\")) %>%\n",
    "  group_by(activity_year, race) %>%\n",
    "  summarise(approval_rate = mean(approved, na.rm = TRUE), .groups = \"drop\") %>%\n",
    "  ggplot(aes(x = activity_year, y = approval_rate, color = race)) +\n",
    "  geom_line(size = 1.2) +\n",
    "  geom_point(size = 2) +\n",
    "  scale_y_continuous(labels = scales::percent_format(accuracy = 1)) +\n",
    "  labs(\n",
    "    title = \"Approval Rate by Year and Race\",\n",
    "    x = \"Year\",\n",
    "    y = \"Approval Rate\",\n",
    "    color = \"Race\"\n",
    "  ) +\n",
    "  theme_minimal(base_size = 14)\n"
   ]
  },
  {
   "cell_type": "code",
   "execution_count": null,
   "id": "4521f70e-93f9-47e8-a3ff-736c6c83f282",
   "metadata": {},
   "outputs": [],
   "source": [
    "%%R\n",
    "df_clean %>%\n",
    "  filter(`applicant_race-1` %in% c(1, 3)) %>%\n",
    "  mutate(\n",
    "    race = ifelse(`applicant_race-1` == 3, \"Black\", \"White\"),\n",
    "    period = ifelse(activity_year >= 2020, \"Post-2020\", \"Pre-2020\")\n",
    "  ) %>%\n",
    "  group_by(period, race) %>%\n",
    "  summarise(approval_rate = mean(approved), n = n(), .groups = \"drop\") %>%\n",
    "  ggplot(aes(x = period, y = approval_rate, fill = race)) +\n",
    "  geom_bar(stat = \"identity\", position = \"dodge\") +\n",
    "  scale_y_continuous(labels = scales::percent_format(accuracy = 1)) +\n",
    "  labs(\n",
    "    title = \"Approval Rate Before vs After 2020\",\n",
    "    x = \"Period\",\n",
    "    y = \"Approval Rate\",\n",
    "    fill = \"Race\"\n",
    "  ) +\n",
    "  theme_minimal(base_size = 14)\n"
   ]
  },
  {
   "cell_type": "code",
   "execution_count": null,
   "id": "3412e597-2d26-4b99-868b-7f87e1dbe5b3",
   "metadata": {},
   "outputs": [],
   "source": [
    "%%R\n",
    "library(ggrepel)\n",
    "\n",
    "# Step 1: Fit linear model and calculate residuals\n",
    "county_summary <- county_summary %>%\n",
    "  mutate(\n",
    "    pct_black = pct_black / 100  # convert to 0–1 if needed\n",
    "  ) %>%\n",
    "  mutate(\n",
    "    fitted = predict(lm(approval_rate ~ pct_black, data = .)),\n",
    "    residual = approval_rate - fitted,\n",
    "    outlier = abs(residual) > 0.1\n",
    "  )\n",
    "\n",
    "\n",
    "# Step 2: Plot with geom_text_repel for outliers\n",
    "ggplot(county_summary, aes(x = pct_black, y = approval_rate)) +\n",
    "  geom_point(aes(color = outlier), alpha = 0.6) +\n",
    "  geom_smooth(method = \"lm\", color = \"blue\", se = FALSE) +\n",
    "  geom_text_repel(\n",
    "    data = filter(county_summary, outlier == TRUE),\n",
    "    aes(label = county_code),  # Change this to county_name if available\n",
    "    size = 3, color = \"red\", max.overlaps = 15\n",
    "  ) +\n",
    "  scale_color_manual(values = c(\"FALSE\" = \"gray60\", \"TRUE\" = \"red\")) +\n",
    "  scale_x_continuous(labels = scales::percent_format(accuracy = 1)) +\n",
    "  scale_y_continuous(labels = scales::percent_format(accuracy = 1)) +\n",
    "  labs(\n",
    "    title = \"Approval Rate vs. % Black Population (with Outliers Labeled)\",\n",
    "    subtitle = \"Counties with > 50 loans; outliers = red residual > ±10%\",\n",
    "    x = \"Percent of County Population that is Black\",\n",
    "    y = \"Mortgage Approval Rate\",\n",
    "    color = \"Outlier\"\n",
    "  ) +\n",
    "  theme_minimal(base_size = 14)\n"
   ]
  },
  {
   "cell_type": "code",
   "execution_count": null,
   "id": "8732b4f9-16dc-4604-92ba-4da19322553c",
   "metadata": {},
   "outputs": [],
   "source": [
    "%%R\n",
    "library(dplyr)\n",
    "library(ggplot2)\n",
    "library(scales)\n",
    "\n",
    "# Step 1: Add pre/post period\n",
    "df_period <- df_clean %>%\n",
    "  filter(activity_year >= 2018) %>%\n",
    "  mutate(\n",
    "    period = ifelse(activity_year < 2020, \"Pre-2020\", \"Post-2020\")\n",
    "  )\n",
    "\n",
    "# Step 2: Aggregate to county-period level\n",
    "county_summary <- df_period %>%\n",
    "  group_by(county_code, period) %>%\n",
    "  summarise(\n",
    "    approval_rate = mean(approved, na.rm = TRUE),\n",
    "    pct_black = mean(black, na.rm = TRUE),\n",
    "    n_loans = n(),\n",
    "    .groups = \"drop\"\n",
    "  ) %>%\n",
    "  filter(n_loans >= 50, is.finite(pct_black)) %>%\n",
    "  mutate(pct_black = ifelse(pct_black > 1, pct_black / 100, pct_black))  # ensure 0–1 scale\n",
    "\n",
    "# Step 3: Plot\n",
    "ggplot(county_summary, aes(x = pct_black, y = approval_rate, color = period)) +\n",
    "  geom_point(alpha = 0.4) +\n",
    "  geom_smooth(method = \"lm\", se = FALSE, linewidth = 1.2) +\n",
    "  scale_x_continuous(\n",
    "    name = \"% Black Population (County)\",\n",
    "    labels = percent_format(accuracy = 1),\n",
    "    breaks = seq(0, 0.5, by = 0.1)\n",
    "  ) +\n",
    "  scale_y_continuous(labels = percent_format(accuracy = 1)) +\n",
    "  labs(\n",
    "    title = \"Mortgage Approval Rate vs. % Black Population by Period\",\n",
    "    subtitle = \"Counties with ≥ 50 loans, grouped pre- vs. post-2020\",\n",
    "    y = \"Mortgage Approval Rate\",\n",
    "    color = \"Period\"\n",
    "  ) +\n",
    "  theme_minimal(base_size = 14)\n"
   ]
  },
  {
   "cell_type": "code",
   "execution_count": null,
   "id": "011b4e90-11cf-4887-a030-9c0954ba9448",
   "metadata": {},
   "outputs": [],
   "source": [
    "%%R\n",
    "library(dplyr)\n",
    "library(ggplot2)\n",
    "library(scales)\n",
    "\n",
    "# Step 1: Add period\n",
    "df_period <- df_clean %>%\n",
    "  filter(activity_year >= 2018) %>%\n",
    "  mutate(\n",
    "    period = ifelse(activity_year < 2020, \"Pre-2020\", \"Post-2020\")\n",
    "  )\n",
    "\n",
    "# Step 2: Aggregate to county-period level\n",
    "county_summary <- df_period %>%\n",
    "  group_by(state_code, county_code, period) %>%\n",
    "  summarise(\n",
    "    approval_rate = mean(approved, na.rm = TRUE),\n",
    "    pct_black = mean(black, na.rm = TRUE),\n",
    "    n_loans = n(),\n",
    "    .groups = \"drop\"\n",
    "  ) %>%\n",
    "  filter(n_loans >= 50, is.finite(pct_black)) %>%\n",
    "  mutate(pct_black = ifelse(pct_black > 1, pct_black / 100, pct_black))\n",
    "\n",
    "# Step 3: Plot — one line per county, faceted by state\n",
    "ggplot(county_summary, aes(x = pct_black, y = approval_rate, color = period)) +\n",
    "  geom_point(alpha = 0.4, size = 1) +\n",
    "  geom_smooth(method = \"lm\", se = FALSE) +\n",
    "  facet_wrap(~ state_code) +\n",
    "  scale_x_continuous(\n",
    "    name = \"% Black Population (County)\",\n",
    "    labels = percent_format(accuracy = 1)\n",
    "  ) +\n",
    "  scale_y_continuous(labels = percent_format(accuracy = 1)) +\n",
    "  labs(\n",
    "    title = \"Mortgage Approval Rate vs. % Black Population by County\",\n",
    "    subtitle = \"Faceted by State; Pre/Post 2020 Comparison\",\n",
    "    y = \"Mortgage Approval Rate\",\n",
    "    color = \"Period\"\n",
    "  ) +\n",
    "  theme_minimal(base_size = 12) +\n",
    "  theme(strip.text = element_text(face = \"bold\"))\n",
    "ggsave(\"approval_facet_by_state.png\", width = 16, height = 10, dpi = 300)\n",
    "\n"
   ]
  },
  {
   "cell_type": "code",
   "execution_count": null,
   "id": "a9e6a8e3-8c08-498d-9e5d-96aa1f1a69a9",
   "metadata": {},
   "outputs": [],
   "source": [
    "%%R\n",
    "library(dplyr)\n",
    "\n",
    "# Step 1: Fit slopes for each state and period\n",
    "slopes_by_state <- county_summary %>%\n",
    "  group_by(state_code, period) %>%\n",
    "  summarise(\n",
    "    slope = coef(lm(approval_rate ~ pct_black))[[\"pct_black\"]],\n",
    "    .groups = \"drop\"\n",
    "  )\n",
    "\n",
    "# Step 2: Pivot wider so we have pre and post in columns\n",
    "library(tidyr)\n",
    "\n",
    "slopes_wide <- slopes_by_state %>%\n",
    "  pivot_wider(names_from = period, values_from = slope) %>%\n",
    "  mutate(\n",
    "    slope_change = `Post-2020` - `Pre-2020`\n",
    "  ) %>%\n",
    "  arrange(desc(slope_change))  # Rank by how much slope increased\n",
    "\n"
   ]
  },
  {
   "cell_type": "code",
   "execution_count": null,
   "id": "894524f3-c586-4ca4-a255-67a0139a624b",
   "metadata": {},
   "outputs": [],
   "source": [
    "%%R\n",
    "library(ggplot2)\n",
    "\n",
    "ggplot(slopes_wide, aes(x = reorder(state_code, slope_change), y = slope_change)) +\n",
    "  geom_col(fill = \"steelblue\") +\n",
    "  coord_flip() +\n",
    "  labs(\n",
    "    title = \"Change in Slope: % Black vs. Approval Rate (Post-2020 vs Pre-2020)\",\n",
    "    x = \"State\",\n",
    "    y = \"Slope Change (Post - Pre)\"\n",
    "  ) +\n",
    "  theme_minimal(base_size = 14)\n"
   ]
  },
  {
   "cell_type": "code",
   "execution_count": null,
   "id": "5d212a2e-8f74-4129-9856-567675de0d6a",
   "metadata": {},
   "outputs": [],
   "source": [
    "%%R\n",
    "df_clean <- df %>%\n",
    "  mutate(\n",
    "    income = as.numeric(income),  # just in case it's character\n",
    "    debt_to_income = loan_amount / income\n",
    "  ) %>%\n",
    "  filter(is.finite(debt_to_income), income > 0)\n"
   ]
  },
  {
   "cell_type": "code",
   "execution_count": 21,
   "id": "97daf5af-5210-4621-9a15-6f93b2c0b0fb",
   "metadata": {},
   "outputs": [],
   "source": [
    "%%R\n",
    "library(dplyr)\n",
    "library(tidyr)\n",
    "library(purrr)\n",
    "library(broom)\n",
    "\n",
    "# Step 1: Create period variable and summarize by county + period\n",
    "county_period_df <- df_clean %>%\n",
    "  filter(activity_year >= 2018) %>%\n",
    "  mutate(\n",
    "    period = ifelse(activity_year < 2020, \"Pre-2020\", \"Post-2020\")\n",
    "  ) %>%\n",
    "  group_by(state_code, county_code, period) %>%\n",
    "  summarise(\n",
    "    approval_rate = mean(approved, na.rm = TRUE),\n",
    "    pct_black = mean(black, na.rm = TRUE),\n",
    "    n = n(),\n",
    "    .groups = \"drop\"\n",
    "  ) %>%\n",
    "  filter(n >= 50, is.finite(pct_black)) %>%\n",
    "  mutate(pct_black = ifelse(pct_black > 1, pct_black / 100, pct_black))\n",
    "\n",
    "# Step 2: Run lm(approval_rate ~ pct_black) per state and period\n",
    "slopes_by_state <- county_period_df %>%\n",
    "  group_by(state_code, period) %>%\n",
    "  group_split() %>%\n",
    "  map_dfr(~ {\n",
    "    df <- .\n",
    "    model <- lm(approval_rate ~ pct_black, data = df)\n",
    "    broom::tidy(model) %>%\n",
    "      filter(term == \"pct_black\") %>%\n",
    "      mutate(state_code = unique(df$state_code), period = unique(df$period))\n",
    "  })\n",
    "\n",
    "# Step 3: Pivot and compute slope difference\n",
    "slope_change_df <- slopes_by_state %>%\n",
    "  select(state_code, period, estimate) %>%\n",
    "  pivot_wider(names_from = period, values_from = estimate) %>%\n",
    "  mutate(slope_change = `Post-2020` - `Pre-2020`) %>%\n",
    "  arrange(desc(slope_change))\n",
    "\n"
   ]
  },
  {
   "cell_type": "code",
   "execution_count": 22,
   "id": "6039e05e-dd50-4e3f-9e39-765b7e078277",
   "metadata": {},
   "outputs": [
    {
     "name": "stderr",
     "output_type": "stream",
     "text": [
      "R[write to console]: In addition: \n",
      "R[write to console]: Warning message:\n",
      "\n",
      "R[write to console]: Removed 1 row containing missing values or values outside the scale range\n",
      "(`geom_col()`). \n",
      "\n"
     ]
    },
    {
     "data": {
      "image/png": "[encoded data removed]",
      "text/plain": [
       "<IPython.core.display.Image object>"
      ]
     },
     "metadata": {},
     "output_type": "display_data"
    }
   ],
   "source": [
    "%%R\n",
    "library(ggplot2)\n",
    "\n",
    "ggplot(slope_change_df, aes(x = reorder(state_code, slope_change), y = slope_change)) +\n",
    "  geom_col(fill = \"steelblue\") +\n",
    "  coord_flip() +\n",
    "  labs(\n",
    "    title = \"Shift in County-Level Racial Disparity Slopes (Post-2020 vs Pre-2020)\",\n",
    "    subtitle = \"Based on: approval_rate ~ pct_black\",\n",
    "    x = \"State\",\n",
    "    y = \"Slope Change (Post - Pre)\"\n",
    "  ) +\n",
    "  theme_minimal(base_size = 14)\n"
   ]
  },
  {
   "cell_type": "code",
   "execution_count": null,
   "id": "0793876d-3087-4766-9be0-d1b8a1c11fad",
   "metadata": {},
   "outputs": [],
   "source": []
  }
 ],
 "metadata": {
  "kernelspec": {
   "display_name": "Python 3 (ipykernel)",
   "language": "python",
   "name": "python3"
  },
  "language_info": {
   "codemirror_mode": {
    "name": "ipython",
    "version": 3
   },
   "file_extension": ".py",
   "mimetype": "text/x-python",
   "name": "python",
   "nbconvert_exporter": "python",
   "pygments_lexer": "ipython3",
   "version": "3.10.12"
  }
 },
 "nbformat": 4,
 "nbformat_minor": 5
}
